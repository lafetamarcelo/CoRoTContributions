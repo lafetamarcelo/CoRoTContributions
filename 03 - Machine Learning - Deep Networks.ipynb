{
 "cells": [
  {
   "cell_type": "markdown",
   "metadata": {},
   "source": [
    "# Deep Networks\n",
    "\n",
    "The first algorithm that we will use is the XGBoost with its random forest classifier. This example uses a random forest version of the XGBoost classifier. This algorithm will be used for each generated feature, namelly:\n",
    "\n",
    "- Periodograms\n",
    "- Bayes Similarity\n",
    "- Hidden Markov Models\n",
    "\n",
    "All approaches will pass trough the common machine learning pipeline, where we must:\n",
    "\n",
    "- Normalize the data (if necessary)\n",
    "- Divide the data between trainning and testing\n",
    "- Search the hyper parameters\n",
    "- Cross validate the models\n",
    "- Analyse the results"
   ]
  },
  {
   "cell_type": "markdown",
   "metadata": {},
   "source": [
    "## Periodograms\n",
    "\n",
    "The application using the periodograms is actually pretty simple, now that the data is prepared and all of those preprocessing from last pipeline step is already done. The algorithm became straigh forward. First it is necessary to read the features generated."
   ]
  },
  {
   "cell_type": "code",
   "execution_count": 2,
   "metadata": {},
   "outputs": [
    {
     "data": {
      "text/plain": [
       "dict_keys(['features', 'labels'])"
      ]
     },
     "execution_count": 2,
     "metadata": {},
     "output_type": "execute_result"
    }
   ],
   "source": [
    "import pickle \n",
    "\n",
    "file_name = './features/freq_data/freq_data.pkl' \n",
    "with open(file_name, 'rb') as file:\n",
    "    freq_data = pickle.load(file)\n",
    "freq_data.keys()"
   ]
  },
  {
   "cell_type": "markdown",
   "metadata": {},
   "source": [
    "### Manipulate features\n",
    "\n",
    "After reading the data, it is necessary to create the classical regression structure model in the format $Y = f\\left(\\Theta, X\\right)$, normalize the feature data and encode any possible label data into numerical classes. This is just the preparation for the machine leaning algorithm to guarantee that the provided info is properlly designed for any machine learning classical form."
   ]
  },
  {
   "cell_type": "code",
   "execution_count": 3,
   "metadata": {},
   "outputs": [],
   "source": [
    "import numpy as np\n",
    "from sklearn import preprocessing\n",
    "\n",
    "# Create the label encoder\n",
    "le_freq = preprocessing.LabelEncoder()\n",
    "le_freq.fit(freq_data['labels'])\n",
    "\n",
    "# Define the regression model\n",
    "regressors = preprocessing.normalize(freq_data['features']['spec'])\n",
    "outputs = le_freq.transform(freq_data['labels'])"
   ]
  },
  {
   "cell_type": "code",
   "execution_count": 4,
   "metadata": {},
   "outputs": [
    {
     "data": {
      "text/plain": [
       "12758"
      ]
     },
     "execution_count": 4,
     "metadata": {},
     "output_type": "execute_result"
    }
   ],
   "source": [
    "regressors.shape[1]"
   ]
  },
  {
   "cell_type": "markdown",
   "metadata": {},
   "source": [
    "Also it is interesting to reduce the features dimension to build a simpler model. It is not necessary to create a classifier with such amount (12758 features...) of features. There are several techniques that can be used to reduce the features dimensions. The Principal Component Analisys, is very effective when dealing with high dimensional data. Here the `PCA` algorithm from the `sklearn` library is used."
   ]
  },
  {
   "cell_type": "code",
   "execution_count": 5,
   "metadata": {},
   "outputs": [],
   "source": [
    "from sklearn.decomposition import PCA\n",
    "\n",
    "# Create the PCA decomposer\n",
    "pca_dec = PCA(n_components=69, svd_solver='arpack')\n",
    "\n",
    "# Train the PCA object\n",
    "pca_dec.fit(regressors)\n",
    "\n",
    "# Transform the data using\n",
    "# the PCA model\n",
    "pca_regressor = pca_dec.transform(regressors)"
   ]
  },
  {
   "cell_type": "markdown",
   "metadata": {},
   "source": [
    "### Train-test data split\n",
    "\n",
    "Next it is necessary to segregate the data into a set for validation and one for trainning the model."
   ]
  },
  {
   "cell_type": "code",
   "execution_count": 6,
   "metadata": {},
   "outputs": [],
   "source": [
    "from sklearn.model_selection import train_test_split\n",
    "\n",
    "X_train, X_test, y_train, y_test = train_test_split( \n",
    "    pca_regressor, outputs, test_size=0.33, random_state=42)"
   ]
  },
  {
   "cell_type": "markdown",
   "metadata": {},
   "source": [
    "### Train model\n",
    "\n",
    "After running the hyper parameter search we can create a model with the best defined hyper parameters, or setup parameters, and consolidate the model in to the best version for further performance analysis. The model is saved on a particular variable, such as `freq_clf` to be further used in some vote chain model, if further necessary. \n",
    "\n",
    "> *One interesting result from the above result, is that the best compromise result happens at the $n_x = 5$ not on $n_x=4$ as it seems. Even though for the $n_x=4$ the algorithm is able to get all the exo planets, the compromise on having a confidence of only 66% for the eclipsing binaries classification (classifier close to a coin flipper to classify eclipsing binaries), doesn't allow us to select $n_x=4$. Therefore the best trade-off on both classes happens at $n_x=5$.* "
   ]
  },
  {
   "cell_type": "code",
   "execution_count": 26,
   "metadata": {},
   "outputs": [
    {
     "name": "stdout",
     "output_type": "stream",
     "text": [
      "Train on 46 samples, validate on 31 samples\n",
      "Epoch 1/200\n",
      "46/46 [==============================] - 0s 3ms/step - loss: 0.6959 - accuracy: 0.4130 - val_loss: 0.6900 - val_accuracy: 0.5806\n",
      "Epoch 2/200\n",
      "46/46 [==============================] - 0s 196us/step - loss: 0.6898 - accuracy: 0.7174 - val_loss: 0.6942 - val_accuracy: 0.4839\n",
      "Epoch 3/200\n",
      "46/46 [==============================] - 0s 182us/step - loss: 0.6858 - accuracy: 0.7391 - val_loss: 0.6980 - val_accuracy: 0.4516\n",
      "Epoch 4/200\n",
      "46/46 [==============================] - 0s 239us/step - loss: 0.6824 - accuracy: 0.7391 - val_loss: 0.7014 - val_accuracy: 0.3871\n",
      "Epoch 5/200\n",
      "46/46 [==============================] - 0s 245us/step - loss: 0.6794 - accuracy: 0.7609 - val_loss: 0.7047 - val_accuracy: 0.3548\n",
      "Epoch 6/200\n",
      "46/46 [==============================] - 0s 411us/step - loss: 0.6765 - accuracy: 0.7609 - val_loss: 0.7076 - val_accuracy: 0.2903\n",
      "Epoch 7/200\n",
      "46/46 [==============================] - 0s 299us/step - loss: 0.6741 - accuracy: 0.7609 - val_loss: 0.7103 - val_accuracy: 0.2581\n",
      "Epoch 8/200\n",
      "46/46 [==============================] - 0s 336us/step - loss: 0.6716 - accuracy: 0.7826 - val_loss: 0.7131 - val_accuracy: 0.2581\n",
      "Epoch 9/200\n",
      "46/46 [==============================] - 0s 192us/step - loss: 0.6692 - accuracy: 0.7826 - val_loss: 0.7160 - val_accuracy: 0.2581\n",
      "Epoch 10/200\n",
      "46/46 [==============================] - 0s 268us/step - loss: 0.6668 - accuracy: 0.7826 - val_loss: 0.7190 - val_accuracy: 0.2258\n",
      "Epoch 11/200\n",
      "46/46 [==============================] - 0s 306us/step - loss: 0.6644 - accuracy: 0.7826 - val_loss: 0.7218 - val_accuracy: 0.2258\n",
      "Epoch 12/200\n",
      "46/46 [==============================] - 0s 336us/step - loss: 0.6621 - accuracy: 0.8043 - val_loss: 0.7249 - val_accuracy: 0.1935\n",
      "Epoch 13/200\n",
      "46/46 [==============================] - 0s 283us/step - loss: 0.6598 - accuracy: 0.8043 - val_loss: 0.7277 - val_accuracy: 0.1613\n",
      "Epoch 14/200\n",
      "46/46 [==============================] - 0s 288us/step - loss: 0.6575 - accuracy: 0.8261 - val_loss: 0.7306 - val_accuracy: 0.1613\n",
      "Epoch 15/200\n",
      "46/46 [==============================] - 0s 325us/step - loss: 0.6552 - accuracy: 0.8261 - val_loss: 0.7334 - val_accuracy: 0.0968\n",
      "Epoch 16/200\n",
      "46/46 [==============================] - 0s 283us/step - loss: 0.6531 - accuracy: 0.8261 - val_loss: 0.7362 - val_accuracy: 0.0323\n",
      "Epoch 17/200\n",
      "46/46 [==============================] - 0s 327us/step - loss: 0.6508 - accuracy: 0.8261 - val_loss: 0.7394 - val_accuracy: 0.0323\n",
      "Epoch 18/200\n",
      "46/46 [==============================] - 0s 328us/step - loss: 0.6486 - accuracy: 0.8261 - val_loss: 0.7423 - val_accuracy: 0.0323\n",
      "Epoch 19/200\n",
      "46/46 [==============================] - 0s 313us/step - loss: 0.6465 - accuracy: 0.8261 - val_loss: 0.7451 - val_accuracy: 0.0323\n",
      "Epoch 20/200\n",
      "46/46 [==============================] - 0s 317us/step - loss: 0.6442 - accuracy: 0.8261 - val_loss: 0.7480 - val_accuracy: 0.0323\n",
      "Epoch 21/200\n",
      "46/46 [==============================] - 0s 236us/step - loss: 0.6421 - accuracy: 0.8261 - val_loss: 0.7508 - val_accuracy: 0.0323\n",
      "Epoch 22/200\n",
      "46/46 [==============================] - 0s 189us/step - loss: 0.6400 - accuracy: 0.8261 - val_loss: 0.7537 - val_accuracy: 0.0323\n",
      "Epoch 23/200\n",
      "46/46 [==============================] - 0s 201us/step - loss: 0.6379 - accuracy: 0.8261 - val_loss: 0.7565 - val_accuracy: 0.0323\n",
      "Epoch 24/200\n",
      "46/46 [==============================] - 0s 186us/step - loss: 0.6358 - accuracy: 0.8261 - val_loss: 0.7591 - val_accuracy: 0.0323\n",
      "Epoch 25/200\n",
      "46/46 [==============================] - 0s 186us/step - loss: 0.6337 - accuracy: 0.8261 - val_loss: 0.7620 - val_accuracy: 0.0323\n",
      "Epoch 26/200\n",
      "46/46 [==============================] - 0s 229us/step - loss: 0.6316 - accuracy: 0.8261 - val_loss: 0.7647 - val_accuracy: 0.0323\n",
      "Epoch 27/200\n",
      "46/46 [==============================] - 0s 180us/step - loss: 0.6296 - accuracy: 0.8261 - val_loss: 0.7673 - val_accuracy: 0.0323\n",
      "Epoch 28/200\n",
      "46/46 [==============================] - 0s 188us/step - loss: 0.6275 - accuracy: 0.8261 - val_loss: 0.7703 - val_accuracy: 0.0323\n",
      "Epoch 29/200\n",
      "46/46 [==============================] - 0s 190us/step - loss: 0.6253 - accuracy: 0.8261 - val_loss: 0.7733 - val_accuracy: 0.0323\n",
      "Epoch 30/200\n",
      "46/46 [==============================] - 0s 196us/step - loss: 0.6231 - accuracy: 0.8261 - val_loss: 0.7762 - val_accuracy: 0.0323\n",
      "Epoch 31/200\n",
      "46/46 [==============================] - 0s 173us/step - loss: 0.6211 - accuracy: 0.8261 - val_loss: 0.7789 - val_accuracy: 0.0323\n",
      "Epoch 32/200\n",
      "46/46 [==============================] - 0s 236us/step - loss: 0.6190 - accuracy: 0.8261 - val_loss: 0.7816 - val_accuracy: 0.0323\n",
      "Epoch 33/200\n",
      "46/46 [==============================] - 0s 244us/step - loss: 0.6168 - accuracy: 0.8261 - val_loss: 0.7850 - val_accuracy: 0.0323\n",
      "Epoch 34/200\n",
      "46/46 [==============================] - 0s 331us/step - loss: 0.6144 - accuracy: 0.8261 - val_loss: 0.7880 - val_accuracy: 0.0323\n",
      "Epoch 35/200\n",
      "46/46 [==============================] - 0s 314us/step - loss: 0.6122 - accuracy: 0.8261 - val_loss: 0.7910 - val_accuracy: 0.0323\n",
      "Epoch 36/200\n",
      "46/46 [==============================] - 0s 293us/step - loss: 0.6099 - accuracy: 0.8261 - val_loss: 0.7943 - val_accuracy: 0.0000e+00\n",
      "Epoch 37/200\n",
      "46/46 [==============================] - 0s 255us/step - loss: 0.6075 - accuracy: 0.8261 - val_loss: 0.7975 - val_accuracy: 0.0000e+00\n",
      "Epoch 38/200\n",
      "46/46 [==============================] - 0s 277us/step - loss: 0.6051 - accuracy: 0.8261 - val_loss: 0.8009 - val_accuracy: 0.0000e+00\n",
      "Epoch 39/200\n",
      "46/46 [==============================] - 0s 200us/step - loss: 0.6027 - accuracy: 0.8261 - val_loss: 0.8044 - val_accuracy: 0.0000e+00\n",
      "Epoch 40/200\n",
      "46/46 [==============================] - 0s 300us/step - loss: 0.5998 - accuracy: 0.8261 - val_loss: 0.8083 - val_accuracy: 0.0000e+00\n",
      "Epoch 41/200\n",
      "46/46 [==============================] - 0s 341us/step - loss: 0.5970 - accuracy: 0.8261 - val_loss: 0.8121 - val_accuracy: 0.0000e+00\n",
      "Epoch 42/200\n",
      "46/46 [==============================] - 0s 380us/step - loss: 0.5943 - accuracy: 0.8261 - val_loss: 0.8159 - val_accuracy: 0.0000e+00\n",
      "Epoch 43/200\n",
      "46/46 [==============================] - 0s 204us/step - loss: 0.5916 - accuracy: 0.8261 - val_loss: 0.8197 - val_accuracy: 0.0000e+00\n",
      "Epoch 44/200\n",
      "46/46 [==============================] - 0s 301us/step - loss: 0.5889 - accuracy: 0.8261 - val_loss: 0.8234 - val_accuracy: 0.0000e+00\n",
      "Epoch 45/200\n",
      "46/46 [==============================] - 0s 207us/step - loss: 0.5862 - accuracy: 0.8261 - val_loss: 0.8273 - val_accuracy: 0.0000e+00\n",
      "Epoch 46/200\n",
      "46/46 [==============================] - 0s 260us/step - loss: 0.5835 - accuracy: 0.8261 - val_loss: 0.8312 - val_accuracy: 0.0000e+00\n",
      "Epoch 47/200\n",
      "46/46 [==============================] - 0s 239us/step - loss: 0.5809 - accuracy: 0.8261 - val_loss: 0.8348 - val_accuracy: 0.0000e+00\n",
      "Epoch 48/200\n",
      "46/46 [==============================] - 0s 204us/step - loss: 0.5784 - accuracy: 0.8261 - val_loss: 0.8384 - val_accuracy: 0.0000e+00\n",
      "Epoch 49/200\n",
      "46/46 [==============================] - 0s 271us/step - loss: 0.5758 - accuracy: 0.8261 - val_loss: 0.8421 - val_accuracy: 0.0000e+00\n",
      "Epoch 50/200\n",
      "46/46 [==============================] - 0s 274us/step - loss: 0.5731 - accuracy: 0.8261 - val_loss: 0.8463 - val_accuracy: 0.0000e+00\n",
      "Epoch 51/200\n",
      "46/46 [==============================] - 0s 222us/step - loss: 0.5705 - accuracy: 0.8261 - val_loss: 0.8501 - val_accuracy: 0.0000e+00\n",
      "Epoch 52/200\n",
      "46/46 [==============================] - 0s 292us/step - loss: 0.5679 - accuracy: 0.8261 - val_loss: 0.8544 - val_accuracy: 0.0000e+00\n",
      "Epoch 53/200\n",
      "46/46 [==============================] - 0s 217us/step - loss: 0.5653 - accuracy: 0.8261 - val_loss: 0.8582 - val_accuracy: 0.0000e+00\n",
      "Epoch 54/200\n",
      "46/46 [==============================] - 0s 320us/step - loss: 0.5627 - accuracy: 0.8261 - val_loss: 0.8625 - val_accuracy: 0.0000e+00\n",
      "Epoch 55/200\n",
      "46/46 [==============================] - 0s 242us/step - loss: 0.5601 - accuracy: 0.8261 - val_loss: 0.8663 - val_accuracy: 0.0000e+00\n",
      "Epoch 56/200\n",
      "46/46 [==============================] - 0s 427us/step - loss: 0.5577 - accuracy: 0.8261 - val_loss: 0.8702 - val_accuracy: 0.0000e+00\n",
      "Epoch 57/200\n"
     ]
    },
    {
     "name": "stdout",
     "output_type": "stream",
     "text": [
      "46/46 [==============================] - 0s 288us/step - loss: 0.5551 - accuracy: 0.8261 - val_loss: 0.8746 - val_accuracy: 0.0000e+00\n",
      "Epoch 58/200\n",
      "46/46 [==============================] - 0s 320us/step - loss: 0.5525 - accuracy: 0.8261 - val_loss: 0.8786 - val_accuracy: 0.0000e+00\n",
      "Epoch 59/200\n",
      "46/46 [==============================] - 0s 455us/step - loss: 0.5500 - accuracy: 0.8261 - val_loss: 0.8828 - val_accuracy: 0.0000e+00\n",
      "Epoch 60/200\n",
      "46/46 [==============================] - 0s 245us/step - loss: 0.5476 - accuracy: 0.8261 - val_loss: 0.8872 - val_accuracy: 0.0000e+00\n",
      "Epoch 61/200\n",
      "46/46 [==============================] - 0s 206us/step - loss: 0.5450 - accuracy: 0.8261 - val_loss: 0.8908 - val_accuracy: 0.0000e+00\n",
      "Epoch 62/200\n",
      "46/46 [==============================] - 0s 179us/step - loss: 0.5427 - accuracy: 0.8261 - val_loss: 0.8946 - val_accuracy: 0.0000e+00\n",
      "Epoch 63/200\n",
      "46/46 [==============================] - 0s 214us/step - loss: 0.5404 - accuracy: 0.8261 - val_loss: 0.8986 - val_accuracy: 0.0000e+00\n",
      "Epoch 64/200\n",
      "46/46 [==============================] - 0s 225us/step - loss: 0.5379 - accuracy: 0.8261 - val_loss: 0.9025 - val_accuracy: 0.0000e+00\n",
      "Epoch 65/200\n",
      "46/46 [==============================] - 0s 180us/step - loss: 0.5355 - accuracy: 0.8261 - val_loss: 0.9066 - val_accuracy: 0.0000e+00\n",
      "Epoch 66/200\n",
      "46/46 [==============================] - 0s 231us/step - loss: 0.5331 - accuracy: 0.8261 - val_loss: 0.9102 - val_accuracy: 0.0000e+00\n",
      "Epoch 67/200\n",
      "46/46 [==============================] - 0s 229us/step - loss: 0.5308 - accuracy: 0.8261 - val_loss: 0.9143 - val_accuracy: 0.0000e+00\n",
      "Epoch 68/200\n",
      "46/46 [==============================] - 0s 180us/step - loss: 0.5282 - accuracy: 0.8261 - val_loss: 0.9188 - val_accuracy: 0.0000e+00\n",
      "Epoch 69/200\n",
      "46/46 [==============================] - 0s 185us/step - loss: 0.5259 - accuracy: 0.8261 - val_loss: 0.9230 - val_accuracy: 0.0000e+00\n",
      "Epoch 70/200\n",
      "46/46 [==============================] - 0s 239us/step - loss: 0.5234 - accuracy: 0.8261 - val_loss: 0.9269 - val_accuracy: 0.0000e+00\n",
      "Epoch 71/200\n",
      "46/46 [==============================] - 0s 218us/step - loss: 0.5210 - accuracy: 0.8261 - val_loss: 0.9312 - val_accuracy: 0.0000e+00\n",
      "Epoch 72/200\n",
      "46/46 [==============================] - 0s 227us/step - loss: 0.5186 - accuracy: 0.8261 - val_loss: 0.9358 - val_accuracy: 0.0000e+00\n",
      "Epoch 73/200\n",
      "46/46 [==============================] - 0s 219us/step - loss: 0.5162 - accuracy: 0.8261 - val_loss: 0.9399 - val_accuracy: 0.0000e+00\n",
      "Epoch 74/200\n",
      "46/46 [==============================] - 0s 185us/step - loss: 0.5138 - accuracy: 0.8261 - val_loss: 0.9447 - val_accuracy: 0.0000e+00\n",
      "Epoch 75/200\n",
      "46/46 [==============================] - 0s 170us/step - loss: 0.5116 - accuracy: 0.8261 - val_loss: 0.9489 - val_accuracy: 0.0000e+00\n",
      "Epoch 76/200\n",
      "46/46 [==============================] - 0s 295us/step - loss: 0.5093 - accuracy: 0.8261 - val_loss: 0.9525 - val_accuracy: 0.0000e+00\n",
      "Epoch 77/200\n",
      "46/46 [==============================] - 0s 213us/step - loss: 0.5070 - accuracy: 0.8261 - val_loss: 0.9570 - val_accuracy: 0.0000e+00\n",
      "Epoch 78/200\n",
      "46/46 [==============================] - 0s 251us/step - loss: 0.5047 - accuracy: 0.8261 - val_loss: 0.9617 - val_accuracy: 0.0000e+00\n",
      "Epoch 79/200\n",
      "46/46 [==============================] - 0s 227us/step - loss: 0.5023 - accuracy: 0.8261 - val_loss: 0.9661 - val_accuracy: 0.0000e+00\n",
      "Epoch 80/200\n",
      "46/46 [==============================] - 0s 213us/step - loss: 0.5002 - accuracy: 0.8261 - val_loss: 0.9701 - val_accuracy: 0.0000e+00\n",
      "Epoch 81/200\n",
      "46/46 [==============================] - 0s 231us/step - loss: 0.4979 - accuracy: 0.8261 - val_loss: 0.9751 - val_accuracy: 0.0000e+00\n",
      "Epoch 82/200\n",
      "46/46 [==============================] - 0s 217us/step - loss: 0.4957 - accuracy: 0.8261 - val_loss: 0.9788 - val_accuracy: 0.0000e+00\n",
      "Epoch 83/200\n",
      "46/46 [==============================] - 0s 256us/step - loss: 0.4935 - accuracy: 0.8261 - val_loss: 0.9837 - val_accuracy: 0.0000e+00\n",
      "Epoch 84/200\n",
      "46/46 [==============================] - 0s 204us/step - loss: 0.4913 - accuracy: 0.8261 - val_loss: 0.9886 - val_accuracy: 0.0000e+00\n",
      "Epoch 85/200\n",
      "46/46 [==============================] - 0s 172us/step - loss: 0.4891 - accuracy: 0.8261 - val_loss: 0.9925 - val_accuracy: 0.0000e+00\n",
      "Epoch 86/200\n",
      "46/46 [==============================] - 0s 221us/step - loss: 0.4869 - accuracy: 0.8261 - val_loss: 0.9969 - val_accuracy: 0.0000e+00\n",
      "Epoch 87/200\n",
      "46/46 [==============================] - 0s 196us/step - loss: 0.4847 - accuracy: 0.8261 - val_loss: 1.0019 - val_accuracy: 0.0000e+00\n",
      "Epoch 88/200\n",
      "46/46 [==============================] - 0s 196us/step - loss: 0.4825 - accuracy: 0.8261 - val_loss: 1.0061 - val_accuracy: 0.0000e+00\n",
      "Epoch 89/200\n",
      "46/46 [==============================] - 0s 259us/step - loss: 0.4803 - accuracy: 0.8261 - val_loss: 1.0113 - val_accuracy: 0.0000e+00\n",
      "Epoch 90/200\n",
      "46/46 [==============================] - 0s 231us/step - loss: 0.4781 - accuracy: 0.8261 - val_loss: 1.0165 - val_accuracy: 0.0000e+00\n",
      "Epoch 91/200\n",
      "46/46 [==============================] - 0s 192us/step - loss: 0.4760 - accuracy: 0.8261 - val_loss: 1.0208 - val_accuracy: 0.0000e+00\n",
      "Epoch 92/200\n",
      "46/46 [==============================] - 0s 221us/step - loss: 0.4739 - accuracy: 0.8261 - val_loss: 1.0256 - val_accuracy: 0.0000e+00\n",
      "Epoch 93/200\n",
      "46/46 [==============================] - 0s 241us/step - loss: 0.4717 - accuracy: 0.8261 - val_loss: 1.0303 - val_accuracy: 0.0000e+00\n",
      "Epoch 94/200\n",
      "46/46 [==============================] - 0s 279us/step - loss: 0.4697 - accuracy: 0.8261 - val_loss: 1.0352 - val_accuracy: 0.0000e+00\n",
      "Epoch 95/200\n",
      "46/46 [==============================] - 0s 219us/step - loss: 0.4677 - accuracy: 0.8261 - val_loss: 1.0399 - val_accuracy: 0.0000e+00\n",
      "Epoch 96/200\n",
      "46/46 [==============================] - 0s 197us/step - loss: 0.4655 - accuracy: 0.8261 - val_loss: 1.0450 - val_accuracy: 0.0000e+00\n",
      "Epoch 97/200\n",
      "46/46 [==============================] - 0s 206us/step - loss: 0.4634 - accuracy: 0.8261 - val_loss: 1.0502 - val_accuracy: 0.0000e+00\n",
      "Epoch 98/200\n",
      "46/46 [==============================] - 0s 183us/step - loss: 0.4614 - accuracy: 0.8261 - val_loss: 1.0551 - val_accuracy: 0.0000e+00\n",
      "Epoch 99/200\n",
      "46/46 [==============================] - 0s 216us/step - loss: 0.4593 - accuracy: 0.8261 - val_loss: 1.0596 - val_accuracy: 0.0000e+00\n",
      "Epoch 100/200\n",
      "46/46 [==============================] - 0s 194us/step - loss: 0.4574 - accuracy: 0.8261 - val_loss: 1.0639 - val_accuracy: 0.0000e+00\n",
      "Epoch 101/200\n",
      "46/46 [==============================] - 0s 217us/step - loss: 0.4554 - accuracy: 0.8261 - val_loss: 1.0688 - val_accuracy: 0.0000e+00\n",
      "Epoch 102/200\n",
      "46/46 [==============================] - 0s 171us/step - loss: 0.4534 - accuracy: 0.8261 - val_loss: 1.0741 - val_accuracy: 0.0000e+00\n",
      "Epoch 103/200\n",
      "46/46 [==============================] - 0s 169us/step - loss: 0.4514 - accuracy: 0.8261 - val_loss: 1.0794 - val_accuracy: 0.0000e+00\n",
      "Epoch 104/200\n",
      "46/46 [==============================] - 0s 197us/step - loss: 0.4496 - accuracy: 0.8478 - val_loss: 1.0848 - val_accuracy: 0.0000e+00\n",
      "Epoch 105/200\n",
      "46/46 [==============================] - 0s 174us/step - loss: 0.4475 - accuracy: 0.8478 - val_loss: 1.0891 - val_accuracy: 0.0000e+00\n",
      "Epoch 106/200\n",
      "46/46 [==============================] - 0s 179us/step - loss: 0.4456 - accuracy: 0.8478 - val_loss: 1.0937 - val_accuracy: 0.0000e+00\n",
      "Epoch 107/200\n",
      "46/46 [==============================] - 0s 207us/step - loss: 0.4437 - accuracy: 0.8478 - val_loss: 1.0982 - val_accuracy: 0.0000e+00\n",
      "Epoch 108/200\n",
      "46/46 [==============================] - 0s 179us/step - loss: 0.4420 - accuracy: 0.8478 - val_loss: 1.1038 - val_accuracy: 0.0000e+00\n",
      "Epoch 109/200\n",
      "46/46 [==============================] - 0s 217us/step - loss: 0.4400 - accuracy: 0.8478 - val_loss: 1.1085 - val_accuracy: 0.0000e+00\n",
      "Epoch 110/200\n",
      "46/46 [==============================] - 0s 188us/step - loss: 0.4382 - accuracy: 0.8478 - val_loss: 1.1133 - val_accuracy: 0.0000e+00\n",
      "Epoch 111/200\n",
      "46/46 [==============================] - 0s 239us/step - loss: 0.4364 - accuracy: 0.8478 - val_loss: 1.1183 - val_accuracy: 0.0000e+00\n",
      "Epoch 112/200\n"
     ]
    },
    {
     "name": "stdout",
     "output_type": "stream",
     "text": [
      "46/46 [==============================] - 0s 245us/step - loss: 0.4347 - accuracy: 0.8478 - val_loss: 1.1237 - val_accuracy: 0.0000e+00\n",
      "Epoch 113/200\n",
      "46/46 [==============================] - 0s 272us/step - loss: 0.4328 - accuracy: 0.8478 - val_loss: 1.1286 - val_accuracy: 0.0000e+00\n",
      "Epoch 114/200\n",
      "46/46 [==============================] - 0s 256us/step - loss: 0.4308 - accuracy: 0.8478 - val_loss: 1.1337 - val_accuracy: 0.0000e+00\n",
      "Epoch 115/200\n",
      "46/46 [==============================] - 0s 231us/step - loss: 0.4292 - accuracy: 0.8478 - val_loss: 1.1383 - val_accuracy: 0.0000e+00\n",
      "Epoch 116/200\n",
      "46/46 [==============================] - 0s 215us/step - loss: 0.4273 - accuracy: 0.8478 - val_loss: 1.1441 - val_accuracy: 0.0000e+00\n",
      "Epoch 117/200\n",
      "46/46 [==============================] - 0s 434us/step - loss: 0.4257 - accuracy: 0.8478 - val_loss: 1.1491 - val_accuracy: 0.0000e+00\n",
      "Epoch 118/200\n",
      "46/46 [==============================] - 0s 251us/step - loss: 0.4239 - accuracy: 0.8478 - val_loss: 1.1537 - val_accuracy: 0.0000e+00\n",
      "Epoch 119/200\n",
      "46/46 [==============================] - 0s 233us/step - loss: 0.4222 - accuracy: 0.8478 - val_loss: 1.1588 - val_accuracy: 0.0000e+00\n",
      "Epoch 120/200\n",
      "46/46 [==============================] - 0s 239us/step - loss: 0.4205 - accuracy: 0.8478 - val_loss: 1.1633 - val_accuracy: 0.0000e+00\n",
      "Epoch 121/200\n",
      "46/46 [==============================] - 0s 184us/step - loss: 0.4189 - accuracy: 0.8478 - val_loss: 1.1690 - val_accuracy: 0.0000e+00\n",
      "Epoch 122/200\n",
      "46/46 [==============================] - 0s 253us/step - loss: 0.4172 - accuracy: 0.8478 - val_loss: 1.1736 - val_accuracy: 0.0000e+00\n",
      "Epoch 123/200\n",
      "46/46 [==============================] - 0s 211us/step - loss: 0.4154 - accuracy: 0.8478 - val_loss: 1.1785 - val_accuracy: 0.0000e+00\n",
      "Epoch 124/200\n",
      "46/46 [==============================] - 0s 224us/step - loss: 0.4138 - accuracy: 0.8478 - val_loss: 1.1837 - val_accuracy: 0.0000e+00\n",
      "Epoch 125/200\n",
      "46/46 [==============================] - 0s 191us/step - loss: 0.4123 - accuracy: 0.8478 - val_loss: 1.1888 - val_accuracy: 0.0000e+00\n",
      "Epoch 126/200\n",
      "46/46 [==============================] - 0s 228us/step - loss: 0.4106 - accuracy: 0.8478 - val_loss: 1.1937 - val_accuracy: 0.0000e+00\n",
      "Epoch 127/200\n",
      "46/46 [==============================] - 0s 251us/step - loss: 0.4090 - accuracy: 0.8478 - val_loss: 1.1991 - val_accuracy: 0.0000e+00\n",
      "Epoch 128/200\n",
      "46/46 [==============================] - 0s 204us/step - loss: 0.4074 - accuracy: 0.8478 - val_loss: 1.2038 - val_accuracy: 0.0000e+00\n",
      "Epoch 129/200\n",
      "46/46 [==============================] - 0s 203us/step - loss: 0.4059 - accuracy: 0.8478 - val_loss: 1.2096 - val_accuracy: 0.0000e+00\n",
      "Epoch 130/200\n",
      "46/46 [==============================] - 0s 181us/step - loss: 0.4046 - accuracy: 0.8478 - val_loss: 1.2130 - val_accuracy: 0.0000e+00\n",
      "Epoch 131/200\n",
      "46/46 [==============================] - 0s 181us/step - loss: 0.4030 - accuracy: 0.8478 - val_loss: 1.2174 - val_accuracy: 0.0000e+00\n",
      "Epoch 132/200\n",
      "46/46 [==============================] - 0s 189us/step - loss: 0.4015 - accuracy: 0.8478 - val_loss: 1.2219 - val_accuracy: 0.0000e+00\n",
      "Epoch 133/200\n",
      "46/46 [==============================] - 0s 200us/step - loss: 0.4001 - accuracy: 0.8478 - val_loss: 1.2261 - val_accuracy: 0.0000e+00\n",
      "Epoch 134/200\n",
      "46/46 [==============================] - 0s 199us/step - loss: 0.3988 - accuracy: 0.8478 - val_loss: 1.2292 - val_accuracy: 0.0000e+00\n",
      "Epoch 135/200\n",
      "46/46 [==============================] - 0s 216us/step - loss: 0.3973 - accuracy: 0.8478 - val_loss: 1.2338 - val_accuracy: 0.0000e+00\n",
      "Epoch 136/200\n",
      "46/46 [==============================] - 0s 240us/step - loss: 0.3959 - accuracy: 0.8478 - val_loss: 1.2386 - val_accuracy: 0.0000e+00\n",
      "Epoch 137/200\n",
      "46/46 [==============================] - 0s 288us/step - loss: 0.3948 - accuracy: 0.8478 - val_loss: 1.2417 - val_accuracy: 0.0000e+00\n",
      "Epoch 138/200\n",
      "46/46 [==============================] - 0s 237us/step - loss: 0.3933 - accuracy: 0.8478 - val_loss: 1.2467 - val_accuracy: 0.0000e+00\n",
      "Epoch 139/200\n",
      "46/46 [==============================] - 0s 207us/step - loss: 0.3919 - accuracy: 0.8478 - val_loss: 1.2513 - val_accuracy: 0.0000e+00\n",
      "Epoch 140/200\n",
      "46/46 [==============================] - 0s 222us/step - loss: 0.3905 - accuracy: 0.8478 - val_loss: 1.2558 - val_accuracy: 0.0000e+00\n",
      "Epoch 141/200\n",
      "46/46 [==============================] - 0s 226us/step - loss: 0.3892 - accuracy: 0.8478 - val_loss: 1.2602 - val_accuracy: 0.0000e+00\n",
      "Epoch 142/200\n",
      "46/46 [==============================] - 0s 213us/step - loss: 0.3877 - accuracy: 0.8478 - val_loss: 1.2657 - val_accuracy: 0.0000e+00\n",
      "Epoch 143/200\n",
      "46/46 [==============================] - 0s 212us/step - loss: 0.3863 - accuracy: 0.8478 - val_loss: 1.2703 - val_accuracy: 0.0000e+00\n",
      "Epoch 144/200\n",
      "46/46 [==============================] - 0s 195us/step - loss: 0.3850 - accuracy: 0.8478 - val_loss: 1.2754 - val_accuracy: 0.0000e+00\n",
      "Epoch 145/200\n",
      "46/46 [==============================] - 0s 224us/step - loss: 0.3840 - accuracy: 0.8478 - val_loss: 1.2803 - val_accuracy: 0.0000e+00\n",
      "Epoch 146/200\n",
      "46/46 [==============================] - 0s 254us/step - loss: 0.3824 - accuracy: 0.8478 - val_loss: 1.2846 - val_accuracy: 0.0000e+00\n",
      "Epoch 147/200\n",
      "46/46 [==============================] - 0s 268us/step - loss: 0.3812 - accuracy: 0.8696 - val_loss: 1.2887 - val_accuracy: 0.0000e+00\n",
      "Epoch 148/200\n",
      "46/46 [==============================] - 0s 211us/step - loss: 0.3799 - accuracy: 0.8696 - val_loss: 1.2932 - val_accuracy: 0.0323\n",
      "Epoch 149/200\n",
      "46/46 [==============================] - 0s 236us/step - loss: 0.3786 - accuracy: 0.8696 - val_loss: 1.2971 - val_accuracy: 0.0323\n",
      "Epoch 150/200\n",
      "46/46 [==============================] - 0s 329us/step - loss: 0.3774 - accuracy: 0.8696 - val_loss: 1.3023 - val_accuracy: 0.0323\n",
      "Epoch 151/200\n",
      "46/46 [==============================] - 0s 265us/step - loss: 0.3759 - accuracy: 0.8696 - val_loss: 1.3079 - val_accuracy: 0.0323\n",
      "Epoch 152/200\n",
      "46/46 [==============================] - 0s 232us/step - loss: 0.3750 - accuracy: 0.8696 - val_loss: 1.3107 - val_accuracy: 0.0323\n",
      "Epoch 153/200\n",
      "46/46 [==============================] - 0s 432us/step - loss: 0.3738 - accuracy: 0.8696 - val_loss: 1.3154 - val_accuracy: 0.0323\n",
      "Epoch 154/200\n",
      "46/46 [==============================] - 0s 279us/step - loss: 0.3726 - accuracy: 0.8696 - val_loss: 1.3193 - val_accuracy: 0.0323\n",
      "Epoch 155/200\n",
      "46/46 [==============================] - 0s 284us/step - loss: 0.3714 - accuracy: 0.8696 - val_loss: 1.3237 - val_accuracy: 0.0323\n",
      "Epoch 156/200\n",
      "46/46 [==============================] - 0s 240us/step - loss: 0.3701 - accuracy: 0.8696 - val_loss: 1.3281 - val_accuracy: 0.0323\n",
      "Epoch 157/200\n",
      "46/46 [==============================] - 0s 254us/step - loss: 0.3689 - accuracy: 0.8696 - val_loss: 1.3323 - val_accuracy: 0.0323\n",
      "Epoch 158/200\n",
      "46/46 [==============================] - 0s 197us/step - loss: 0.3677 - accuracy: 0.8913 - val_loss: 1.3373 - val_accuracy: 0.0323\n",
      "Epoch 159/200\n",
      "46/46 [==============================] - 0s 196us/step - loss: 0.3666 - accuracy: 0.8913 - val_loss: 1.3414 - val_accuracy: 0.0323\n",
      "Epoch 160/200\n",
      "46/46 [==============================] - 0s 253us/step - loss: 0.3655 - accuracy: 0.8913 - val_loss: 1.3447 - val_accuracy: 0.0323\n",
      "Epoch 161/200\n",
      "46/46 [==============================] - 0s 232us/step - loss: 0.3643 - accuracy: 0.8913 - val_loss: 1.3489 - val_accuracy: 0.0323\n",
      "Epoch 162/200\n",
      "46/46 [==============================] - 0s 202us/step - loss: 0.3633 - accuracy: 0.8913 - val_loss: 1.3510 - val_accuracy: 0.0323\n",
      "Epoch 163/200\n",
      "46/46 [==============================] - 0s 220us/step - loss: 0.3621 - accuracy: 0.8913 - val_loss: 1.3562 - val_accuracy: 0.0323\n",
      "Epoch 164/200\n",
      "46/46 [==============================] - 0s 237us/step - loss: 0.3610 - accuracy: 0.8913 - val_loss: 1.3609 - val_accuracy: 0.0323\n",
      "Epoch 165/200\n",
      "46/46 [==============================] - 0s 246us/step - loss: 0.3600 - accuracy: 0.8913 - val_loss: 1.3653 - val_accuracy: 0.0323\n",
      "Epoch 166/200\n",
      "46/46 [==============================] - 0s 277us/step - loss: 0.3591 - accuracy: 0.8913 - val_loss: 1.3693 - val_accuracy: 0.0323\n",
      "Epoch 167/200\n"
     ]
    },
    {
     "name": "stdout",
     "output_type": "stream",
     "text": [
      "46/46 [==============================] - 0s 255us/step - loss: 0.3579 - accuracy: 0.8913 - val_loss: 1.3737 - val_accuracy: 0.0323\n",
      "Epoch 168/200\n",
      "46/46 [==============================] - 0s 206us/step - loss: 0.3568 - accuracy: 0.8913 - val_loss: 1.3766 - val_accuracy: 0.0323\n",
      "Epoch 169/200\n",
      "46/46 [==============================] - 0s 270us/step - loss: 0.3557 - accuracy: 0.8913 - val_loss: 1.3806 - val_accuracy: 0.0323\n",
      "Epoch 170/200\n",
      "46/46 [==============================] - ETA: 0s - loss: 0.3935 - accuracy: 0.87 - 0s 234us/step - loss: 0.3546 - accuracy: 0.8913 - val_loss: 1.3848 - val_accuracy: 0.0323\n",
      "Epoch 171/200\n",
      "46/46 [==============================] - 0s 200us/step - loss: 0.3537 - accuracy: 0.8913 - val_loss: 1.3882 - val_accuracy: 0.0323\n",
      "Epoch 172/200\n",
      "46/46 [==============================] - 0s 204us/step - loss: 0.3526 - accuracy: 0.8913 - val_loss: 1.3912 - val_accuracy: 0.0323\n",
      "Epoch 173/200\n",
      "46/46 [==============================] - 0s 231us/step - loss: 0.3518 - accuracy: 0.8913 - val_loss: 1.3952 - val_accuracy: 0.0323\n",
      "Epoch 174/200\n",
      "46/46 [==============================] - 0s 265us/step - loss: 0.3506 - accuracy: 0.8913 - val_loss: 1.3989 - val_accuracy: 0.0323\n",
      "Epoch 175/200\n",
      "46/46 [==============================] - 0s 225us/step - loss: 0.3496 - accuracy: 0.8913 - val_loss: 1.4024 - val_accuracy: 0.0323\n",
      "Epoch 176/200\n",
      "46/46 [==============================] - 0s 280us/step - loss: 0.3486 - accuracy: 0.8913 - val_loss: 1.4071 - val_accuracy: 0.0323\n",
      "Epoch 177/200\n",
      "46/46 [==============================] - 0s 240us/step - loss: 0.3478 - accuracy: 0.8913 - val_loss: 1.4096 - val_accuracy: 0.0323\n",
      "Epoch 178/200\n",
      "46/46 [==============================] - 0s 235us/step - loss: 0.3467 - accuracy: 0.8913 - val_loss: 1.4114 - val_accuracy: 0.0323\n",
      "Epoch 179/200\n",
      "46/46 [==============================] - 0s 186us/step - loss: 0.3458 - accuracy: 0.8913 - val_loss: 1.4148 - val_accuracy: 0.0323\n",
      "Epoch 180/200\n",
      "46/46 [==============================] - 0s 194us/step - loss: 0.3449 - accuracy: 0.8913 - val_loss: 1.4176 - val_accuracy: 0.0323\n",
      "Epoch 181/200\n",
      "46/46 [==============================] - 0s 202us/step - loss: 0.3440 - accuracy: 0.8913 - val_loss: 1.4201 - val_accuracy: 0.0323\n",
      "Epoch 182/200\n",
      "46/46 [==============================] - 0s 166us/step - loss: 0.3429 - accuracy: 0.8913 - val_loss: 1.4223 - val_accuracy: 0.0323\n",
      "Epoch 183/200\n",
      "46/46 [==============================] - 0s 206us/step - loss: 0.3421 - accuracy: 0.8913 - val_loss: 1.4243 - val_accuracy: 0.0323\n",
      "Epoch 184/200\n",
      "46/46 [==============================] - 0s 175us/step - loss: 0.3412 - accuracy: 0.8913 - val_loss: 1.4269 - val_accuracy: 0.0323\n",
      "Epoch 185/200\n",
      "46/46 [==============================] - 0s 196us/step - loss: 0.3403 - accuracy: 0.8913 - val_loss: 1.4304 - val_accuracy: 0.0323\n",
      "Epoch 186/200\n",
      "46/46 [==============================] - 0s 195us/step - loss: 0.3394 - accuracy: 0.8913 - val_loss: 1.4334 - val_accuracy: 0.0323\n",
      "Epoch 187/200\n",
      "46/46 [==============================] - 0s 177us/step - loss: 0.3385 - accuracy: 0.8913 - val_loss: 1.4361 - val_accuracy: 0.0323\n",
      "Epoch 188/200\n",
      "46/46 [==============================] - 0s 199us/step - loss: 0.3375 - accuracy: 0.8913 - val_loss: 1.4389 - val_accuracy: 0.0323\n",
      "Epoch 189/200\n",
      "46/46 [==============================] - 0s 188us/step - loss: 0.3367 - accuracy: 0.8913 - val_loss: 1.4419 - val_accuracy: 0.0323\n",
      "Epoch 190/200\n",
      "46/46 [==============================] - 0s 190us/step - loss: 0.3357 - accuracy: 0.8913 - val_loss: 1.4449 - val_accuracy: 0.0323\n",
      "Epoch 191/200\n",
      "46/46 [==============================] - 0s 191us/step - loss: 0.3350 - accuracy: 0.8913 - val_loss: 1.4468 - val_accuracy: 0.0323\n",
      "Epoch 192/200\n",
      "46/46 [==============================] - 0s 405us/step - loss: 0.3342 - accuracy: 0.8913 - val_loss: 1.4503 - val_accuracy: 0.0323\n",
      "Epoch 193/200\n",
      "46/46 [==============================] - 0s 249us/step - loss: 0.3331 - accuracy: 0.8913 - val_loss: 1.4532 - val_accuracy: 0.0323\n",
      "Epoch 194/200\n",
      "46/46 [==============================] - 0s 206us/step - loss: 0.3325 - accuracy: 0.8913 - val_loss: 1.4562 - val_accuracy: 0.0323\n",
      "Epoch 195/200\n",
      "46/46 [==============================] - 0s 257us/step - loss: 0.3314 - accuracy: 0.8913 - val_loss: 1.4571 - val_accuracy: 0.0323\n",
      "Epoch 196/200\n",
      "46/46 [==============================] - 0s 188us/step - loss: 0.3308 - accuracy: 0.8913 - val_loss: 1.4603 - val_accuracy: 0.0323\n",
      "Epoch 197/200\n",
      "46/46 [==============================] - 0s 189us/step - loss: 0.3298 - accuracy: 0.8913 - val_loss: 1.4636 - val_accuracy: 0.0323\n",
      "Epoch 198/200\n",
      "46/46 [==============================] - 0s 203us/step - loss: 0.3291 - accuracy: 0.8913 - val_loss: 1.4663 - val_accuracy: 0.0323\n",
      "Epoch 199/200\n",
      "46/46 [==============================] - 0s 451us/step - loss: 0.3281 - accuracy: 0.8913 - val_loss: 1.4673 - val_accuracy: 0.0323\n",
      "Epoch 200/200\n",
      "46/46 [==============================] - 0s 233us/step - loss: 0.3276 - accuracy: 0.8913 - val_loss: 1.4703 - val_accuracy: 0.0323\n"
     ]
    }
   ],
   "source": [
    "from keras.models import Sequential\n",
    "from keras.layers import Dense, Dropout, Activation\n",
    "\n",
    "in_dimension = X_train.shape[1]\n",
    "\n",
    "freq_model = Sequential()\n",
    "freq_model.add(Dense(5, activation='relu', input_dim=in_dimension))\n",
    "#freq_model.add(Dropout(0.5))\n",
    "#freq_model.add(Dense(10, activation='relu'))\n",
    "#freq_model.add(Dropout(0.5))\n",
    "#freq_model.add(Dense(32, activation='relu'))\n",
    "freq_model.add(Dense(1, activation='sigmoid'))\n",
    "freq_model.compile(optimizer='rmsprop',\n",
    "                  loss='binary_crossentropy',\n",
    "                  metrics=['accuracy'])\n",
    "\n",
    "#freq_model.fit(X_train, y_train, epochs=200, batch_size=32)\n",
    "\n",
    "history = freq_model.fit(pca_regressor, outputs, validation_split=0.40, epochs=200, batch_size=16, verbose=1)"
   ]
  },
  {
   "cell_type": "markdown",
   "metadata": {},
   "source": [
    "### Results\n",
    "\n",
    "In this part it is presented the results from the classification algorithm. Both regarding the data visualization and the model classification quality. "
   ]
  },
  {
   "cell_type": "code",
   "execution_count": 15,
   "metadata": {},
   "outputs": [
    {
     "data": {
      "text/plain": [
       "dict_keys(['val_loss', 'val_accuracy', 'loss', 'accuracy'])"
      ]
     },
     "execution_count": 15,
     "metadata": {},
     "output_type": "execute_result"
    }
   ],
   "source": [
    "history.history.keys()"
   ]
  },
  {
   "cell_type": "code",
   "execution_count": 27,
   "metadata": {},
   "outputs": [
    {
     "data": {
      "image/png": "[encoded data removed]",
      "text/plain": [
       "<Figure size 432x288 with 1 Axes>"
      ]
     },
     "metadata": {
      "needs_background": "light"
     },
     "output_type": "display_data"
    },
    {
     "data": {
      "image/png": "[encoded data removed]",
      "text/plain": [
       "<Figure size 432x288 with 1 Axes>"
      ]
     },
     "metadata": {
      "needs_background": "light"
     },
     "output_type": "display_data"
    }
   ],
   "source": [
    "import matplotlib.pyplot as plt\n",
    "from sklearn.metrics import plot_confusion_matrix\n",
    "\n",
    "# Plot training & validation accuracy values\n",
    "plt.plot(history.history['accuracy'])\n",
    "plt.plot(history.history['val_accuracy'])\n",
    "plt.title('Model accuracy')\n",
    "plt.ylabel('Accuracy')\n",
    "plt.xlabel('Epoch')\n",
    "plt.legend(['Train', 'Test'], loc='upper left')\n",
    "plt.show()\n",
    "\n",
    "# Plot training & validation loss values\n",
    "plt.plot(history.history['loss'])\n",
    "plt.plot(history.history['val_loss'])\n",
    "plt.title('Model loss')\n",
    "plt.ylabel('Loss')\n",
    "plt.xlabel('Epoch')\n",
    "plt.legend(['Train', 'Test'], loc='upper left')\n",
    "plt.show()"
   ]
  },
  {
   "cell_type": "markdown",
   "metadata": {},
   "source": [
    "#### Comments\n",
    "\n",
    "From this results it is possible to see that the classifier using periodogram amplitudes can get some interesting knowledge on the eclipsing binaries classification, but could not extract any information to classify properly the confirmed targets. It is almost as if the model is blind when an exo planet periodogram is presented as feature to the algorithm. "
   ]
  },
  {
   "cell_type": "markdown",
   "metadata": {},
   "source": [
    "## Naive Bayes likelihood\n",
    "\n",
    "Here we will read the Naive Bayes model parameters estimated for each light curve and use this information as feature for the xgBoost classifier. To start this approach, we must first read the Bayes features saved from last step:"
   ]
  },
  {
   "cell_type": "code",
   "execution_count": 28,
   "metadata": {},
   "outputs": [
    {
     "data": {
      "text/plain": [
       "dict_keys(['features', 'labels'])"
      ]
     },
     "execution_count": 28,
     "metadata": {},
     "output_type": "execute_result"
    }
   ],
   "source": [
    "import pickle \n",
    "\n",
    "file_name = './features/bayes_data/nx_6/bayes_data.pkl'\n",
    "with open(file_name, 'rb') as file:\n",
    "    bayes_data = pickle.load(file)\n",
    "bayes_data.keys()"
   ]
  },
  {
   "cell_type": "markdown",
   "metadata": {},
   "source": [
    "### Manipulate features\n",
    "\n",
    "After reading the data, it is necessary to create the classical regression structure model in the format $Y = f\\left(\\Theta, X\\right)$, normalize the feature data and encode any possible label data into numerical classes. This is just the preparation for the machine leaning algorithm to guarantee that the provided info is properlly designed for any machine learning classical form."
   ]
  },
  {
   "cell_type": "code",
   "execution_count": 29,
   "metadata": {},
   "outputs": [],
   "source": [
    "import numpy as np\n",
    "from sklearn import preprocessing\n",
    "\n",
    "# Create the label encoder\n",
    "le_bayes = preprocessing.LabelEncoder()\n",
    "le_bayes.fit(bayes_data['labels'])\n",
    "\n",
    "# Define the regression model\n",
    "regressors = preprocessing.normalize(bayes_data['features']['params'])\n",
    "outputs = le_bayes.transform(bayes_data['labels'])"
   ]
  },
  {
   "cell_type": "markdown",
   "metadata": {},
   "source": [
    "### Train-test data split\n",
    "\n",
    "Next it is necessary to segregate the data into a set for validation and one for trainning the model."
   ]
  },
  {
   "cell_type": "code",
   "execution_count": 30,
   "metadata": {},
   "outputs": [],
   "source": [
    "from sklearn.model_selection import train_test_split\n",
    "\n",
    "X_train, X_test, y_train, y_test = train_test_split( \n",
    "    regressors, outputs, test_size=0.33, random_state=42)"
   ]
  },
  {
   "cell_type": "markdown",
   "metadata": {},
   "source": [
    "### Hyper tunning\n",
    "\n",
    "We could consider tunning the model hyper parameters to answer questions such as:\n",
    "\n",
    "- Wich value of `n_estimators` is the best for this model and data?\n",
    "- Wich cost function is the best to be selected as `objective` for this model?\n",
    "\n",
    "We could do a hyper search, to find the best hyper parameters for this model, automating the hyper parameter selection. There are several already builded algorithms to optimize this parameter search, and build find with high performance the best parameters, provided a set of possible values. But, to understand what those algorithms actually does, we could once build our own search algorithm...\n",
    "\n",
    "As an example, lets run a first handly defined hyper parameter tunning using the confusion matrix of the model:"
   ]
  },
  {
   "cell_type": "code",
   "execution_count": null,
   "metadata": {},
   "outputs": [],
   "source": [
    "import xgboost as xgb\n",
    "from sklearn.metrics import confusion_matrix\n",
    "\n",
    "# Define the model parameters \n",
    "param_dist = {\n",
    "    'objective':'binary:logistic', \n",
    "    'n_estimators' : 11\n",
    "}\n",
    "\n",
    "# Create the range parameters to \n",
    "# search\n",
    "n_estimators = [ k+1 for k in range(100)]\n",
    "\n",
    "# Create the plotting variable\n",
    "plot_vals = {\n",
    "    'true': {\n",
    "        'confirmed targets': [],\n",
    "        'eclipsing binaries': [],\n",
    "    },\n",
    "    'false': {\n",
    "        'confirmed targets': [],\n",
    "        'eclipsing binaries': [],\n",
    "    }\n",
    "}\n",
    "\n",
    "# Estimate and validate each candidate\n",
    "for opt in n_estimators:\n",
    "    # Update the model parameters\n",
    "    param_dist['n_estimators'] = opt\n",
    "    # Create the xgBoost classifier\n",
    "    clfs = xgb.XGBRFClassifier(**param_dist)\n",
    "    # Fit the model to the data\n",
    "    clfs.fit(X_train, y_train,\n",
    "            eval_metric='logloss',\n",
    "            verbose=True)\n",
    "    # Estimate the test output\n",
    "    y_pred = clfs.predict(X_test)\n",
    "    # Compute the confusion matrix\n",
    "    conf_mat = confusion_matrix(\n",
    "        y_test, y_pred,\n",
    "        normalize='true')\n",
    "    # Save the confusion matrix\n",
    "    plot_vals['true']['confirmed targets'].append(conf_mat[0,0])\n",
    "    plot_vals['true']['eclipsing binaries'].append(conf_mat[1,1])\n",
    "    plot_vals['false']['confirmed targets'].append(conf_mat[0,1])\n",
    "    plot_vals['false']['eclipsing binaries'].append(conf_mat[1,0])"
   ]
  },
  {
   "cell_type": "code",
   "execution_count": null,
   "metadata": {},
   "outputs": [],
   "source": [
    "from utils import *\n",
    "\n",
    "# Line plot each confidence matrix parameter\n",
    "x_data = [n_estimators, n_estimators, n_estimators, n_estimators]\n",
    "y_data = [plot_vals['true']['confirmed targets'],\n",
    "          plot_vals['true']['eclipsing binaries'],\n",
    "          plot_vals['false']['confirmed targets'],\n",
    "          plot_vals['false']['eclipsing binaries']]\n",
    "legends= ['True - C.T.', 'True - E.B.', 'False - C.T.', 'False - E.B.']\n",
    "colors = [6, 7, 2, 3]\n",
    "\n",
    "p = visual.multline_plot(x_data, y_data,\n",
    "                         legend_label=legends, \n",
    "                         title='Hyper parameter search - Confusion parameters plot',\n",
    "                         color_index=colors,\n",
    "                         y_axis={'label': 'Proportion'},\n",
    "                         x_axis={'label': 'n_estimators'})\n",
    "visual.show_plot(p)"
   ]
  },
  {
   "cell_type": "markdown",
   "metadata": {},
   "source": [
    "### Train model\n",
    "\n",
    "After running the hyper parameter search we can create a model with the best defined hyper parameters, or setup parameters, and consolidate the model in to the best version for further performance analysis. The model is saved on a particular variable, such as `bayes_clf` to be further used in some vote chain model, if further necessary."
   ]
  },
  {
   "cell_type": "code",
   "execution_count": 58,
   "metadata": {},
   "outputs": [
    {
     "name": "stdout",
     "output_type": "stream",
     "text": [
      "Train on 46 samples, validate on 31 samples\n",
      "Epoch 1/20\n",
      "46/46 [==============================] - 0s 3ms/step - loss: 0.6932 - accuracy: 0.5435 - val_loss: 0.7137 - val_accuracy: 0.1935\n",
      "Epoch 2/20\n",
      "46/46 [==============================] - 0s 158us/step - loss: 0.6891 - accuracy: 0.7391 - val_loss: 0.7194 - val_accuracy: 0.0323\n",
      "Epoch 3/20\n",
      "46/46 [==============================] - 0s 162us/step - loss: 0.6853 - accuracy: 0.8043 - val_loss: 0.7250 - val_accuracy: 0.0000e+00\n",
      "Epoch 4/20\n",
      "46/46 [==============================] - 0s 227us/step - loss: 0.6815 - accuracy: 0.8043 - val_loss: 0.7305 - val_accuracy: 0.0000e+00\n",
      "Epoch 5/20\n",
      "46/46 [==============================] - 0s 213us/step - loss: 0.6779 - accuracy: 0.8043 - val_loss: 0.7360 - val_accuracy: 0.0000e+00\n",
      "Epoch 6/20\n",
      "46/46 [==============================] - 0s 212us/step - loss: 0.6743 - accuracy: 0.8043 - val_loss: 0.7416 - val_accuracy: 0.0000e+00\n",
      "Epoch 7/20\n",
      "46/46 [==============================] - 0s 240us/step - loss: 0.6709 - accuracy: 0.8043 - val_loss: 0.7471 - val_accuracy: 0.0000e+00\n",
      "Epoch 8/20\n",
      "46/46 [==============================] - 0s 229us/step - loss: 0.6675 - accuracy: 0.8043 - val_loss: 0.7525 - val_accuracy: 0.0000e+00\n",
      "Epoch 9/20\n",
      "46/46 [==============================] - 0s 281us/step - loss: 0.6643 - accuracy: 0.8043 - val_loss: 0.7578 - val_accuracy: 0.0000e+00\n",
      "Epoch 10/20\n",
      "46/46 [==============================] - 0s 308us/step - loss: 0.6612 - accuracy: 0.8043 - val_loss: 0.7629 - val_accuracy: 0.0000e+00\n",
      "Epoch 11/20\n",
      "46/46 [==============================] - 0s 340us/step - loss: 0.6583 - accuracy: 0.8043 - val_loss: 0.7681 - val_accuracy: 0.0000e+00\n",
      "Epoch 12/20\n",
      "46/46 [==============================] - 0s 328us/step - loss: 0.6554 - accuracy: 0.8043 - val_loss: 0.7732 - val_accuracy: 0.0000e+00\n",
      "Epoch 13/20\n",
      "46/46 [==============================] - 0s 285us/step - loss: 0.6526 - accuracy: 0.8043 - val_loss: 0.7784 - val_accuracy: 0.0000e+00\n",
      "Epoch 14/20\n",
      "46/46 [==============================] - 0s 333us/step - loss: 0.6498 - accuracy: 0.8043 - val_loss: 0.7835 - val_accuracy: 0.0000e+00\n",
      "Epoch 15/20\n",
      "46/46 [==============================] - 0s 298us/step - loss: 0.6471 - accuracy: 0.8043 - val_loss: 0.7885 - val_accuracy: 0.0000e+00\n",
      "Epoch 16/20\n",
      "46/46 [==============================] - 0s 303us/step - loss: 0.6446 - accuracy: 0.8043 - val_loss: 0.7937 - val_accuracy: 0.0000e+00\n",
      "Epoch 17/20\n",
      "46/46 [==============================] - 0s 426us/step - loss: 0.6420 - accuracy: 0.8043 - val_loss: 0.7986 - val_accuracy: 0.0000e+00\n",
      "Epoch 18/20\n",
      "46/46 [==============================] - 0s 342us/step - loss: 0.6396 - accuracy: 0.8043 - val_loss: 0.8036 - val_accuracy: 0.0000e+00\n",
      "Epoch 19/20\n",
      "46/46 [==============================] - 0s 205us/step - loss: 0.6372 - accuracy: 0.8043 - val_loss: 0.8084 - val_accuracy: 0.0000e+00\n",
      "Epoch 20/20\n",
      "46/46 [==============================] - 0s 289us/step - loss: 0.6349 - accuracy: 0.8043 - val_loss: 0.8133 - val_accuracy: 0.0000e+00\n"
     ]
    }
   ],
   "source": [
    "from keras import optimizers\n",
    "from keras.models import Sequential\n",
    "from keras.layers import Dense, Dropout, Activation\n",
    "\n",
    "in_dimension = X_train.shape[1]\n",
    "\n",
    "bayes_model = Sequential()\n",
    "bayes_model.add(Dense(12, activation='relu', input_dim=in_dimension))\n",
    "#bayes_model.add(Dropout(0.5))\n",
    "bayes_model.add(Dense(6, activation='relu'))\n",
    "#bayes_model.add(Dropout(0.5))\n",
    "#bayes_model.add(Dense(32, activation='relu'))\n",
    "bayes_model.add(Dense(1, activation='sigmoid'))\n",
    "\n",
    "opt = optimizers.SGD(lr=0.01, clipvalue=0.9)\n",
    "\n",
    "bayes_model.compile(optimizer=opt,\n",
    "                    loss='binary_crossentropy',\n",
    "                    metrics=['accuracy'])\n",
    "\n",
    "#freq_model.fit(X_train, y_train, epochs=200, batch_size=32)\n",
    "\n",
    "history = bayes_model.fit(regressors, outputs, validation_split=0.40, epochs=20, batch_size=16, verbose=1)"
   ]
  },
  {
   "cell_type": "markdown",
   "metadata": {},
   "source": [
    "### Results\n",
    "\n",
    "In this part it is presented the results from the classification algorithm. Both regarding the data visualization and the model classification quality. "
   ]
  },
  {
   "cell_type": "code",
   "execution_count": 59,
   "metadata": {},
   "outputs": [
    {
     "data": {
      "image/png": "[encoded data removed]",
      "text/plain": [
       "<Figure size 432x288 with 1 Axes>"
      ]
     },
     "metadata": {
      "needs_background": "light"
     },
     "output_type": "display_data"
    },
    {
     "data": {
      "image/png": "[encoded data removed]",
      "text/plain": [
       "<Figure size 432x288 with 1 Axes>"
      ]
     },
     "metadata": {
      "needs_background": "light"
     },
     "output_type": "display_data"
    }
   ],
   "source": [
    "import matplotlib.pyplot as plt\n",
    "from sklearn.metrics import plot_confusion_matrix\n",
    "\n",
    "# Plot training & validation accuracy values\n",
    "plt.plot(history.history['accuracy'])\n",
    "plt.plot(history.history['val_accuracy'])\n",
    "plt.title('Model accuracy')\n",
    "plt.ylabel('Accuracy')\n",
    "plt.xlabel('Epoch')\n",
    "plt.legend(['Train', 'Test'], loc='upper left')\n",
    "plt.show()\n",
    "\n",
    "# Plot training & validation loss values\n",
    "plt.plot(history.history['loss'])\n",
    "plt.plot(history.history['val_loss'])\n",
    "plt.title('Model loss')\n",
    "plt.ylabel('Loss')\n",
    "plt.xlabel('Epoch')\n",
    "plt.legend(['Train', 'Test'], loc='upper left')\n",
    "plt.show()"
   ]
  },
  {
   "cell_type": "markdown",
   "metadata": {},
   "source": [
    "#### Comments\n",
    "\n",
    "From this results it is possible to see that the classifier using Naive Bayes estimated model parameters is able to highly characterize the eclipsing binaries, and has acceptable classification performance for the confirmed targets."
   ]
  },
  {
   "cell_type": "markdown",
   "metadata": {},
   "source": [
    "---\n",
    "\n",
    "## Hidden Markov Models\n",
    "\n",
    "Here we use the model estimated from the Hidden Markov Models library, wich is the estimated $A$ matrix, or the so called transition probability matrices as feature for the learning classifier. For that we must read the pickle file with the desired features:"
   ]
  },
  {
   "cell_type": "code",
   "execution_count": null,
   "metadata": {},
   "outputs": [],
   "source": [
    "import pickle \n",
    "\n",
    "file_name = './features/hmm_data/nx_8/hmm_data.pkl'\n",
    "with open(file_name, 'rb') as file:\n",
    "    hmm_data = pickle.load(file)\n",
    "hmm_data.keys()"
   ]
  },
  {
   "cell_type": "markdown",
   "metadata": {},
   "source": [
    "### Manipulate features\n",
    "\n",
    "After reading the data, it is necessary to create the classical regression structure model in the format $Y = f\\left(\\Theta, X\\right)$, normalize the feature data and encode any possible label data into numerical classes. This is just the preparation for the machine leaning algorithm to guarantee that the provided info is properlly designed for any machine learning classical form."
   ]
  },
  {
   "cell_type": "code",
   "execution_count": null,
   "metadata": {},
   "outputs": [],
   "source": [
    "import numpy as np\n",
    "from sklearn import preprocessing\n",
    "\n",
    "# Encode the label\n",
    "le_hmm = preprocessing.LabelEncoder()\n",
    "le_hmm.fit( hmm_data['labels'] )\n",
    "\n",
    "# Define the model order\n",
    "feat = hmm_data['features']\n",
    "nx = feat['prob_matrix'][0].shape[0]\n",
    "\n",
    "regressors = []\n",
    "for phi in feat['prob_matrix']:\n",
    "    # Reshape the regressor\n",
    "    reg = phi.reshape(nx*nx)\n",
    "    # Add to the regressors\n",
    "    regressors.append(reg)   \n",
    "# Normalize the regressors\n",
    "regressors = preprocessing.normalize(regressors)\n",
    "# Define outputs as encoded variables\n",
    "outputs = le_hmm.transform(hmm_data['labels'])"
   ]
  },
  {
   "cell_type": "markdown",
   "metadata": {},
   "source": [
    "### Train-test data split\n",
    "\n",
    "Next it is necessary to segregate the data into a set for validation and one for trainning the model."
   ]
  },
  {
   "cell_type": "code",
   "execution_count": null,
   "metadata": {},
   "outputs": [],
   "source": [
    "from sklearn.model_selection import train_test_split\n",
    "\n",
    "X_train, X_test, y_train, y_test = train_test_split( \n",
    "    regressors, outputs, test_size=0.33, random_state=42)"
   ]
  },
  {
   "cell_type": "markdown",
   "metadata": {},
   "source": [
    "### Hyper tunning\n",
    "\n",
    "We could consider tunning the model hyper parameters to answer questions such as:\n",
    "\n",
    "- Wich value of `n_estimators` is the best for this model and data?\n",
    "- Wich cost function is the best to be selected as `objective` for this model?\n",
    "\n",
    "We could do a hyper search, to find the best hyper parameters for this model, automating the hyper parameter selection. There are several already builded algorithms to optimize this parameter search, and build find with high performance the best parameters, provided a set of possible values. But, to understand what those algorithms actually does, we could once build our own search algorithm...\n",
    "\n",
    "As an example, lets run a first handly defined hyper parameter tunning using the confusion matrix of the model:"
   ]
  },
  {
   "cell_type": "code",
   "execution_count": null,
   "metadata": {},
   "outputs": [],
   "source": [
    "from sklearn.metrics import confusion_matrix\n",
    "\n",
    "n_estimators = [ k+1 for k in range(100)]\n",
    "\n",
    "conf_matrices = []\n",
    "for opt in n_estimators:\n",
    "    # Update the model parameters\n",
    "    param_dist['n_estimators'] = opt\n",
    "    # Create the xgBoost classifier\n",
    "    clfs = xgb.XGBRFClassifier(**param_dist)\n",
    "    # Fit the model to the data\n",
    "    clfs.fit(X_train, y_train,\n",
    "            eval_metric='logloss',\n",
    "            verbose=True)\n",
    "    # Estimate the test output\n",
    "    y_pred = clfs.predict(X_test)\n",
    "    # Compute the confusion matrix\n",
    "    conf_mat = confusion_matrix(\n",
    "        y_test, y_pred,\n",
    "        normalize='true')\n",
    "    # Save the confusion matrix\n",
    "    conf_matrices.append(conf_mat)"
   ]
  },
  {
   "cell_type": "code",
   "execution_count": null,
   "metadata": {},
   "outputs": [],
   "source": [
    "from utils import *\n",
    "\n",
    "# Create and organize the plot values\n",
    "plot_vals = {\n",
    "    'true': {\n",
    "        'confirmed targets': [],\n",
    "        'eclipsing binaries': [],\n",
    "    },\n",
    "    'false': {\n",
    "        'confirmed targets': [],\n",
    "        'eclipsing binaries': [],\n",
    "    }\n",
    "}\n",
    "for result in conf_matrices:\n",
    "    plot_vals['true']['confirmed targets'].append(result[0,0])\n",
    "    plot_vals['true']['eclipsing binaries'].append(result[1,1])\n",
    "    plot_vals['false']['confirmed targets'].append(result[0,1])\n",
    "    plot_vals['false']['eclipsing binaries'].append(result[1,0])\n",
    "\n",
    "x_values = range(len(conf_matrices))\n",
    "x_data = [x_values, x_values, x_values, x_values]\n",
    "y_data = [plot_vals['true']['confirmed targets'],\n",
    "          plot_vals['true']['eclipsing binaries'],\n",
    "          plot_vals['false']['confirmed targets'],\n",
    "          plot_vals['false']['eclipsing binaries']]\n",
    "legends= ['True - C.T.', 'True - E.B.', 'False - C.T.', 'False - E.B.']\n",
    "colors = [6, 7, 2, 3]\n",
    "\n",
    "p = visual.multline_plot(x_data, y_data,\n",
    "                         legend_label=legends, \n",
    "                         title='Hyper parameter search - Confusion plot',\n",
    "                         color_index=colors,\n",
    "                         y_axis={'label': 'Intensity'},\n",
    "                         x_axis={'label': 'n_estimators'})\n",
    "visual.show_plot(p)"
   ]
  },
  {
   "cell_type": "markdown",
   "metadata": {},
   "source": [
    "The user might see that the best values for the `n_estimators` parameter is something close to `[4,5,6]`. When we have a range of values, such as here, usually is advisable to use the simpler model, in this case `n_estimators=4`, wich is the value defined before.\n",
    "\n",
    "> *Notice that the value `n_estimators`$=n_x$ defined in the previous step algorithm. Since the hidden markov model is pretty simple such as the classifier. Therefore is possible that the hidden markov model is underfitted, this means that the markov model is to simple to represent the information from the ligt curve, since there is no redundancy on the model. This is infered by checking that `n_estimators`$=n_x$ is the best solution for this problem.*"
   ]
  },
  {
   "cell_type": "markdown",
   "metadata": {},
   "source": [
    "### Train model\n",
    "\n",
    "After running the hyper parameter search we can create a model with the best defined hyper parameters, or setup parameters, and consolidate the model in to the best version for further performance analysis. The model is saved on a particular variable, such as `hmm_clf` to be further used in some vote chain model, if further necessary."
   ]
  },
  {
   "cell_type": "code",
   "execution_count": null,
   "metadata": {},
   "outputs": [],
   "source": [
    "import xgboost as xgb\n",
    "\n",
    "param_dist = {\n",
    "    'verbosity': 0,\n",
    "    'objective':'binary:logistic', \n",
    "    'n_estimators' : 5\n",
    "}\n",
    "\n",
    "hmm_clf = xgb.XGBRFClassifier(**param_dist)\n",
    "\n",
    "hmm_clf.fit(X_train, y_train,\n",
    "            eval_set=[\n",
    "                (X_train, y_train), \n",
    "                (X_test, y_test)\n",
    "            ],\n",
    "            eval_metric='logloss',\n",
    "            verbose=False)"
   ]
  },
  {
   "cell_type": "markdown",
   "metadata": {},
   "source": [
    "### Results\n",
    "\n",
    "Here we include some visualization results for the xgBoost algorithm classification. As the first result, we just print the model eval metrics, here the *log loss* of the model, for both the trainning and testing data."
   ]
  },
  {
   "cell_type": "code",
   "execution_count": null,
   "metadata": {},
   "outputs": [],
   "source": [
    "import pprint\n",
    "pp = pprint.PrettyPrinter(indent=2)\n",
    "\n",
    "evals_result = hmm_clf.evals_result()\n",
    "pp.pprint(evals_result)"
   ]
  },
  {
   "cell_type": "code",
   "execution_count": null,
   "metadata": {},
   "outputs": [],
   "source": [
    "import matplotlib.pyplot as plt\n",
    "from sklearn.metrics import plot_confusion_matrix\n",
    "\n",
    "disp = plot_confusion_matrix(hmm_clf, X_test, y_test,\n",
    "                             display_labels=le_hmm.classes_,\n",
    "                             cmap=plt.cm.Blues,\n",
    "                             normalize='true')\n",
    "disp.ax_.set_title('Hidden Markov Models - Confusion matrix')\n",
    "plt.show()"
   ]
  }
 ],
 "metadata": {
  "kernelspec": {
   "display_name": "Python 3",
   "language": "python",
   "name": "python3"
  },
  "language_info": {
   "codemirror_mode": {
    "name": "ipython",
    "version": 3
   },
   "file_extension": ".py",
   "mimetype": "text/x-python",
   "name": "python",
   "nbconvert_exporter": "python",
   "pygments_lexer": "ipython3",
   "version": "3.7.4"
  }
 },
 "nbformat": 4,
 "nbformat_minor": 4
}
