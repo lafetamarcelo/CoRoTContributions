{
 "cells": [
  {
   "cell_type": "code",
   "execution_count": 1,
   "metadata": {},
   "outputs": [
    {
     "name": "stderr",
     "output_type": "stream",
     "text": [
      "INFO:reader_log:Reader module created...\n",
      "INFO:reader_log:No custom label was provided!\n",
      "INFO:reader_log:Setting label as:raw_fits\n",
      "INFO:reader_log:Reading 37 curve packages...\n"
     ]
    }
   ],
   "source": [
    "from utils.data_struc import *\n",
    "import utils.data_helper as dhelper\n",
    "\n",
    "folder_path = ['.\\database\\\\raw_fits\\\\confirmed_targets',\n",
    "               '.\\database\\\\raw_fits\\\\red_giants',\n",
    "               '.\\database\\\\raw_fits\\\\bright_stars']\n",
    "\n",
    "dread = dhelper.reader()\n",
    "curves  = dread.from_folder(folder=folder_path[0], labeler=\"exoplanets\") \n",
    "curves += dread.from_folder(folder=folder_path[1], labeler=\"red giants\")\n",
    "curves += dread.from_folder(folder=folder_path[2], labeler=\"bright stars\")"
   ]
  },
  {
   "cell_type": "code",
   "execution_count": 2,
   "metadata": {},
   "outputs": [
    {
     "data": {
      "text/plain": [
       "[Index(['DATE', 'DATETT', 'DATEBARTT', 'STATUS', 'REDFLUX', 'REDFLUXDEV',\n",
       "        'GREENFLUX', 'GREENFLUXDEV', 'BLUEFLUX', 'BLUEFLUXDEV', 'WHITEFLUX',\n",
       "        'BG'],\n",
       "       dtype='object'),\n",
       " Index(['DATETT', 'DATEBARTT', 'WHITEFLUXFIL', 'STATUSFIL', 'T_EXP'], dtype='object'),\n",
       " Index(['DATEBARTT', 'WHITEFLUXSYS', 'STATUSSYS'], dtype='object')]"
      ]
     },
     "execution_count": 2,
     "metadata": {},
     "output_type": "execute_result"
    }
   ],
   "source": []
  },
  {
   "cell_type": "code",
   "execution_count": 4,
   "metadata": {},
   "outputs": [],
   "source": [
    "data = curves[0].get_feature(feature='WHITEFLUX')"
   ]
  },
  {
   "cell_type": "code",
   "execution_count": 7,
   "metadata": {},
   "outputs": [
    {
     "data": {
      "text/plain": [
       "210248"
      ]
     },
     "execution_count": 7,
     "metadata": {},
     "output_type": "execute_result"
    }
   ],
   "source": []
  },
  {
   "cell_type": "code",
   "execution_count": null,
   "metadata": {},
   "outputs": [],
   "source": []
  },
  {
   "cell_type": "code",
   "execution_count": null,
   "metadata": {},
   "outputs": [],
   "source": []
  },
  {
   "cell_type": "code",
   "execution_count": null,
   "metadata": {},
   "outputs": [],
   "source": []
  }
 ],
 "metadata": {
  "file_extension": ".py",
  "kernelspec": {
   "display_name": "Python 3",
   "language": "python",
   "name": "python3"
  },
  "language_info": {
   "codemirror_mode": {
    "name": "ipython",
    "version": 3
   },
   "file_extension": ".py",
   "mimetype": "text/x-python",
   "name": "python",
   "nbconvert_exporter": "python",
   "pygments_lexer": "ipython3",
   "version": "3.7.4"
  },
  "mimetype": "text/x-python",
  "name": "python",
  "npconvert_exporter": "python",
  "pygments_lexer": "ipython3",
  "version": 3
 },
 "nbformat": 4,
 "nbformat_minor": 2
}
