{
 "cells": [
  {
   "cell_type": "markdown",
   "metadata": {},
   "source": [
    "### Read the raw data-set\n",
    "\n",
    "---\n",
    "\n",
    "This will read all the raw data from _.fits_ files:"
   ]
  },
  {
   "cell_type": "code",
   "execution_count": 1,
   "metadata": {},
   "outputs": [
    {
     "name": "stderr",
     "output_type": "stream",
     "text": [
      "INFO:reader_log:Reader module created...\n"
     ]
    }
   ],
   "source": [
    "import utils\n",
    "\n",
    "folder_list = [ './database/raw_fits/confirmed_targets',\n",
    "                './database/raw_fits/red_giants',\n",
    "                './database/raw_fits/bright_stars' ]\n",
    "\n",
    "dread = utils.data_helper.reader()\n",
    "curves = dread.list_features(folders=folder_list)"
   ]
  },
  {
   "cell_type": "code",
   "execution_count": 2,
   "metadata": {},
   "outputs": [],
   "source": [
    "curves"
   ]
  },
  {
   "cell_type": "code",
   "execution_count": null,
   "metadata": {},
   "outputs": [],
   "source": [
    "curves = list()\n",
    "for folder in folders:\n",
    "    folder = os.path.abspath(folder)\n",
    "    files = os.listdir(folder)\n",
    "    for file in files:\n",
    "        curve = { \"label\": folder, \"attr\": list() }\n",
    "        hdu_data = ast.io.fits.open( os.path.join(folder, file), memmap=True )\n",
    "        for index in [1,2,3]:\n",
    "            raw_table = Table.read(hdu_data[index], memmap=True)\n",
    "            curve[\"attr\"].append( raw_table.colnames )\n",
    "        curves.append( curve )"
   ]
  },
  {
   "cell_type": "code",
   "execution_count": 3,
   "metadata": {},
   "outputs": [],
   "source": [
    "import os\n",
    "import logging\n",
    "import astropy as ast\n",
    "from astropy.table import Table\n",
    "\n",
    "folder_list = [ './database/raw_fits/confirmed_targets',\n",
    "                './database/raw_fits/red_giants',\n",
    "                './database/raw_fits/bright_stars' ]\n",
    "\n",
    "folder = os.path.abspath(folder_list[0])\n",
    "files = os.listdir(folder)\n"
   ]
  },
  {
   "cell_type": "code",
   "execution_count": 7,
   "metadata": {},
   "outputs": [
    {
     "data": {
      "text/html": [
       "<i>Table length=210248</i>\n",
       "<table id=\"table4698073040\" class=\"table-striped table-bordered table-condensed\">\n",
       "<thead><tr><th>DATE</th><th>DATETT</th><th>DATEBARTT</th><th>STATUS</th><th>REDFLUX</th><th>REDFLUXDEV</th><th>GREENFLUX</th><th>GREENFLUXDEV</th><th>BLUEFLUX</th><th>BLUEFLUXDEV</th><th>WHITEFLUX</th><th>BG</th></tr></thead>\n",
       "<thead><tr><th>yyyy-mm-jjThh:mi:ss</th><th>JULIAN DAY</th><th>JULIAN DAY</th><th></th><th>ELECTRONS PER 32s</th><th>ELECTRONS PER 32s</th><th>ELECTRONS PER 32s</th><th>ELECTRONS PER 32s</th><th>ELECTRONS PER 32s</th><th>ELECTRONS PER 32s</th><th>ELECTRONS PER 32s</th><th>ELECTRONS PER PIXEL PER 32s</th></tr></thead>\n",
       "<thead><tr><th>str23</th><th>float64</th><th>float64</th><th>int32</th><th>float32</th><th>float32</th><th>float32</th><th>float32</th><th>float32</th><th>float32</th><th>float32</th><th>float32</th></tr></thead>\n",
       "<tr><td>2007-05-16T06:02:26.000</td><td>54236.7548072283</td><td>54236.75758180978</td><td>0</td><td>77492.57</td><td>1779.6423</td><td>17825.309</td><td>815.5798</td><td>17227.598</td><td>824.18744</td><td>112545.48</td><td>487.29187</td></tr>\n",
       "<tr><td>2007-05-16T06:10:58.000</td><td>54236.760733181116</td><td>54236.76350822351</td><td>0</td><td>78042.35</td><td>2119.6467</td><td>17641.473</td><td>1028.6204</td><td>16911.305</td><td>1041.532</td><td>112590.805</td><td>481.88037</td></tr>\n",
       "<tr><td>2007-05-16T06:19:30.000</td><td>54236.766659133995</td><td>54236.76943463726</td><td>8</td><td>78025.266</td><td>2388.6372</td><td>17676.193</td><td>929.63184</td><td>17070.555</td><td>1013.5569</td><td>112766.39</td><td>478.79114</td></tr>\n",
       "<tr><td>2007-05-16T06:28:02.000</td><td>54236.77258508697</td><td>54236.77536105109</td><td>0</td><td>78489.73</td><td>2433.8276</td><td>17623.92</td><td>873.68176</td><td>16990.844</td><td>850.01056</td><td>113106.055</td><td>479.16873</td></tr>\n",
       "<tr><td>2007-05-16T06:36:34.000</td><td>54236.778511040065</td><td>54236.78128746501</td><td>1</td><td>79743.47</td><td>7346.674</td><td>17699.055</td><td>961.9107</td><td>17005.906</td><td>936.0876</td><td>114449.96</td><td>479.22885</td></tr>\n",
       "<tr><td>2007-05-16T06:45:06.000</td><td>54236.78443699319</td><td>54236.78721387893</td><td>16</td><td>77935.52</td><td>2095.9753</td><td>17650.629</td><td>1026.4685</td><td>16969.62</td><td>1017.8608</td><td>112560.086</td><td>482.6207</td></tr>\n",
       "<tr><td>2007-05-16T06:53:38.000</td><td>54236.790362946296</td><td>54236.7931402928</td><td>0</td><td>78205.58</td><td>1661.2865</td><td>17681.262</td><td>716.5912</td><td>16933.428</td><td>774.6932</td><td>112823.11</td><td>484.24796</td></tr>\n",
       "<tr><td>2007-05-16T07:02:10.000</td><td>54236.79628889924</td><td>54236.79906670649</td><td>0</td><td>78043.65</td><td>1878.631</td><td>17667.422</td><td>914.56836</td><td>17023.873</td><td>824.18744</td><td>112736.21</td><td>487.79385</td></tr>\n",
       "<tr><td>2007-05-16T07:10:42.000</td><td>54236.80221485203</td><td>54236.80499311999</td><td>0</td><td>77806.18</td><td>2399.397</td><td>17709.143</td><td>1093.1781</td><td>17027.01</td><td>1088.8743</td><td>112533.24</td><td>491.2457</td></tr>\n",
       "<tr><td>...</td><td>...</td><td>...</td><td>...</td><td>...</td><td>...</td><td>...</td><td>...</td><td>...</td><td>...</td><td>...</td><td>...</td></tr>\n",
       "<tr><td>2007-10-05T07:39:21.000</td><td>54378.819314449924</td><td>54378.82039566636</td><td>0</td><td>77128.01</td><td>0.0</td><td>17165.293</td><td>0.0</td><td>16577.719</td><td>0.0</td><td>111703.27</td><td>519.8431</td></tr>\n",
       "<tr><td>2007-10-05T07:39:53.000</td><td>54378.81968482101</td><td>54378.82076600422</td><td>0</td><td>76172.25</td><td>0.0</td><td>17812.518</td><td>0.0</td><td>16403.873</td><td>0.0</td><td>111070.29</td><td>519.9715</td></tr>\n",
       "<tr><td>2007-10-05T07:40:25.000</td><td>54378.82005519208</td><td>54378.82113634207</td><td>0</td><td>76827.22</td><td>0.0</td><td>17674.932</td><td>0.0</td><td>16732.47</td><td>0.0</td><td>111923.36</td><td>520.45123</td></tr>\n",
       "<tr><td>2007-10-05T07:40:57.000</td><td>54378.820425563135</td><td>54378.8215066799</td><td>0</td><td>76455.39</td><td>0.0</td><td>17568.508</td><td>0.0</td><td>16294.374</td><td>0.0</td><td>111107.875</td><td>518.8578</td></tr>\n",
       "<tr><td>2007-10-05T07:41:29.000</td><td>54378.82079593419</td><td>54378.821877017734</td><td>0</td><td>76764.56</td><td>0.0</td><td>17168.521</td><td>0.0</td><td>16581.193</td><td>0.0</td><td>111322.18</td><td>518.251</td></tr>\n",
       "<tr><td>2007-10-05T07:42:01.000</td><td>54378.821166305264</td><td>54378.82224735559</td><td>64</td><td>76520.08</td><td>0.0</td><td>17485.047</td><td>0.0</td><td>16455.053</td><td>0.0</td><td>111227.81</td><td>520.2255</td></tr>\n",
       "<tr><td>2007-10-05T07:42:33.000</td><td>54378.821536676325</td><td>54378.822617693426</td><td>80</td><td>76505.93</td><td>0.0</td><td>17473.332</td><td>0.0</td><td>16426.477</td><td>0.0</td><td>111181.74</td><td>522.79004</td></tr>\n",
       "<tr><td>2007-10-05T07:43:05.000</td><td>54378.82190704738</td><td>54378.82298803126</td><td>16</td><td>76785.54</td><td>0.0</td><td>17748.5</td><td>0.0</td><td>16263.826</td><td>0.0</td><td>111582.48</td><td>517.91815</td></tr>\n",
       "<tr><td>2007-10-05T07:43:37.000</td><td>54378.822277418454</td><td>54378.8233583691</td><td>0</td><td>75606.6</td><td>0.0</td><td>17339.066</td><td>0.0</td><td>16531.95</td><td>0.0</td><td>110207.61</td><td>523.57086</td></tr>\n",
       "<tr><td>2007-10-05T07:44:09.000</td><td>54378.82264778951</td><td>54378.823728706935</td><td>0</td><td>76846.82</td><td>0.0</td><td>17483.488</td><td>0.0</td><td>16318.153</td><td>0.0</td><td>111458.195</td><td>521.08826</td></tr>\n",
       "</table>"
      ],
      "text/plain": [
       "<Table length=210248>\n",
       "          DATE                DATETT       ...              BG            \n",
       "  yyyy-mm-jjThh:mi:ss       JULIAN DAY     ... ELECTRONS PER PIXEL PER 32s\n",
       "         str23               float64       ...           float32          \n",
       "----------------------- ------------------ ... ---------------------------\n",
       "2007-05-16T06:02:26.000   54236.7548072283 ...                   487.29187\n",
       "2007-05-16T06:10:58.000 54236.760733181116 ...                   481.88037\n",
       "2007-05-16T06:19:30.000 54236.766659133995 ...                   478.79114\n",
       "2007-05-16T06:28:02.000  54236.77258508697 ...                   479.16873\n",
       "2007-05-16T06:36:34.000 54236.778511040065 ...                   479.22885\n",
       "2007-05-16T06:45:06.000  54236.78443699319 ...                    482.6207\n",
       "2007-05-16T06:53:38.000 54236.790362946296 ...                   484.24796\n",
       "2007-05-16T07:02:10.000  54236.79628889924 ...                   487.79385\n",
       "2007-05-16T07:10:42.000  54236.80221485203 ...                    491.2457\n",
       "                    ...                ... ...                         ...\n",
       "2007-10-05T07:39:21.000 54378.819314449924 ...                    519.8431\n",
       "2007-10-05T07:39:53.000  54378.81968482101 ...                    519.9715\n",
       "2007-10-05T07:40:25.000  54378.82005519208 ...                   520.45123\n",
       "2007-10-05T07:40:57.000 54378.820425563135 ...                    518.8578\n",
       "2007-10-05T07:41:29.000  54378.82079593419 ...                     518.251\n",
       "2007-10-05T07:42:01.000 54378.821166305264 ...                    520.2255\n",
       "2007-10-05T07:42:33.000 54378.821536676325 ...                   522.79004\n",
       "2007-10-05T07:43:05.000  54378.82190704738 ...                   517.91815\n",
       "2007-10-05T07:43:37.000 54378.822277418454 ...                   523.57086\n",
       "2007-10-05T07:44:09.000  54378.82264778951 ...                   521.08826"
      ]
     },
     "execution_count": 7,
     "metadata": {},
     "output_type": "execute_result"
    }
   ],
   "source": [
    "file_name = files[0]\n",
    "\n",
    "raw_table = list()\n",
    "hdu_data = ast.io.fits.open( os.path.join(folder, file_name), memmap=True )\n",
    "for index in [1,2,3]:\n",
    "    raw_table.append( Table.read(hdu_data[index], memmap=True) )\n",
    "\n",
    "raw_table[0]\n"
   ]
  },
  {
   "cell_type": "code",
   "execution_count": 8,
   "metadata": {},
   "outputs": [
    {
     "data": {
      "text/html": [
       "<i>Table length=210555</i>\n",
       "<table id=\"table4713073168\" class=\"table-striped table-bordered table-condensed\">\n",
       "<thead><tr><th>DATETT</th><th>DATEBARTT</th><th>WHITEFLUXFIL</th><th>STATUSFIL</th><th>T_EXP</th></tr></thead>\n",
       "<thead><tr><th>JULIAN DAY</th><th>JULIAN DAY</th><th>ELECTRONS PER 32s</th><th></th><th></th></tr></thead>\n",
       "<thead><tr><th>float64</th><th>float64</th><th>float32</th><th>int32</th><th>int16</th></tr></thead>\n",
       "<tr><td>54236.7548072283</td><td>54236.75758184768</td><td>112545.48</td><td>0</td><td>512</td></tr>\n",
       "<tr><td>54236.760733181116</td><td>54236.7635082614</td><td>112590.805</td><td>0</td><td>512</td></tr>\n",
       "<tr><td>54236.766659133995</td><td>54236.76943467516</td><td>112766.39</td><td>8</td><td>512</td></tr>\n",
       "<tr><td>54236.77258508697</td><td>54236.775361088985</td><td>113106.055</td><td>0</td><td>512</td></tr>\n",
       "<tr><td>54236.77851103994</td><td>54236.781287502774</td><td>112616.836</td><td>256</td><td>512</td></tr>\n",
       "<tr><td>54236.78443699319</td><td>54236.78721391682</td><td>112560.086</td><td>16</td><td>512</td></tr>\n",
       "<tr><td>54236.790362946296</td><td>54236.79314033069</td><td>112823.11</td><td>0</td><td>512</td></tr>\n",
       "<tr><td>54236.79628889924</td><td>54236.79906674437</td><td>112736.21</td><td>0</td><td>512</td></tr>\n",
       "<tr><td>54236.80221485203</td><td>54236.80499315787</td><td>112533.24</td><td>0</td><td>512</td></tr>\n",
       "<tr><td>...</td><td>...</td><td>...</td><td>...</td><td>...</td></tr>\n",
       "<tr><td>54378.819314449924</td><td>54378.820395621085</td><td>111102.13</td><td>0</td><td>32</td></tr>\n",
       "<tr><td>54378.81968482101</td><td>54378.820765958946</td><td>110472.555</td><td>0</td><td>32</td></tr>\n",
       "<tr><td>54378.82005519208</td><td>54378.8211362968</td><td>111321.03</td><td>0</td><td>32</td></tr>\n",
       "<tr><td>54378.820425563135</td><td>54378.82150663463</td><td>110509.94</td><td>0</td><td>32</td></tr>\n",
       "<tr><td>54378.82079593419</td><td>54378.82187697246</td><td>110723.086</td><td>0</td><td>32</td></tr>\n",
       "<tr><td>54378.821166305264</td><td>54378.82224731031</td><td>110629.23</td><td>64</td><td>32</td></tr>\n",
       "<tr><td>54378.821536676325</td><td>54378.82261764815</td><td>110583.41</td><td>80</td><td>32</td></tr>\n",
       "<tr><td>54378.82190704738</td><td>54378.82298798598</td><td>110981.984</td><td>16</td><td>32</td></tr>\n",
       "<tr><td>54378.822277418454</td><td>54378.82335832383</td><td>109614.516</td><td>0</td><td>32</td></tr>\n",
       "<tr><td>54378.82264778951</td><td>54378.823728661664</td><td>110858.37</td><td>0</td><td>32</td></tr>\n",
       "</table>"
      ],
      "text/plain": [
       "<Table length=210555>\n",
       "      DATETT           DATEBARTT         WHITEFLUXFIL   STATUSFIL T_EXP\n",
       "    JULIAN DAY         JULIAN DAY     ELECTRONS PER 32s                \n",
       "     float64            float64            float32        int32   int16\n",
       "------------------ ------------------ ----------------- --------- -----\n",
       "  54236.7548072283  54236.75758184768         112545.48         0   512\n",
       "54236.760733181116   54236.7635082614        112590.805         0   512\n",
       "54236.766659133995  54236.76943467516         112766.39         8   512\n",
       " 54236.77258508697 54236.775361088985        113106.055         0   512\n",
       " 54236.77851103994 54236.781287502774        112616.836       256   512\n",
       " 54236.78443699319  54236.78721391682        112560.086        16   512\n",
       "54236.790362946296  54236.79314033069         112823.11         0   512\n",
       " 54236.79628889924  54236.79906674437         112736.21         0   512\n",
       " 54236.80221485203  54236.80499315787         112533.24         0   512\n",
       "               ...                ...               ...       ...   ...\n",
       "54378.819314449924 54378.820395621085         111102.13         0    32\n",
       " 54378.81968482101 54378.820765958946        110472.555         0    32\n",
       " 54378.82005519208   54378.8211362968         111321.03         0    32\n",
       "54378.820425563135  54378.82150663463         110509.94         0    32\n",
       " 54378.82079593419  54378.82187697246        110723.086         0    32\n",
       "54378.821166305264  54378.82224731031         110629.23        64    32\n",
       "54378.821536676325  54378.82261764815         110583.41        80    32\n",
       " 54378.82190704738  54378.82298798598        110981.984        16    32\n",
       "54378.822277418454  54378.82335832383        109614.516         0    32\n",
       " 54378.82264778951 54378.823728661664         110858.37         0    32"
      ]
     },
     "execution_count": 8,
     "metadata": {},
     "output_type": "execute_result"
    }
   ],
   "source": [
    "\n",
    "raw_table[1]\n"
   ]
  },
  {
   "cell_type": "code",
   "execution_count": 9,
   "metadata": {},
   "outputs": [
    {
     "data": {
      "text/html": [
       "<i>Table length=23951</i>\n",
       "<table id=\"table4712981840\" class=\"table-striped table-bordered table-condensed\">\n",
       "<thead><tr><th>DATEBARTT</th><th>WHITEFLUXSYS</th><th>STATUSSYS</th></tr></thead>\n",
       "<thead><tr><th>JULIAN DAY</th><th>ELECTRONS PER 32s</th><th></th></tr></thead>\n",
       "<thead><tr><th>float64</th><th>float32</th><th>int32</th></tr></thead>\n",
       "<tr><td>54236.75758184768</td><td>112626.77</td><td>0</td></tr>\n",
       "<tr><td>54236.7635082614</td><td>112605.61</td><td>0</td></tr>\n",
       "<tr><td>54236.76943467516</td><td>112771.5</td><td>8</td></tr>\n",
       "<tr><td>54236.775361088985</td><td>113113.6</td><td>0</td></tr>\n",
       "<tr><td>54236.781287502774</td><td>112621.79</td><td>256</td></tr>\n",
       "<tr><td>54236.78721391682</td><td>112553.21</td><td>16</td></tr>\n",
       "<tr><td>54236.79314033069</td><td>112811.305</td><td>0</td></tr>\n",
       "<tr><td>54236.79906674437</td><td>112723.12</td><td>0</td></tr>\n",
       "<tr><td>54236.80499315787</td><td>112513.234</td><td>0</td></tr>\n",
       "<tr><td>...</td><td>...</td><td>...</td></tr>\n",
       "<tr><td>54378.767622499065</td><td>112428.29</td><td>0</td></tr>\n",
       "<tr><td>54378.77354790342</td><td>112613.29</td><td>0</td></tr>\n",
       "<tr><td>54378.779473307644</td><td>112415.414</td><td>0</td></tr>\n",
       "<tr><td>54378.78539871196</td><td>112491.53</td><td>0</td></tr>\n",
       "<tr><td>54378.79132411663</td><td>112400.95</td><td>0</td></tr>\n",
       "<tr><td>54378.79724952172</td><td>112438.61</td><td>264</td></tr>\n",
       "<tr><td>54378.80317492712</td><td>112406.01</td><td>256</td></tr>\n",
       "<tr><td>54378.80910033283</td><td>112496.13</td><td>256</td></tr>\n",
       "<tr><td>54378.815025738535</td><td>112344.83</td><td>0</td></tr>\n",
       "<tr><td>54378.82095114413</td><td>112318.5</td><td>80</td></tr>\n",
       "</table>"
      ],
      "text/plain": [
       "<Table length=23951>\n",
       "    DATEBARTT         WHITEFLUXSYS   STATUSSYS\n",
       "    JULIAN DAY     ELECTRONS PER 32s          \n",
       "     float64            float32        int32  \n",
       "------------------ ----------------- ---------\n",
       " 54236.75758184768         112626.77         0\n",
       "  54236.7635082614         112605.61         0\n",
       " 54236.76943467516          112771.5         8\n",
       "54236.775361088985          113113.6         0\n",
       "54236.781287502774         112621.79       256\n",
       " 54236.78721391682         112553.21        16\n",
       " 54236.79314033069        112811.305         0\n",
       " 54236.79906674437         112723.12         0\n",
       " 54236.80499315787        112513.234         0\n",
       "               ...               ...       ...\n",
       "54378.767622499065         112428.29         0\n",
       " 54378.77354790342         112613.29         0\n",
       "54378.779473307644        112415.414         0\n",
       " 54378.78539871196         112491.53         0\n",
       " 54378.79132411663         112400.95         0\n",
       " 54378.79724952172         112438.61       264\n",
       " 54378.80317492712         112406.01       256\n",
       " 54378.80910033283         112496.13       256\n",
       "54378.815025738535         112344.83         0\n",
       " 54378.82095114413          112318.5        80"
      ]
     },
     "execution_count": 9,
     "metadata": {},
     "output_type": "execute_result"
    }
   ],
   "source": [
    "\n",
    "raw_table[2]\n"
   ]
  },
  {
   "cell_type": "code",
   "execution_count": null,
   "metadata": {},
   "outputs": [],
   "source": []
  }
 ],
 "metadata": {
  "kernelspec": {
   "display_name": "Python 3",
   "language": "python",
   "name": "python3"
  },
  "language_info": {
   "codemirror_mode": {
    "name": "ipython",
    "version": 3
   },
   "file_extension": ".py",
   "mimetype": "text/x-python",
   "name": "python",
   "nbconvert_exporter": "python",
   "pygments_lexer": "ipython3",
   "version": "3.7.4"
  }
 },
 "nbformat": 4,
 "nbformat_minor": 2
}
