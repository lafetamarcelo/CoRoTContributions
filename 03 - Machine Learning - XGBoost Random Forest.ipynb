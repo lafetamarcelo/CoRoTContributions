{
 "cells": [
  {
   "cell_type": "markdown",
   "metadata": {},
   "source": [
    "# XGBoost Random Forest Classifier\n",
    "\n",
    "The first algorithm that we will use is the XGBoost with its random forest classifier. This example uses a random forest version of the XGBoost classifier. This algorithm will be used for each generated feature, namelly:\n",
    "\n",
    "- Periodograms\n",
    "- Bayes Similarity\n",
    "- Hidden Markov Models\n",
    "\n",
    "All approaches will pass trough the common machine learning pipeline, where we must:\n",
    "\n",
    "- Normalize the data (if necessary)\n",
    "- Divide the data between trainning and testing\n",
    "- Search the hyper parameters\n",
    "- Cross validate the models\n",
    "- Analyse the results"
   ]
  },
  {
   "cell_type": "markdown",
   "metadata": {},
   "source": [
    "## Periodograms\n",
    "\n",
    "The application using the periodograms is actually pretty simple, now that the data is prepared and all of those preprocessing from last pipeline step is already done. The algorithm became straigh forward. First it is necessary to read the features generated."
   ]
  },
  {
   "cell_type": "code",
   "execution_count": 1,
   "metadata": {},
   "outputs": [
    {
     "data": {
      "text/plain": [
       "dict_keys(['features', 'labels'])"
      ]
     },
     "execution_count": 1,
     "metadata": {},
     "output_type": "execute_result"
    }
   ],
   "source": [
    "import pickle \n",
    "\n",
    "file_name = './features/freq_data/freq_data.pkl' \n",
    "with open(file_name, 'rb') as file:\n",
    "    freq_data = pickle.load(file)\n",
    "freq_data.keys()"
   ]
  },
  {
   "cell_type": "markdown",
   "metadata": {},
   "source": [
    "### Manipulate features\n",
    "\n",
    "After reading the data, it is necessary to create the classical regression structure model in the format $Y = f\\left(\\Theta, X\\right)$, normalize the feature data and encode any possible label data into numerical classes. This is just the preparation for the machine leaning algorithm to guarantee that the provided info is properlly designed for any machine learning classical form."
   ]
  },
  {
   "cell_type": "code",
   "execution_count": 2,
   "metadata": {},
   "outputs": [],
   "source": [
    "import numpy as np\n",
    "from sklearn import preprocessing\n",
    "\n",
    "# Create the label encoder\n",
    "le_freq = preprocessing.LabelEncoder()\n",
    "le_freq.fit(freq_data['labels'])\n",
    "\n",
    "# Define the regression model\n",
    "regressors = preprocessing.normalize(freq_data['features']['spec'])\n",
    "outputs = le_freq.transform(freq_data['labels'])"
   ]
  },
  {
   "cell_type": "code",
   "execution_count": 3,
   "metadata": {},
   "outputs": [
    {
     "data": {
      "text/plain": [
       "12758"
      ]
     },
     "execution_count": 3,
     "metadata": {},
     "output_type": "execute_result"
    }
   ],
   "source": [
    "regressors.shape[1]"
   ]
  },
  {
   "cell_type": "markdown",
   "metadata": {},
   "source": [
    "Also it is interesting to reduce the features dimension to build a simpler model. It is not necessary to create a classifier with such amount (12758 features...) of features. There are several techniques that can be used to reduce the features dimensions. The Principal Component Analisys, is very effective when dealing with high dimensional data. Here the `PCA` algorithm from the `sklearn` library is used."
   ]
  },
  {
   "cell_type": "code",
   "execution_count": 4,
   "metadata": {},
   "outputs": [],
   "source": [
    "from sklearn.decomposition import PCA\n",
    "\n",
    "# Create the PCA decomposer\n",
    "pca_dec = PCA(n_components=69, svd_solver='arpack')\n",
    "\n",
    "# Train the PCA object\n",
    "pca_dec.fit(regressors)\n",
    "\n",
    "# Transform the data using\n",
    "# the PCA model\n",
    "pca_regressor = pca_dec.transform(regressors)"
   ]
  },
  {
   "cell_type": "markdown",
   "metadata": {},
   "source": [
    "### Train-test data split\n",
    "\n",
    "Next it is necessary to segregate the data into a set for validation and one for trainning the model."
   ]
  },
  {
   "cell_type": "code",
   "execution_count": 5,
   "metadata": {},
   "outputs": [],
   "source": [
    "from sklearn.model_selection import train_test_split\n",
    "\n",
    "X_train, X_test, y_train, y_test = train_test_split( \n",
    "    pca_regressor, outputs, test_size=0.33, random_state=42)"
   ]
  },
  {
   "cell_type": "markdown",
   "metadata": {},
   "source": [
    "### Hyper tunning\n",
    "\n",
    "We could consider tunning the model hyper parameters to answer questions such as:\n",
    "\n",
    "- Wich value of `n_estimators` is the best for this model and data?\n",
    "- Wich cost function is the best to be selected as `objective` for this model?\n",
    "\n",
    "We could do a hyper search, to find the best hyper parameters for this model, automating the hyper parameter selection. There are several already builded algorithms to optimize this parameter search, and build find with high performance the best parameters, provided a set of possible values. But, to understand what those algorithms actually does, we could once build our own search algorithm...\n",
    "\n",
    "As an example, lets run a first handly defined hyper parameter tunning using the confusion matrix of the model:"
   ]
  },
  {
   "cell_type": "code",
   "execution_count": 6,
   "metadata": {},
   "outputs": [],
   "source": [
    "import xgboost as xgb\n",
    "from sklearn.metrics import confusion_matrix\n",
    "\n",
    "# Define the model parameters \n",
    "param_dist = {\n",
    "    'objective':'binary:logistic', \n",
    "    'n_estimators' : 11\n",
    "}\n",
    "\n",
    "# Create the range parameters to \n",
    "# search\n",
    "n_estimators = [ k+1 for k in range(100)]\n",
    "\n",
    "# Create the plotting variable\n",
    "plot_vals = {\n",
    "    'true': {\n",
    "        'confirmed targets': [],\n",
    "        'eclipsing binaries': [],\n",
    "    },\n",
    "    'false': {\n",
    "        'confirmed targets': [],\n",
    "        'eclipsing binaries': [],\n",
    "    }\n",
    "}\n",
    "\n",
    "# Estimate and validate each candidate\n",
    "for opt in n_estimators:\n",
    "    # Update the model parameters\n",
    "    param_dist['n_estimators'] = opt\n",
    "    # Create the xgBoost classifier\n",
    "    clfs = xgb.XGBRFClassifier(**param_dist)\n",
    "    # Fit the model to the data\n",
    "    clfs.fit(X_train, y_train,\n",
    "            eval_metric='logloss',\n",
    "            verbose=True)\n",
    "    # Estimate the test output\n",
    "    y_pred = clfs.predict(X_test)\n",
    "    # Compute the confusion matrix\n",
    "    conf_mat = confusion_matrix(\n",
    "        y_test, y_pred,\n",
    "        normalize='true')\n",
    "    # Save the confusion matrix\n",
    "    plot_vals['true']['confirmed targets'].append(conf_mat[0,0])\n",
    "    plot_vals['true']['eclipsing binaries'].append(conf_mat[1,1])\n",
    "    plot_vals['false']['confirmed targets'].append(conf_mat[0,1])\n",
    "    plot_vals['false']['eclipsing binaries'].append(conf_mat[1,0])"
   ]
  },
  {
   "cell_type": "code",
   "execution_count": 7,
   "metadata": {},
   "outputs": [
    {
     "data": {
      "text/html": [
       "\n",
       "    <div class=\"bk-root\">\n",
       "        <a href=\"https://bokeh.org\" target=\"_blank\" class=\"bk-logo bk-logo-small bk-logo-notebook\"></a>\n",
       "        <span id=\"1001\">Loading BokehJS ...</span>\n",
       "    </div>"
      ]
     },
     "metadata": {},
     "output_type": "display_data"
    },
    {
     "data": {
      "application/javascript": [
       "\n",
       "(function(root) {\n",
       "  function now() {\n",
       "    return new Date();\n",
       "  }\n",
       "\n",
       "  var force = true;\n",
       "\n",
       "  if (typeof root._bokeh_onload_callbacks === \"undefined\" || force === true) {\n",
       "    root._bokeh_onload_callbacks = [];\n",
       "    root._bokeh_is_loading = undefined;\n",
       "  }\n",
       "\n",
       "  var JS_MIME_TYPE = 'application/javascript';\n",
       "  var HTML_MIME_TYPE = 'text/html';\n",
       "  var EXEC_MIME_TYPE = 'application/vnd.bokehjs_exec.v0+json';\n",
       "  var CLASS_NAME = 'output_bokeh rendered_html';\n",
       "\n",
       "  /**\n",
       "   * Render data to the DOM node\n",
       "   */\n",
       "  function render(props, node) {\n",
       "    var script = document.createElement(\"script\");\n",
       "    node.appendChild(script);\n",
       "  }\n",
       "\n",
       "  /**\n",
       "   * Handle when an output is cleared or removed\n",
       "   */\n",
       "  function handleClearOutput(event, handle) {\n",
       "    var cell = handle.cell;\n",
       "\n",
       "    var id = cell.output_area._bokeh_element_id;\n",
       "    var server_id = cell.output_area._bokeh_server_id;\n",
       "    // Clean up Bokeh references\n",
       "    if (id != null && id in Bokeh.index) {\n",
       "      Bokeh.index[id].model.document.clear();\n",
       "      delete Bokeh.index[id];\n",
       "    }\n",
       "\n",
       "    if (server_id !== undefined) {\n",
       "      // Clean up Bokeh references\n",
       "      var cmd = \"from bokeh.io.state import curstate; print(curstate().uuid_to_server['\" + server_id + \"'].get_sessions()[0].document.roots[0]._id)\";\n",
       "      cell.notebook.kernel.execute(cmd, {\n",
       "        iopub: {\n",
       "          output: function(msg) {\n",
       "            var id = msg.content.text.trim();\n",
       "            if (id in Bokeh.index) {\n",
       "              Bokeh.index[id].model.document.clear();\n",
       "              delete Bokeh.index[id];\n",
       "            }\n",
       "          }\n",
       "        }\n",
       "      });\n",
       "      // Destroy server and session\n",
       "      var cmd = \"import bokeh.io.notebook as ion; ion.destroy_server('\" + server_id + \"')\";\n",
       "      cell.notebook.kernel.execute(cmd);\n",
       "    }\n",
       "  }\n",
       "\n",
       "  /**\n",
       "   * Handle when a new output is added\n",
       "   */\n",
       "  function handleAddOutput(event, handle) {\n",
       "    var output_area = handle.output_area;\n",
       "    var output = handle.output;\n",
       "\n",
       "    // limit handleAddOutput to display_data with EXEC_MIME_TYPE content only\n",
       "    if ((output.output_type != \"display_data\") || (!output.data.hasOwnProperty(EXEC_MIME_TYPE))) {\n",
       "      return\n",
       "    }\n",
       "\n",
       "    var toinsert = output_area.element.find(\".\" + CLASS_NAME.split(' ')[0]);\n",
       "\n",
       "    if (output.metadata[EXEC_MIME_TYPE][\"id\"] !== undefined) {\n",
       "      toinsert[toinsert.length - 1].firstChild.textContent = output.data[JS_MIME_TYPE];\n",
       "      // store reference to embed id on output_area\n",
       "      output_area._bokeh_element_id = output.metadata[EXEC_MIME_TYPE][\"id\"];\n",
       "    }\n",
       "    if (output.metadata[EXEC_MIME_TYPE][\"server_id\"] !== undefined) {\n",
       "      var bk_div = document.createElement(\"div\");\n",
       "      bk_div.innerHTML = output.data[HTML_MIME_TYPE];\n",
       "      var script_attrs = bk_div.children[0].attributes;\n",
       "      for (var i = 0; i < script_attrs.length; i++) {\n",
       "        toinsert[toinsert.length - 1].firstChild.setAttribute(script_attrs[i].name, script_attrs[i].value);\n",
       "        toinsert[toinsert.length - 1].firstChild.textContent = bk_div.children[0].textContent\n",
       "      }\n",
       "      // store reference to server id on output_area\n",
       "      output_area._bokeh_server_id = output.metadata[EXEC_MIME_TYPE][\"server_id\"];\n",
       "    }\n",
       "  }\n",
       "\n",
       "  function register_renderer(events, OutputArea) {\n",
       "\n",
       "    function append_mime(data, metadata, element) {\n",
       "      // create a DOM node to render to\n",
       "      var toinsert = this.create_output_subarea(\n",
       "        metadata,\n",
       "        CLASS_NAME,\n",
       "        EXEC_MIME_TYPE\n",
       "      );\n",
       "      this.keyboard_manager.register_events(toinsert);\n",
       "      // Render to node\n",
       "      var props = {data: data, metadata: metadata[EXEC_MIME_TYPE]};\n",
       "      render(props, toinsert[toinsert.length - 1]);\n",
       "      element.append(toinsert);\n",
       "      return toinsert\n",
       "    }\n",
       "\n",
       "    /* Handle when an output is cleared or removed */\n",
       "    events.on('clear_output.CodeCell', handleClearOutput);\n",
       "    events.on('delete.Cell', handleClearOutput);\n",
       "\n",
       "    /* Handle when a new output is added */\n",
       "    events.on('output_added.OutputArea', handleAddOutput);\n",
       "\n",
       "    /**\n",
       "     * Register the mime type and append_mime function with output_area\n",
       "     */\n",
       "    OutputArea.prototype.register_mime_type(EXEC_MIME_TYPE, append_mime, {\n",
       "      /* Is output safe? */\n",
       "      safe: true,\n",
       "      /* Index of renderer in `output_area.display_order` */\n",
       "      index: 0\n",
       "    });\n",
       "  }\n",
       "\n",
       "  // register the mime type if in Jupyter Notebook environment and previously unregistered\n",
       "  if (root.Jupyter !== undefined) {\n",
       "    var events = require('base/js/events');\n",
       "    var OutputArea = require('notebook/js/outputarea').OutputArea;\n",
       "\n",
       "    if (OutputArea.prototype.mime_types().indexOf(EXEC_MIME_TYPE) == -1) {\n",
       "      register_renderer(events, OutputArea);\n",
       "    }\n",
       "  }\n",
       "\n",
       "  \n",
       "  if (typeof (root._bokeh_timeout) === \"undefined\" || force === true) {\n",
       "    root._bokeh_timeout = Date.now() + 5000;\n",
       "    root._bokeh_failed_load = false;\n",
       "  }\n",
       "\n",
       "  var NB_LOAD_WARNING = {'data': {'text/html':\n",
       "     \"<div style='background-color: #fdd'>\\n\"+\n",
       "     \"<p>\\n\"+\n",
       "     \"BokehJS does not appear to have successfully loaded. If loading BokehJS from CDN, this \\n\"+\n",
       "     \"may be due to a slow or bad network connection. Possible fixes:\\n\"+\n",
       "     \"</p>\\n\"+\n",
       "     \"<ul>\\n\"+\n",
       "     \"<li>re-rerun `output_notebook()` to attempt to load from CDN again, or</li>\\n\"+\n",
       "     \"<li>use INLINE resources instead, as so:</li>\\n\"+\n",
       "     \"</ul>\\n\"+\n",
       "     \"<code>\\n\"+\n",
       "     \"from bokeh.resources import INLINE\\n\"+\n",
       "     \"output_notebook(resources=INLINE)\\n\"+\n",
       "     \"</code>\\n\"+\n",
       "     \"</div>\"}};\n",
       "\n",
       "  function display_loaded() {\n",
       "    var el = document.getElementById(\"1001\");\n",
       "    if (el != null) {\n",
       "      el.textContent = \"BokehJS is loading...\";\n",
       "    }\n",
       "    if (root.Bokeh !== undefined) {\n",
       "      if (el != null) {\n",
       "        el.textContent = \"BokehJS \" + root.Bokeh.version + \" successfully loaded.\";\n",
       "      }\n",
       "    } else if (Date.now() < root._bokeh_timeout) {\n",
       "      setTimeout(display_loaded, 100)\n",
       "    }\n",
       "  }\n",
       "\n",
       "\n",
       "  function run_callbacks() {\n",
       "    try {\n",
       "      root._bokeh_onload_callbacks.forEach(function(callback) {\n",
       "        if (callback != null)\n",
       "          callback();\n",
       "      });\n",
       "    } finally {\n",
       "      delete root._bokeh_onload_callbacks\n",
       "    }\n",
       "    console.debug(\"Bokeh: all callbacks have finished\");\n",
       "  }\n",
       "\n",
       "  function load_libs(css_urls, js_urls, callback) {\n",
       "    if (css_urls == null) css_urls = [];\n",
       "    if (js_urls == null) js_urls = [];\n",
       "\n",
       "    root._bokeh_onload_callbacks.push(callback);\n",
       "    if (root._bokeh_is_loading > 0) {\n",
       "      console.debug(\"Bokeh: BokehJS is being loaded, scheduling callback at\", now());\n",
       "      return null;\n",
       "    }\n",
       "    if (js_urls == null || js_urls.length === 0) {\n",
       "      run_callbacks();\n",
       "      return null;\n",
       "    }\n",
       "    console.debug(\"Bokeh: BokehJS not loaded, scheduling load and callback at\", now());\n",
       "    root._bokeh_is_loading = css_urls.length + js_urls.length;\n",
       "\n",
       "    function on_load() {\n",
       "      root._bokeh_is_loading--;\n",
       "      if (root._bokeh_is_loading === 0) {\n",
       "        console.debug(\"Bokeh: all BokehJS libraries/stylesheets loaded\");\n",
       "        run_callbacks()\n",
       "      }\n",
       "    }\n",
       "\n",
       "    function on_error() {\n",
       "      console.error(\"failed to load \" + url);\n",
       "    }\n",
       "\n",
       "    for (var i = 0; i < css_urls.length; i++) {\n",
       "      var url = css_urls[i];\n",
       "      const element = document.createElement(\"link\");\n",
       "      element.onload = on_load;\n",
       "      element.onerror = on_error;\n",
       "      element.rel = \"stylesheet\";\n",
       "      element.type = \"text/css\";\n",
       "      element.href = url;\n",
       "      console.debug(\"Bokeh: injecting link tag for BokehJS stylesheet: \", url);\n",
       "      document.body.appendChild(element);\n",
       "    }\n",
       "\n",
       "    const hashes = {\"https://cdn.bokeh.org/bokeh/release/bokeh-2.0.1.min.js\": \"JpP8FXbgAZLkfur7LiK3j9AGBhHNIvF742meBJrjO2ShJDhCG2I1uVvW+0DUtrmc\", \"https://cdn.bokeh.org/bokeh/release/bokeh-widgets-2.0.1.min.js\": \"xZlADit0Q04ISQEdKg2k3L4W9AwQBAuDs9nJL9fM/WwzL1tEU9VPNezOFX0nLEAz\", \"https://cdn.bokeh.org/bokeh/release/bokeh-tables-2.0.1.min.js\": \"4BuPRZkdMKSnj3zoxiNrQ86XgNw0rYmBOxe7nshquXwwcauupgBF2DHLVG1WuZlV\", \"https://cdn.bokeh.org/bokeh/release/bokeh-gl-2.0.1.min.js\": \"Dv1SQ87hmDqK6S5OhBf0bCuwAEvL5QYL0PuR/F1SPVhCS/r/abjkbpKDYL2zeM19\"};\n",
       "\n",
       "    for (var i = 0; i < js_urls.length; i++) {\n",
       "      var url = js_urls[i];\n",
       "      var element = document.createElement('script');\n",
       "      element.onload = on_load;\n",
       "      element.onerror = on_error;\n",
       "      element.async = false;\n",
       "      element.src = url;\n",
       "      if (url in hashes) {\n",
       "        element.crossOrigin = \"anonymous\";\n",
       "        element.integrity = \"sha384-\" + hashes[url];\n",
       "      }\n",
       "      console.debug(\"Bokeh: injecting script tag for BokehJS library: \", url);\n",
       "      document.head.appendChild(element);\n",
       "    }\n",
       "  };var element = document.getElementById(\"1001\");\n",
       "  if (element == null) {\n",
       "    console.error(\"Bokeh: ERROR: autoload.js configured with elementid '1001' but no matching script tag was found. \")\n",
       "    return false;\n",
       "  }\n",
       "\n",
       "  function inject_raw_css(css) {\n",
       "    const element = document.createElement(\"style\");\n",
       "    element.appendChild(document.createTextNode(css));\n",
       "    document.body.appendChild(element);\n",
       "  }\n",
       "\n",
       "  \n",
       "  var js_urls = [\"https://cdn.bokeh.org/bokeh/release/bokeh-2.0.1.min.js\", \"https://cdn.bokeh.org/bokeh/release/bokeh-widgets-2.0.1.min.js\", \"https://cdn.bokeh.org/bokeh/release/bokeh-tables-2.0.1.min.js\", \"https://cdn.bokeh.org/bokeh/release/bokeh-gl-2.0.1.min.js\"];\n",
       "  var css_urls = [];\n",
       "  \n",
       "\n",
       "  var inline_js = [\n",
       "    function(Bokeh) {\n",
       "      Bokeh.set_log_level(\"info\");\n",
       "    },\n",
       "    function(Bokeh) {\n",
       "    \n",
       "    \n",
       "    }\n",
       "  ];\n",
       "\n",
       "  function run_inline_js() {\n",
       "    \n",
       "    if (root.Bokeh !== undefined || force === true) {\n",
       "      \n",
       "    for (var i = 0; i < inline_js.length; i++) {\n",
       "      inline_js[i].call(root, root.Bokeh);\n",
       "    }\n",
       "    if (force === true) {\n",
       "        display_loaded();\n",
       "      }} else if (Date.now() < root._bokeh_timeout) {\n",
       "      setTimeout(run_inline_js, 100);\n",
       "    } else if (!root._bokeh_failed_load) {\n",
       "      console.log(\"Bokeh: BokehJS failed to load within specified timeout.\");\n",
       "      root._bokeh_failed_load = true;\n",
       "    } else if (force !== true) {\n",
       "      var cell = $(document.getElementById(\"1001\")).parents('.cell').data().cell;\n",
       "      cell.output_area.append_execute_result(NB_LOAD_WARNING)\n",
       "    }\n",
       "\n",
       "  }\n",
       "\n",
       "  if (root._bokeh_is_loading === 0) {\n",
       "    console.debug(\"Bokeh: BokehJS loaded, going straight to plotting\");\n",
       "    run_inline_js();\n",
       "  } else {\n",
       "    load_libs(css_urls, js_urls, function() {\n",
       "      console.debug(\"Bokeh: BokehJS plotting callback run at\", now());\n",
       "      run_inline_js();\n",
       "    });\n",
       "  }\n",
       "}(window));"
      ],
      "application/vnd.bokehjs_load.v0+json": "\n(function(root) {\n  function now() {\n    return new Date();\n  }\n\n  var force = true;\n\n  if (typeof root._bokeh_onload_callbacks === \"undefined\" || force === true) {\n    root._bokeh_onload_callbacks = [];\n    root._bokeh_is_loading = undefined;\n  }\n\n  \n\n  \n  if (typeof (root._bokeh_timeout) === \"undefined\" || force === true) {\n    root._bokeh_timeout = Date.now() + 5000;\n    root._bokeh_failed_load = false;\n  }\n\n  var NB_LOAD_WARNING = {'data': {'text/html':\n     \"<div style='background-color: #fdd'>\\n\"+\n     \"<p>\\n\"+\n     \"BokehJS does not appear to have successfully loaded. If loading BokehJS from CDN, this \\n\"+\n     \"may be due to a slow or bad network connection. Possible fixes:\\n\"+\n     \"</p>\\n\"+\n     \"<ul>\\n\"+\n     \"<li>re-rerun `output_notebook()` to attempt to load from CDN again, or</li>\\n\"+\n     \"<li>use INLINE resources instead, as so:</li>\\n\"+\n     \"</ul>\\n\"+\n     \"<code>\\n\"+\n     \"from bokeh.resources import INLINE\\n\"+\n     \"output_notebook(resources=INLINE)\\n\"+\n     \"</code>\\n\"+\n     \"</div>\"}};\n\n  function display_loaded() {\n    var el = document.getElementById(\"1001\");\n    if (el != null) {\n      el.textContent = \"BokehJS is loading...\";\n    }\n    if (root.Bokeh !== undefined) {\n      if (el != null) {\n        el.textContent = \"BokehJS \" + root.Bokeh.version + \" successfully loaded.\";\n      }\n    } else if (Date.now() < root._bokeh_timeout) {\n      setTimeout(display_loaded, 100)\n    }\n  }\n\n\n  function run_callbacks() {\n    try {\n      root._bokeh_onload_callbacks.forEach(function(callback) {\n        if (callback != null)\n          callback();\n      });\n    } finally {\n      delete root._bokeh_onload_callbacks\n    }\n    console.debug(\"Bokeh: all callbacks have finished\");\n  }\n\n  function load_libs(css_urls, js_urls, callback) {\n    if (css_urls == null) css_urls = [];\n    if (js_urls == null) js_urls = [];\n\n    root._bokeh_onload_callbacks.push(callback);\n    if (root._bokeh_is_loading > 0) {\n      console.debug(\"Bokeh: BokehJS is being loaded, scheduling callback at\", now());\n      return null;\n    }\n    if (js_urls == null || js_urls.length === 0) {\n      run_callbacks();\n      return null;\n    }\n    console.debug(\"Bokeh: BokehJS not loaded, scheduling load and callback at\", now());\n    root._bokeh_is_loading = css_urls.length + js_urls.length;\n\n    function on_load() {\n      root._bokeh_is_loading--;\n      if (root._bokeh_is_loading === 0) {\n        console.debug(\"Bokeh: all BokehJS libraries/stylesheets loaded\");\n        run_callbacks()\n      }\n    }\n\n    function on_error() {\n      console.error(\"failed to load \" + url);\n    }\n\n    for (var i = 0; i < css_urls.length; i++) {\n      var url = css_urls[i];\n      const element = document.createElement(\"link\");\n      element.onload = on_load;\n      element.onerror = on_error;\n      element.rel = \"stylesheet\";\n      element.type = \"text/css\";\n      element.href = url;\n      console.debug(\"Bokeh: injecting link tag for BokehJS stylesheet: \", url);\n      document.body.appendChild(element);\n    }\n\n    const hashes = {\"https://cdn.bokeh.org/bokeh/release/bokeh-2.0.1.min.js\": \"JpP8FXbgAZLkfur7LiK3j9AGBhHNIvF742meBJrjO2ShJDhCG2I1uVvW+0DUtrmc\", \"https://cdn.bokeh.org/bokeh/release/bokeh-widgets-2.0.1.min.js\": \"xZlADit0Q04ISQEdKg2k3L4W9AwQBAuDs9nJL9fM/WwzL1tEU9VPNezOFX0nLEAz\", \"https://cdn.bokeh.org/bokeh/release/bokeh-tables-2.0.1.min.js\": \"4BuPRZkdMKSnj3zoxiNrQ86XgNw0rYmBOxe7nshquXwwcauupgBF2DHLVG1WuZlV\", \"https://cdn.bokeh.org/bokeh/release/bokeh-gl-2.0.1.min.js\": \"Dv1SQ87hmDqK6S5OhBf0bCuwAEvL5QYL0PuR/F1SPVhCS/r/abjkbpKDYL2zeM19\"};\n\n    for (var i = 0; i < js_urls.length; i++) {\n      var url = js_urls[i];\n      var element = document.createElement('script');\n      element.onload = on_load;\n      element.onerror = on_error;\n      element.async = false;\n      element.src = url;\n      if (url in hashes) {\n        element.crossOrigin = \"anonymous\";\n        element.integrity = \"sha384-\" + hashes[url];\n      }\n      console.debug(\"Bokeh: injecting script tag for BokehJS library: \", url);\n      document.head.appendChild(element);\n    }\n  };var element = document.getElementById(\"1001\");\n  if (element == null) {\n    console.error(\"Bokeh: ERROR: autoload.js configured with elementid '1001' but no matching script tag was found. \")\n    return false;\n  }\n\n  function inject_raw_css(css) {\n    const element = document.createElement(\"style\");\n    element.appendChild(document.createTextNode(css));\n    document.body.appendChild(element);\n  }\n\n  \n  var js_urls = [\"https://cdn.bokeh.org/bokeh/release/bokeh-2.0.1.min.js\", \"https://cdn.bokeh.org/bokeh/release/bokeh-widgets-2.0.1.min.js\", \"https://cdn.bokeh.org/bokeh/release/bokeh-tables-2.0.1.min.js\", \"https://cdn.bokeh.org/bokeh/release/bokeh-gl-2.0.1.min.js\"];\n  var css_urls = [];\n  \n\n  var inline_js = [\n    function(Bokeh) {\n      Bokeh.set_log_level(\"info\");\n    },\n    function(Bokeh) {\n    \n    \n    }\n  ];\n\n  function run_inline_js() {\n    \n    if (root.Bokeh !== undefined || force === true) {\n      \n    for (var i = 0; i < inline_js.length; i++) {\n      inline_js[i].call(root, root.Bokeh);\n    }\n    if (force === true) {\n        display_loaded();\n      }} else if (Date.now() < root._bokeh_timeout) {\n      setTimeout(run_inline_js, 100);\n    } else if (!root._bokeh_failed_load) {\n      console.log(\"Bokeh: BokehJS failed to load within specified timeout.\");\n      root._bokeh_failed_load = true;\n    } else if (force !== true) {\n      var cell = $(document.getElementById(\"1001\")).parents('.cell').data().cell;\n      cell.output_area.append_execute_result(NB_LOAD_WARNING)\n    }\n\n  }\n\n  if (root._bokeh_is_loading === 0) {\n    console.debug(\"Bokeh: BokehJS loaded, going straight to plotting\");\n    run_inline_js();\n  } else {\n    load_libs(css_urls, js_urls, function() {\n      console.debug(\"Bokeh: BokehJS plotting callback run at\", now());\n      run_inline_js();\n    });\n  }\n}(window));"
     },
     "metadata": {},
     "output_type": "display_data"
    },
    {
     "data": {
      "text/html": [
       "\n",
       "\n",
       "\n",
       "\n",
       "\n",
       "\n",
       "  <div class=\"bk-root\" id=\"4b0b5327-6f92-432f-8ebb-6439527f449e\" data-root-id=\"1104\"></div>\n"
      ]
     },
     "metadata": {},
     "output_type": "display_data"
    },
    {
     "data": {
      "application/javascript": [
       "(function(root) {\n",
       "  function embed_document(root) {\n",
       "    \n",
       "  var docs_json = {\"56afd0f1-82d6-4d61-a4bd-ee19fe8e6928\":{\"roots\":{\"references\":[{\"attributes\":{\"children\":[{\"id\":\"1002\"}]},\"id\":\"1104\",\"type\":\"Column\"},{\"attributes\":{\"source\":{\"id\":\"1035\"}},\"id\":\"1040\",\"type\":\"CDSView\"},{\"attributes\":{\"line_cap\":\"round\",\"line_color\":\"#FC9366\",\"line_width\":3,\"x\":{\"field\":\"x\"},\"y\":{\"field\":\"y\"}},\"id\":\"1050\",\"type\":\"Line\"},{\"attributes\":{},\"id\":\"1098\",\"type\":\"UnionRenderers\"},{\"attributes\":{\"data_source\":{\"id\":\"1064\"},\"glyph\":{\"id\":\"1065\"},\"hover_glyph\":null,\"muted_glyph\":{\"id\":\"1067\"},\"nonselection_glyph\":{\"id\":\"1066\"},\"selection_glyph\":null,\"view\":{\"id\":\"1069\"}},\"id\":\"1068\",\"type\":\"GlyphRenderer\"},{\"attributes\":{\"axis\":{\"id\":\"1013\"},\"band_fill_alpha\":0.05,\"band_fill_color\":\"#000003\",\"grid_line_alpha\":0,\"ticker\":null},\"id\":\"1016\",\"type\":\"Grid\"},{\"attributes\":{\"callback\":null},\"id\":\"1102\",\"type\":\"HoverTool\"},{\"attributes\":{},\"id\":\"1044\",\"type\":\"BasicTickFormatter\"},{\"attributes\":{},\"id\":\"1018\",\"type\":\"BasicTicker\"},{\"attributes\":{\"line_alpha\":0.1,\"line_cap\":\"round\",\"line_color\":\"#430F75\",\"line_width\":3,\"x\":{\"field\":\"x\"},\"y\":{\"field\":\"y\"}},\"id\":\"1066\",\"type\":\"Line\"},{\"attributes\":{\"axis_label\":\"Proportion\",\"formatter\":{\"id\":\"1044\"},\"ticker\":{\"id\":\"1018\"}},\"id\":\"1017\",\"type\":\"LinearAxis\"},{\"attributes\":{\"axis\":{\"id\":\"1017\"},\"dimension\":1,\"grid_line_alpha\":0,\"ticker\":null},\"id\":\"1020\",\"type\":\"Grid\"},{\"attributes\":{\"source\":{\"id\":\"1064\"}},\"id\":\"1069\",\"type\":\"CDSView\"},{\"attributes\":{\"label\":{\"value\":\"False - E.B.\"},\"renderers\":[{\"id\":\"1085\"}]},\"id\":\"1099\",\"type\":\"LegendItem\"},{\"attributes\":{\"data\":{\"x\":[1,2,3,4,5,6,7,8,9,10,11,12,13,14,15,16,17,18,19,20,21,22,23,24,25,26,27,28,29,30,31,32,33,34,35,36,37,38,39,40,41,42,43,44,45,46,47,48,49,50,51,52,53,54,55,56,57,58,59,60,61,62,63,64,65,66,67,68,69,70,71,72,73,74,75,76,77,78,79,80,81,82,83,84,85,86,87,88,89,90,91,92,93,94,95,96,97,98,99,100],\"y\":[0.6666666666666666,0.8333333333333334,0.6666666666666666,0.75,0.75,0.75,0.75,0.75,0.75,0.75,0.75,0.75,0.75,0.75,0.75,0.75,0.75,0.75,0.8333333333333334,0.75,0.8333333333333334,0.75,0.75,0.75,0.75,0.75,0.75,0.75,0.75,0.75,0.75,0.75,0.75,0.75,0.75,0.75,0.75,0.75,0.75,0.75,0.75,0.75,0.75,0.75,0.75,0.75,0.75,0.75,0.75,0.75,0.75,0.75,0.75,0.75,0.75,0.75,0.75,0.75,0.75,0.75,0.75,0.75,0.75,0.75,0.75,0.75,0.75,0.75,0.75,0.75,0.75,0.75,0.75,0.75,0.75,0.75,0.75,0.75,0.75,0.75,0.75,0.75,0.75,0.75,0.75,0.75,0.75,0.75,0.75,0.75,0.75,0.75,0.75,0.75,0.75,0.75,0.75,0.75,0.75,0.75]},\"selected\":{\"id\":\"1078\"},\"selection_policy\":{\"id\":\"1079\"}},\"id\":\"1049\",\"type\":\"ColumnDataSource\"},{\"attributes\":{\"line_alpha\":0.1,\"line_cap\":\"round\",\"line_color\":\"#FC9366\",\"line_width\":3,\"x\":{\"field\":\"x\"},\"y\":{\"field\":\"y\"}},\"id\":\"1051\",\"type\":\"Line\"},{\"attributes\":{\"active_drag\":\"auto\",\"active_inspect\":\"auto\",\"active_multi\":null,\"active_scroll\":\"auto\",\"active_tap\":\"auto\",\"tools\":[{\"id\":\"1021\"},{\"id\":\"1022\"},{\"id\":\"1023\"},{\"id\":\"1024\"},{\"id\":\"1025\"},{\"id\":\"1026\"},{\"id\":\"1100\"},{\"id\":\"1102\"}]},\"id\":\"1028\",\"type\":\"Toolbar\"},{\"attributes\":{\"data_source\":{\"id\":\"1035\"},\"glyph\":{\"id\":\"1036\"},\"hover_glyph\":null,\"muted_glyph\":{\"id\":\"1038\"},\"nonselection_glyph\":{\"id\":\"1037\"},\"selection_glyph\":null,\"view\":{\"id\":\"1040\"}},\"id\":\"1039\",\"type\":\"GlyphRenderer\"},{\"attributes\":{\"line_alpha\":0.2,\"line_cap\":\"round\",\"line_color\":\"#430F75\",\"line_width\":3,\"x\":{\"field\":\"x\"},\"y\":{\"field\":\"y\"}},\"id\":\"1067\",\"type\":\"Line\"},{\"attributes\":{\"line_alpha\":0.1,\"line_cap\":\"round\",\"line_color\":\"#F0605D\",\"line_width\":3,\"x\":{\"field\":\"x\"},\"y\":{\"field\":\"y\"}},\"id\":\"1037\",\"type\":\"Line\"},{\"attributes\":{},\"id\":\"1119\",\"type\":\"UnionRenderers\"},{\"attributes\":{},\"id\":\"1042\",\"type\":\"BasicTickFormatter\"},{\"attributes\":{},\"id\":\"1078\",\"type\":\"Selection\"},{\"attributes\":{},\"id\":\"1014\",\"type\":\"BasicTicker\"},{\"attributes\":{\"line_alpha\":0.2,\"line_cap\":\"round\",\"line_color\":\"#F0605D\",\"line_width\":3,\"x\":{\"field\":\"x\"},\"y\":{\"field\":\"y\"}},\"id\":\"1038\",\"type\":\"Line\"},{\"attributes\":{\"data\":{\"x\":[1,2,3,4,5,6,7,8,9,10,11,12,13,14,15,16,17,18,19,20,21,22,23,24,25,26,27,28,29,30,31,32,33,34,35,36,37,38,39,40,41,42,43,44,45,46,47,48,49,50,51,52,53,54,55,56,57,58,59,60,61,62,63,64,65,66,67,68,69,70,71,72,73,74,75,76,77,78,79,80,81,82,83,84,85,86,87,88,89,90,91,92,93,94,95,96,97,98,99,100],\"y\":[0.7142857142857143,0.6428571428571429,0.42857142857142855,0.7142857142857143,0.7142857142857143,0.7142857142857143,0.6428571428571429,0.6428571428571429,0.6428571428571429,0.7142857142857143,0.6428571428571429,0.7142857142857143,0.6428571428571429,0.5,0.42857142857142855,0.5,0.35714285714285715,0.5,0.42857142857142855,0.5,0.5,0.5,0.42857142857142855,0.5,0.42857142857142855,0.5,0.35714285714285715,0.35714285714285715,0.35714285714285715,0.35714285714285715,0.35714285714285715,0.35714285714285715,0.35714285714285715,0.35714285714285715,0.35714285714285715,0.35714285714285715,0.35714285714285715,0.35714285714285715,0.42857142857142855,0.42857142857142855,0.5,0.42857142857142855,0.5,0.42857142857142855,0.42857142857142855,0.42857142857142855,0.42857142857142855,0.42857142857142855,0.5,0.5,0.5,0.5,0.5,0.42857142857142855,0.5,0.42857142857142855,0.42857142857142855,0.5,0.42857142857142855,0.5,0.42857142857142855,0.5,0.35714285714285715,0.42857142857142855,0.35714285714285715,0.35714285714285715,0.42857142857142855,0.35714285714285715,0.42857142857142855,0.35714285714285715,0.35714285714285715,0.42857142857142855,0.42857142857142855,0.42857142857142855,0.35714285714285715,0.35714285714285715,0.35714285714285715,0.35714285714285715,0.35714285714285715,0.35714285714285715,0.35714285714285715,0.35714285714285715,0.35714285714285715,0.35714285714285715,0.42857142857142855,0.42857142857142855,0.42857142857142855,0.42857142857142855,0.42857142857142855,0.42857142857142855,0.42857142857142855,0.42857142857142855,0.5,0.42857142857142855,0.5,0.42857142857142855,0.5,0.5,0.5,0.42857142857142855]},\"selected\":{\"id\":\"1061\"},\"selection_policy\":{\"id\":\"1062\"}},\"id\":\"1035\",\"type\":\"ColumnDataSource\"},{\"attributes\":{\"fill_alpha\":0.5,\"fill_color\":\"lightgrey\",\"level\":\"overlay\",\"line_alpha\":1.0,\"line_color\":\"black\",\"line_dash\":[4,4],\"line_width\":2,\"xs_units\":\"screen\",\"ys_units\":\"screen\"},\"id\":\"1111\",\"type\":\"PolyAnnotation\"},{\"attributes\":{\"overlay\":{\"id\":\"1111\"}},\"id\":\"1100\",\"type\":\"LassoSelectTool\"},{\"attributes\":{\"bottom_units\":\"screen\",\"fill_alpha\":0.5,\"fill_color\":\"lightgrey\",\"left_units\":\"screen\",\"level\":\"overlay\",\"line_alpha\":1.0,\"line_color\":\"black\",\"line_dash\":[4,4],\"line_width\":2,\"render_mode\":\"css\",\"right_units\":\"screen\",\"top_units\":\"screen\"},\"id\":\"1027\",\"type\":\"BoxAnnotation\"},{\"attributes\":{\"data_source\":{\"id\":\"1049\"},\"glyph\":{\"id\":\"1050\"},\"hover_glyph\":null,\"muted_glyph\":{\"id\":\"1052\"},\"nonselection_glyph\":{\"id\":\"1051\"},\"selection_glyph\":null,\"view\":{\"id\":\"1054\"}},\"id\":\"1053\",\"type\":\"GlyphRenderer\"},{\"attributes\":{\"label\":{\"value\":\"False - C.T.\"},\"renderers\":[{\"id\":\"1068\"}]},\"id\":\"1080\",\"type\":\"LegendItem\"},{\"attributes\":{},\"id\":\"1079\",\"type\":\"UnionRenderers\"},{\"attributes\":{\"data\":{\"x\":[1,2,3,4,5,6,7,8,9,10,11,12,13,14,15,16,17,18,19,20,21,22,23,24,25,26,27,28,29,30,31,32,33,34,35,36,37,38,39,40,41,42,43,44,45,46,47,48,49,50,51,52,53,54,55,56,57,58,59,60,61,62,63,64,65,66,67,68,69,70,71,72,73,74,75,76,77,78,79,80,81,82,83,84,85,86,87,88,89,90,91,92,93,94,95,96,97,98,99,100],\"y\":[0.2857142857142857,0.35714285714285715,0.5714285714285714,0.2857142857142857,0.2857142857142857,0.2857142857142857,0.35714285714285715,0.35714285714285715,0.35714285714285715,0.2857142857142857,0.35714285714285715,0.2857142857142857,0.35714285714285715,0.5,0.5714285714285714,0.5,0.6428571428571429,0.5,0.5714285714285714,0.5,0.5,0.5,0.5714285714285714,0.5,0.5714285714285714,0.5,0.6428571428571429,0.6428571428571429,0.6428571428571429,0.6428571428571429,0.6428571428571429,0.6428571428571429,0.6428571428571429,0.6428571428571429,0.6428571428571429,0.6428571428571429,0.6428571428571429,0.6428571428571429,0.5714285714285714,0.5714285714285714,0.5,0.5714285714285714,0.5,0.5714285714285714,0.5714285714285714,0.5714285714285714,0.5714285714285714,0.5714285714285714,0.5,0.5,0.5,0.5,0.5,0.5714285714285714,0.5,0.5714285714285714,0.5714285714285714,0.5,0.5714285714285714,0.5,0.5714285714285714,0.5,0.6428571428571429,0.5714285714285714,0.6428571428571429,0.6428571428571429,0.5714285714285714,0.6428571428571429,0.5714285714285714,0.6428571428571429,0.6428571428571429,0.5714285714285714,0.5714285714285714,0.5714285714285714,0.6428571428571429,0.6428571428571429,0.6428571428571429,0.6428571428571429,0.6428571428571429,0.6428571428571429,0.6428571428571429,0.6428571428571429,0.6428571428571429,0.6428571428571429,0.5714285714285714,0.5714285714285714,0.5714285714285714,0.5714285714285714,0.5714285714285714,0.5714285714285714,0.5714285714285714,0.5714285714285714,0.5,0.5714285714285714,0.5,0.5714285714285714,0.5,0.5,0.5,0.5714285714285714]},\"selected\":{\"id\":\"1097\"},\"selection_policy\":{\"id\":\"1098\"}},\"id\":\"1064\",\"type\":\"ColumnDataSource\"},{\"attributes\":{},\"id\":\"1021\",\"type\":\"PanTool\"},{\"attributes\":{\"line_cap\":\"round\",\"line_color\":\"#711F81\",\"line_width\":3,\"x\":{\"field\":\"x\"},\"y\":{\"field\":\"y\"}},\"id\":\"1082\",\"type\":\"Line\"},{\"attributes\":{\"label\":{\"value\":\"True - C.T.\"},\"renderers\":[{\"id\":\"1039\"}]},\"id\":\"1048\",\"type\":\"LegendItem\"},{\"attributes\":{\"line_alpha\":0.1,\"line_cap\":\"round\",\"line_color\":\"#711F81\",\"line_width\":3,\"x\":{\"field\":\"x\"},\"y\":{\"field\":\"y\"}},\"id\":\"1083\",\"type\":\"Line\"},{\"attributes\":{},\"id\":\"1022\",\"type\":\"WheelZoomTool\"},{\"attributes\":{\"source\":{\"id\":\"1049\"}},\"id\":\"1054\",\"type\":\"CDSView\"},{\"attributes\":{\"data\":{\"x\":[1,2,3,4,5,6,7,8,9,10,11,12,13,14,15,16,17,18,19,20,21,22,23,24,25,26,27,28,29,30,31,32,33,34,35,36,37,38,39,40,41,42,43,44,45,46,47,48,49,50,51,52,53,54,55,56,57,58,59,60,61,62,63,64,65,66,67,68,69,70,71,72,73,74,75,76,77,78,79,80,81,82,83,84,85,86,87,88,89,90,91,92,93,94,95,96,97,98,99,100],\"y\":[0.3333333333333333,0.16666666666666666,0.3333333333333333,0.25,0.25,0.25,0.25,0.25,0.25,0.25,0.25,0.25,0.25,0.25,0.25,0.25,0.25,0.25,0.16666666666666666,0.25,0.16666666666666666,0.25,0.25,0.25,0.25,0.25,0.25,0.25,0.25,0.25,0.25,0.25,0.25,0.25,0.25,0.25,0.25,0.25,0.25,0.25,0.25,0.25,0.25,0.25,0.25,0.25,0.25,0.25,0.25,0.25,0.25,0.25,0.25,0.25,0.25,0.25,0.25,0.25,0.25,0.25,0.25,0.25,0.25,0.25,0.25,0.25,0.25,0.25,0.25,0.25,0.25,0.25,0.25,0.25,0.25,0.25,0.25,0.25,0.25,0.25,0.25,0.25,0.25,0.25,0.25,0.25,0.25,0.25,0.25,0.25,0.25,0.25,0.25,0.25,0.25,0.25,0.25,0.25,0.25,0.25]},\"selected\":{\"id\":\"1118\"},\"selection_policy\":{\"id\":\"1119\"}},\"id\":\"1081\",\"type\":\"ColumnDataSource\"},{\"attributes\":{\"below\":[{\"id\":\"1013\"}],\"center\":[{\"id\":\"1016\"},{\"id\":\"1020\"},{\"id\":\"1047\"}],\"left\":[{\"id\":\"1017\"}],\"plot_height\":400,\"renderers\":[{\"id\":\"1039\"},{\"id\":\"1053\"},{\"id\":\"1068\"},{\"id\":\"1085\"}],\"title\":{\"id\":\"1003\"},\"toolbar\":{\"id\":\"1028\"},\"x_range\":{\"id\":\"1005\"},\"x_scale\":{\"id\":\"1009\"},\"y_range\":{\"id\":\"1007\"},\"y_scale\":{\"id\":\"1011\"}},\"id\":\"1002\",\"subtype\":\"Figure\",\"type\":\"Plot\"},{\"attributes\":{\"overlay\":{\"id\":\"1027\"}},\"id\":\"1023\",\"type\":\"BoxZoomTool\"},{\"attributes\":{},\"id\":\"1005\",\"type\":\"DataRange1d\"},{\"attributes\":{},\"id\":\"1009\",\"type\":\"LinearScale\"},{\"attributes\":{\"data_source\":{\"id\":\"1081\"},\"glyph\":{\"id\":\"1082\"},\"hover_glyph\":null,\"muted_glyph\":{\"id\":\"1084\"},\"nonselection_glyph\":{\"id\":\"1083\"},\"selection_glyph\":null,\"view\":{\"id\":\"1086\"}},\"id\":\"1085\",\"type\":\"GlyphRenderer\"},{\"attributes\":{},\"id\":\"1024\",\"type\":\"SaveTool\"},{\"attributes\":{\"line_alpha\":0.2,\"line_cap\":\"round\",\"line_color\":\"#FC9366\",\"line_width\":3,\"x\":{\"field\":\"x\"},\"y\":{\"field\":\"y\"}},\"id\":\"1052\",\"type\":\"Line\"},{\"attributes\":{},\"id\":\"1011\",\"type\":\"LinearScale\"},{\"attributes\":{},\"id\":\"1061\",\"type\":\"Selection\"},{\"attributes\":{},\"id\":\"1007\",\"type\":\"DataRange1d\"},{\"attributes\":{},\"id\":\"1025\",\"type\":\"ResetTool\"},{\"attributes\":{\"source\":{\"id\":\"1081\"}},\"id\":\"1086\",\"type\":\"CDSView\"},{\"attributes\":{\"line_cap\":\"round\",\"line_color\":\"#430F75\",\"line_width\":3,\"x\":{\"field\":\"x\"},\"y\":{\"field\":\"y\"}},\"id\":\"1065\",\"type\":\"Line\"},{\"attributes\":{\"label\":{\"value\":\"True - E.B.\"},\"renderers\":[{\"id\":\"1053\"}]},\"id\":\"1063\",\"type\":\"LegendItem\"},{\"attributes\":{},\"id\":\"1026\",\"type\":\"HelpTool\"},{\"attributes\":{\"line_alpha\":0.2,\"line_cap\":\"round\",\"line_color\":\"#711F81\",\"line_width\":3,\"x\":{\"field\":\"x\"},\"y\":{\"field\":\"y\"}},\"id\":\"1084\",\"type\":\"Line\"},{\"attributes\":{},\"id\":\"1062\",\"type\":\"UnionRenderers\"},{\"attributes\":{\"text\":\"Hyper parameter search - Confusion parameters plot\"},\"id\":\"1003\",\"type\":\"Title\"},{\"attributes\":{},\"id\":\"1097\",\"type\":\"Selection\"},{\"attributes\":{},\"id\":\"1118\",\"type\":\"Selection\"},{\"attributes\":{\"line_cap\":\"round\",\"line_color\":\"#F0605D\",\"line_width\":3,\"x\":{\"field\":\"x\"},\"y\":{\"field\":\"y\"}},\"id\":\"1036\",\"type\":\"Line\"},{\"attributes\":{\"click_policy\":\"mute\",\"items\":[{\"id\":\"1048\"},{\"id\":\"1063\"},{\"id\":\"1080\"},{\"id\":\"1099\"}]},\"id\":\"1047\",\"type\":\"Legend\"},{\"attributes\":{\"axis_label\":\"n_estimators\",\"formatter\":{\"id\":\"1042\"},\"ticker\":{\"id\":\"1014\"}},\"id\":\"1013\",\"type\":\"LinearAxis\"}],\"root_ids\":[\"1104\"]},\"title\":\"Bokeh Application\",\"version\":\"2.0.1\"}};\n",
       "  var render_items = [{\"docid\":\"56afd0f1-82d6-4d61-a4bd-ee19fe8e6928\",\"root_ids\":[\"1104\"],\"roots\":{\"1104\":\"4b0b5327-6f92-432f-8ebb-6439527f449e\"}}];\n",
       "  root.Bokeh.embed.embed_items_notebook(docs_json, render_items);\n",
       "\n",
       "  }\n",
       "  if (root.Bokeh !== undefined) {\n",
       "    embed_document(root);\n",
       "  } else {\n",
       "    var attempts = 0;\n",
       "    var timer = setInterval(function(root) {\n",
       "      if (root.Bokeh !== undefined) {\n",
       "        clearInterval(timer);\n",
       "        embed_document(root);\n",
       "      } else {\n",
       "        attempts++;\n",
       "        if (attempts > 100) {\n",
       "          clearInterval(timer);\n",
       "          console.log(\"Bokeh: ERROR: Unable to run BokehJS code because BokehJS library is missing\");\n",
       "        }\n",
       "      }\n",
       "    }, 10, root)\n",
       "  }\n",
       "})(window);"
      ],
      "application/vnd.bokehjs_exec.v0+json": ""
     },
     "metadata": {
      "application/vnd.bokehjs_exec.v0+json": {
       "id": "1104"
      }
     },
     "output_type": "display_data"
    }
   ],
   "source": [
    "from utils import *\n",
    "\n",
    "# Line plot each confidence matrix parameter\n",
    "x_data = [n_estimators, n_estimators, n_estimators, n_estimators]\n",
    "y_data = [plot_vals['true']['confirmed targets'],\n",
    "          plot_vals['true']['eclipsing binaries'],\n",
    "          plot_vals['false']['confirmed targets'],\n",
    "          plot_vals['false']['eclipsing binaries']]\n",
    "legends= ['True - C.T.', 'True - E.B.', 'False - C.T.', 'False - E.B.']\n",
    "colors = [6, 7, 2, 3]\n",
    "\n",
    "p = visual.multline_plot(x_data, y_data,\n",
    "                         legend_label=legends, \n",
    "                         title='Hyper parameter search - Confusion parameters plot',\n",
    "                         color_index=colors,\n",
    "                         y_axis={'label': 'Proportion'},\n",
    "                         x_axis={'label': 'n_estimators'})\n",
    "visual.show_plot(p)"
   ]
  },
  {
   "cell_type": "markdown",
   "metadata": {},
   "source": [
    "### Train model\n",
    "\n",
    "After running the hyper parameter search we can create a model with the best defined hyper parameters, or setup parameters, and consolidate the model in to the best version for further performance analysis. The model is saved on a particular variable, such as `freq_clf` to be further used in some vote chain model, if further necessary. \n",
    "\n",
    "> *One interesting result from the above result, is that the best compromise result happens at the $n_x = 5$ not on $n_x=4$ as it seems. Even though for the $n_x=4$ the algorithm is able to get all the exo planets, the compromise on having a confidence of only 66% for the eclipsing binaries classification (classifier close to a coin flipper to classify eclipsing binaries), doesn't allow us to select $n_x=4$. Therefore the best trade-off on both classes happens at $n_x=5$.* "
   ]
  },
  {
   "cell_type": "code",
   "execution_count": 8,
   "metadata": {},
   "outputs": [
    {
     "data": {
      "text/plain": [
       "XGBRFClassifier(base_score=0.5, booster=None, colsample_bylevel=1,\n",
       "                colsample_bynode=0.8, colsample_bytree=1, gamma=0, gpu_id=-1,\n",
       "                importance_type='gain', interaction_constraints=None,\n",
       "                learning_rate=1, max_delta_step=0, max_depth=6,\n",
       "                min_child_weight=1, missing=nan, monotone_constraints=None,\n",
       "                n_estimators=4, n_jobs=0, num_parallel_tree=4,\n",
       "                objective='binary:logistic', random_state=0, reg_alpha=0,\n",
       "                reg_lambda=1e-05, scale_pos_weight=1, subsample=0.8,\n",
       "                tree_method=None, validate_parameters=False, verbosity=0)"
      ]
     },
     "execution_count": 8,
     "metadata": {},
     "output_type": "execute_result"
    }
   ],
   "source": [
    "# XGBoost Classifier model parameters\n",
    "param_dist = {\n",
    "    'verbosity': 0,\n",
    "    'objective':'binary:logistic', \n",
    "    'n_estimators' : 4\n",
    "}\n",
    "\n",
    "# Create the model classifier\n",
    "freq_clf = xgb.XGBRFClassifier(**param_dist)\n",
    "\n",
    "# Train the model\n",
    "freq_clf.fit(X_train, y_train,\n",
    "              eval_set=[\n",
    "                (X_train, y_train), \n",
    "                (X_test, y_test)\n",
    "              ],\n",
    "              eval_metric='logloss',\n",
    "              verbose=False)"
   ]
  },
  {
   "cell_type": "markdown",
   "metadata": {},
   "source": [
    "### Results\n",
    "\n",
    "In this part it is presented the results from the classification algorithm. Both regarding the data visualization and the model classification quality. "
   ]
  },
  {
   "cell_type": "code",
   "execution_count": 9,
   "metadata": {},
   "outputs": [
    {
     "name": "stdout",
     "output_type": "stream",
     "text": [
      "{ 'validation_0': {'logloss': [0.296643]},\n",
      "  'validation_1': {'logloss': [0.695378]}}\n"
     ]
    }
   ],
   "source": [
    "import pprint\n",
    "pp = pprint.PrettyPrinter(indent=2)\n",
    "\n",
    "pp.pprint(freq_clf.evals_result())"
   ]
  },
  {
   "cell_type": "code",
   "execution_count": 10,
   "metadata": {},
   "outputs": [
    {
     "data": {
      "image/png": "[encoded data removed]",
      "text/plain": [
       "<Figure size 432x288 with 2 Axes>"
      ]
     },
     "metadata": {
      "needs_background": "light"
     },
     "output_type": "display_data"
    }
   ],
   "source": [
    "import matplotlib.pyplot as plt\n",
    "from sklearn.metrics import plot_confusion_matrix\n",
    "\n",
    "disp = plot_confusion_matrix(freq_clf, X_test, y_test,\n",
    "                             display_labels=le_freq.classes_,\n",
    "                             cmap=plt.cm.Blues,\n",
    "                             normalize='true')\n",
    "disp.ax_.set_title('Periodogram Classifier - Confusion matrix')\n",
    "plt.show()"
   ]
  },
  {
   "cell_type": "markdown",
   "metadata": {},
   "source": [
    "#### Comments\n",
    "\n",
    "From this results it is possible to see that the classifier using periodogram amplitudes can get some interesting knowledge on the eclipsing binaries classification, but could not extract any information to classify properly the confirmed targets. It is almost as if the model is blind when an exo planet periodogram is presented as feature to the algorithm. "
   ]
  },
  {
   "cell_type": "markdown",
   "metadata": {},
   "source": [
    "## Naive Bayes likelihood\n",
    "\n",
    "Here we will read the Naive Bayes model parameters estimated for each light curve and use this information as feature for the xgBoost classifier. To start this approach, we must first read the Bayes features saved from last step:"
   ]
  },
  {
   "cell_type": "code",
   "execution_count": 11,
   "metadata": {},
   "outputs": [
    {
     "data": {
      "text/plain": [
       "dict_keys(['features', 'labels'])"
      ]
     },
     "execution_count": 11,
     "metadata": {},
     "output_type": "execute_result"
    }
   ],
   "source": [
    "import pickle \n",
    "\n",
    "file_name = './features/bayes_data/nx_6/bayes_data.pkl'\n",
    "with open(file_name, 'rb') as file:\n",
    "    bayes_data = pickle.load(file)\n",
    "bayes_data.keys()"
   ]
  },
  {
   "cell_type": "markdown",
   "metadata": {},
   "source": [
    "### Manipulate features\n",
    "\n",
    "After reading the data, it is necessary to create the classical regression structure model in the format $Y = f\\left(\\Theta, X\\right)$, normalize the feature data and encode any possible label data into numerical classes. This is just the preparation for the machine leaning algorithm to guarantee that the provided info is properlly designed for any machine learning classical form."
   ]
  },
  {
   "cell_type": "code",
   "execution_count": 12,
   "metadata": {},
   "outputs": [],
   "source": [
    "import numpy as np\n",
    "from sklearn import preprocessing\n",
    "\n",
    "# Create the label encoder\n",
    "le_bayes = preprocessing.LabelEncoder()\n",
    "le_bayes.fit(bayes_data['labels'])\n",
    "\n",
    "# Define the regression model\n",
    "regressors = preprocessing.normalize(bayes_data['features']['params'])\n",
    "outputs = le_bayes.transform(bayes_data['labels'])"
   ]
  },
  {
   "cell_type": "markdown",
   "metadata": {},
   "source": [
    "### Train-test data split\n",
    "\n",
    "Next it is necessary to segregate the data into a set for validation and one for trainning the model."
   ]
  },
  {
   "cell_type": "code",
   "execution_count": 13,
   "metadata": {},
   "outputs": [],
   "source": [
    "from sklearn.model_selection import train_test_split\n",
    "\n",
    "X_train, X_test, y_train, y_test = train_test_split( \n",
    "    regressors, outputs, test_size=0.33, random_state=42)"
   ]
  },
  {
   "cell_type": "markdown",
   "metadata": {},
   "source": [
    "### Hyper tunning\n",
    "\n",
    "We could consider tunning the model hyper parameters to answer questions such as:\n",
    "\n",
    "- Wich value of `n_estimators` is the best for this model and data?\n",
    "- Wich cost function is the best to be selected as `objective` for this model?\n",
    "\n",
    "We could do a hyper search, to find the best hyper parameters for this model, automating the hyper parameter selection. There are several already builded algorithms to optimize this parameter search, and build find with high performance the best parameters, provided a set of possible values. But, to understand what those algorithms actually does, we could once build our own search algorithm...\n",
    "\n",
    "As an example, lets run a first handly defined hyper parameter tunning using the confusion matrix of the model:"
   ]
  },
  {
   "cell_type": "code",
   "execution_count": 14,
   "metadata": {},
   "outputs": [],
   "source": [
    "import xgboost as xgb\n",
    "from sklearn.metrics import confusion_matrix\n",
    "\n",
    "# Define the model parameters \n",
    "param_dist = {\n",
    "    'objective':'binary:logistic', \n",
    "    'n_estimators' : 11\n",
    "}\n",
    "\n",
    "# Create the range parameters to \n",
    "# search\n",
    "n_estimators = [ k+1 for k in range(100)]\n",
    "\n",
    "# Create the plotting variable\n",
    "plot_vals = {\n",
    "    'true': {\n",
    "        'confirmed targets': [],\n",
    "        'eclipsing binaries': [],\n",
    "    },\n",
    "    'false': {\n",
    "        'confirmed targets': [],\n",
    "        'eclipsing binaries': [],\n",
    "    }\n",
    "}\n",
    "\n",
    "# Estimate and validate each candidate\n",
    "for opt in n_estimators:\n",
    "    # Update the model parameters\n",
    "    param_dist['n_estimators'] = opt\n",
    "    # Create the xgBoost classifier\n",
    "    clfs = xgb.XGBRFClassifier(**param_dist)\n",
    "    # Fit the model to the data\n",
    "    clfs.fit(X_train, y_train,\n",
    "            eval_metric='logloss',\n",
    "            verbose=True)\n",
    "    # Estimate the test output\n",
    "    y_pred = clfs.predict(X_test)\n",
    "    # Compute the confusion matrix\n",
    "    conf_mat = confusion_matrix(\n",
    "        y_test, y_pred,\n",
    "        normalize='true')\n",
    "    # Save the confusion matrix\n",
    "    plot_vals['true']['confirmed targets'].append(conf_mat[0,0])\n",
    "    plot_vals['true']['eclipsing binaries'].append(conf_mat[1,1])\n",
    "    plot_vals['false']['confirmed targets'].append(conf_mat[0,1])\n",
    "    plot_vals['false']['eclipsing binaries'].append(conf_mat[1,0])"
   ]
  },
  {
   "cell_type": "code",
   "execution_count": 15,
   "metadata": {},
   "outputs": [
    {
     "data": {
      "text/html": [
       "\n",
       "\n",
       "\n",
       "\n",
       "\n",
       "\n",
       "  <div class=\"bk-root\" id=\"465af80f-e1ef-414d-acbc-83d9d9b61b6c\" data-root-id=\"1312\"></div>\n"
      ]
     },
     "metadata": {},
     "output_type": "display_data"
    },
    {
     "data": {
      "application/javascript": [
       "(function(root) {\n",
       "  function embed_document(root) {\n",
       "    \n",
       "  var docs_json = {\"0da08d88-6498-4298-82e6-769866eae92d\":{\"roots\":{\"references\":[{\"attributes\":{\"children\":[{\"id\":\"1210\"}]},\"id\":\"1312\",\"type\":\"Column\"},{\"attributes\":{\"data\":{\"x\":[1,2,3,4,5,6,7,8,9,10,11,12,13,14,15,16,17,18,19,20,21,22,23,24,25,26,27,28,29,30,31,32,33,34,35,36,37,38,39,40,41,42,43,44,45,46,47,48,49,50,51,52,53,54,55,56,57,58,59,60,61,62,63,64,65,66,67,68,69,70,71,72,73,74,75,76,77,78,79,80,81,82,83,84,85,86,87,88,89,90,91,92,93,94,95,96,97,98,99,100],\"y\":[0.2857142857142857,0.5,0.5,0.5714285714285714,0.5714285714285714,0.42857142857142855,0.5714285714285714,0.5714285714285714,0.5714285714285714,0.5714285714285714,0.5714285714285714,0.5714285714285714,0.5714285714285714,0.5714285714285714,0.5714285714285714,0.5714285714285714,0.5714285714285714,0.5,0.5,0.5,0.5,0.5,0.5,0.5,0.42857142857142855,0.42857142857142855,0.42857142857142855,0.42857142857142855,0.42857142857142855,0.42857142857142855,0.5,0.5,0.5,0.5,0.5,0.5,0.5,0.5,0.5,0.5,0.5,0.5,0.5,0.5,0.42857142857142855,0.42857142857142855,0.42857142857142855,0.42857142857142855,0.5,0.5,0.5,0.42857142857142855,0.42857142857142855,0.42857142857142855,0.42857142857142855,0.42857142857142855,0.42857142857142855,0.42857142857142855,0.42857142857142855,0.42857142857142855,0.42857142857142855,0.42857142857142855,0.42857142857142855,0.42857142857142855,0.5,0.42857142857142855,0.42857142857142855,0.42857142857142855,0.5,0.5,0.5,0.5,0.5,0.42857142857142855,0.42857142857142855,0.42857142857142855,0.42857142857142855,0.42857142857142855,0.42857142857142855,0.42857142857142855,0.42857142857142855,0.42857142857142855,0.42857142857142855,0.42857142857142855,0.42857142857142855,0.42857142857142855,0.42857142857142855,0.42857142857142855,0.42857142857142855,0.42857142857142855,0.42857142857142855,0.42857142857142855,0.42857142857142855,0.42857142857142855,0.42857142857142855,0.42857142857142855,0.42857142857142855,0.42857142857142855,0.42857142857142855,0.42857142857142855]},\"selected\":{\"id\":\"1305\"},\"selection_policy\":{\"id\":\"1306\"}},\"id\":\"1272\",\"type\":\"ColumnDataSource\"},{\"attributes\":{\"line_cap\":\"round\",\"line_color\":\"#F0605D\",\"line_width\":3,\"x\":{\"field\":\"x\"},\"y\":{\"field\":\"y\"}},\"id\":\"1244\",\"type\":\"Line\"},{\"attributes\":{\"line_alpha\":0.2,\"line_cap\":\"round\",\"line_color\":\"#F0605D\",\"line_width\":3,\"x\":{\"field\":\"x\"},\"y\":{\"field\":\"y\"}},\"id\":\"1246\",\"type\":\"Line\"},{\"attributes\":{\"line_alpha\":0.1,\"line_cap\":\"round\",\"line_color\":\"#FC9366\",\"line_width\":3,\"x\":{\"field\":\"x\"},\"y\":{\"field\":\"y\"}},\"id\":\"1259\",\"type\":\"Line\"},{\"attributes\":{},\"id\":\"1222\",\"type\":\"BasicTicker\"},{\"attributes\":{},\"id\":\"1226\",\"type\":\"BasicTicker\"},{\"attributes\":{\"line_alpha\":0.1,\"line_cap\":\"round\",\"line_color\":\"#F0605D\",\"line_width\":3,\"x\":{\"field\":\"x\"},\"y\":{\"field\":\"y\"}},\"id\":\"1245\",\"type\":\"Line\"},{\"attributes\":{},\"id\":\"1286\",\"type\":\"Selection\"},{\"attributes\":{\"axis\":{\"id\":\"1225\"},\"dimension\":1,\"grid_line_alpha\":0,\"ticker\":null},\"id\":\"1228\",\"type\":\"Grid\"},{\"attributes\":{},\"id\":\"1287\",\"type\":\"UnionRenderers\"},{\"attributes\":{\"axis_label\":\"Proportion\",\"formatter\":{\"id\":\"1252\"},\"ticker\":{\"id\":\"1226\"}},\"id\":\"1225\",\"type\":\"LinearAxis\"},{\"attributes\":{\"data_source\":{\"id\":\"1272\"},\"glyph\":{\"id\":\"1273\"},\"hover_glyph\":null,\"muted_glyph\":{\"id\":\"1275\"},\"nonselection_glyph\":{\"id\":\"1274\"},\"selection_glyph\":null,\"view\":{\"id\":\"1277\"}},\"id\":\"1276\",\"type\":\"GlyphRenderer\"},{\"attributes\":{\"axis\":{\"id\":\"1221\"},\"band_fill_alpha\":0.05,\"band_fill_color\":\"#000003\",\"grid_line_alpha\":0,\"ticker\":null},\"id\":\"1224\",\"type\":\"Grid\"},{\"attributes\":{},\"id\":\"1219\",\"type\":\"LinearScale\"},{\"attributes\":{},\"id\":\"1269\",\"type\":\"Selection\"},{\"attributes\":{\"data_source\":{\"id\":\"1257\"},\"glyph\":{\"id\":\"1258\"},\"hover_glyph\":null,\"muted_glyph\":{\"id\":\"1260\"},\"nonselection_glyph\":{\"id\":\"1259\"},\"selection_glyph\":null,\"view\":{\"id\":\"1262\"}},\"id\":\"1261\",\"type\":\"GlyphRenderer\"},{\"attributes\":{},\"id\":\"1230\",\"type\":\"WheelZoomTool\"},{\"attributes\":{\"source\":{\"id\":\"1243\"}},\"id\":\"1248\",\"type\":\"CDSView\"},{\"attributes\":{\"line_alpha\":0.2,\"line_cap\":\"round\",\"line_color\":\"#711F81\",\"line_width\":3,\"x\":{\"field\":\"x\"},\"y\":{\"field\":\"y\"}},\"id\":\"1292\",\"type\":\"Line\"},{\"attributes\":{\"callback\":null},\"id\":\"1310\",\"type\":\"HoverTool\"},{\"attributes\":{\"line_cap\":\"round\",\"line_color\":\"#711F81\",\"line_width\":3,\"x\":{\"field\":\"x\"},\"y\":{\"field\":\"y\"}},\"id\":\"1290\",\"type\":\"Line\"},{\"attributes\":{\"label\":{\"value\":\"True - E.B.\"},\"renderers\":[{\"id\":\"1261\"}]},\"id\":\"1271\",\"type\":\"LegendItem\"},{\"attributes\":{\"line_alpha\":0.2,\"line_cap\":\"round\",\"line_color\":\"#FC9366\",\"line_width\":3,\"x\":{\"field\":\"x\"},\"y\":{\"field\":\"y\"}},\"id\":\"1260\",\"type\":\"Line\"},{\"attributes\":{\"label\":{\"value\":\"False - E.B.\"},\"renderers\":[{\"id\":\"1293\"}]},\"id\":\"1307\",\"type\":\"LegendItem\"},{\"attributes\":{},\"id\":\"1305\",\"type\":\"Selection\"},{\"attributes\":{},\"id\":\"1342\",\"type\":\"UnionRenderers\"},{\"attributes\":{\"data_source\":{\"id\":\"1243\"},\"glyph\":{\"id\":\"1244\"},\"hover_glyph\":null,\"muted_glyph\":{\"id\":\"1246\"},\"nonselection_glyph\":{\"id\":\"1245\"},\"selection_glyph\":null,\"view\":{\"id\":\"1248\"}},\"id\":\"1247\",\"type\":\"GlyphRenderer\"},{\"attributes\":{\"bottom_units\":\"screen\",\"fill_alpha\":0.5,\"fill_color\":\"lightgrey\",\"left_units\":\"screen\",\"level\":\"overlay\",\"line_alpha\":1.0,\"line_color\":\"black\",\"line_dash\":[4,4],\"line_width\":2,\"render_mode\":\"css\",\"right_units\":\"screen\",\"top_units\":\"screen\"},\"id\":\"1235\",\"type\":\"BoxAnnotation\"},{\"attributes\":{\"below\":[{\"id\":\"1221\"}],\"center\":[{\"id\":\"1224\"},{\"id\":\"1228\"},{\"id\":\"1255\"}],\"left\":[{\"id\":\"1225\"}],\"plot_height\":400,\"renderers\":[{\"id\":\"1247\"},{\"id\":\"1261\"},{\"id\":\"1276\"},{\"id\":\"1293\"}],\"title\":{\"id\":\"1211\"},\"toolbar\":{\"id\":\"1236\"},\"x_range\":{\"id\":\"1213\"},\"x_scale\":{\"id\":\"1217\"},\"y_range\":{\"id\":\"1215\"},\"y_scale\":{\"id\":\"1219\"}},\"id\":\"1210\",\"subtype\":\"Figure\",\"type\":\"Plot\"},{\"attributes\":{\"overlay\":{\"id\":\"1334\"}},\"id\":\"1308\",\"type\":\"LassoSelectTool\"},{\"attributes\":{\"active_drag\":\"auto\",\"active_inspect\":\"auto\",\"active_multi\":null,\"active_scroll\":\"auto\",\"active_tap\":\"auto\",\"tools\":[{\"id\":\"1229\"},{\"id\":\"1230\"},{\"id\":\"1231\"},{\"id\":\"1232\"},{\"id\":\"1233\"},{\"id\":\"1234\"},{\"id\":\"1308\"},{\"id\":\"1310\"}]},\"id\":\"1236\",\"type\":\"Toolbar\"},{\"attributes\":{\"label\":{\"value\":\"False - C.T.\"},\"renderers\":[{\"id\":\"1276\"}]},\"id\":\"1288\",\"type\":\"LegendItem\"},{\"attributes\":{},\"id\":\"1306\",\"type\":\"UnionRenderers\"},{\"attributes\":{\"data\":{\"x\":[1,2,3,4,5,6,7,8,9,10,11,12,13,14,15,16,17,18,19,20,21,22,23,24,25,26,27,28,29,30,31,32,33,34,35,36,37,38,39,40,41,42,43,44,45,46,47,48,49,50,51,52,53,54,55,56,57,58,59,60,61,62,63,64,65,66,67,68,69,70,71,72,73,74,75,76,77,78,79,80,81,82,83,84,85,86,87,88,89,90,91,92,93,94,95,96,97,98,99,100],\"y\":[0.8333333333333334,0.75,1.0,0.9166666666666666,0.9166666666666666,0.8333333333333334,0.8333333333333334,0.8333333333333334,0.8333333333333334,0.9166666666666666,0.8333333333333334,0.9166666666666666,0.9166666666666666,0.9166666666666666,0.9166666666666666,0.9166666666666666,0.9166666666666666,0.9166666666666666,0.9166666666666666,0.9166666666666666,0.9166666666666666,0.9166666666666666,0.9166666666666666,0.9166666666666666,0.9166666666666666,0.9166666666666666,0.9166666666666666,0.9166666666666666,0.9166666666666666,0.9166666666666666,0.75,0.75,0.75,0.75,0.75,0.75,0.75,0.75,0.75,0.75,0.75,0.75,0.75,0.75,0.75,0.75,0.75,0.75,0.8333333333333334,0.8333333333333334,0.8333333333333334,0.75,0.75,0.8333333333333334,0.8333333333333334,0.75,0.8333333333333334,0.8333333333333334,0.8333333333333334,0.8333333333333334,0.75,0.75,0.75,0.75,0.75,0.75,0.75,0.8333333333333334,0.75,0.8333333333333334,0.8333333333333334,0.75,0.8333333333333334,0.8333333333333334,0.75,0.75,0.75,0.75,0.8333333333333334,0.8333333333333334,0.8333333333333334,0.8333333333333334,0.8333333333333334,0.8333333333333334,0.75,0.8333333333333334,0.8333333333333334,0.8333333333333334,0.8333333333333334,0.8333333333333334,0.75,0.8333333333333334,0.8333333333333334,0.8333333333333334,0.75,0.75,0.75,0.75,0.8333333333333334,0.8333333333333334]},\"selected\":{\"id\":\"1286\"},\"selection_policy\":{\"id\":\"1287\"}},\"id\":\"1257\",\"type\":\"ColumnDataSource\"},{\"attributes\":{},\"id\":\"1250\",\"type\":\"BasicTickFormatter\"},{\"attributes\":{},\"id\":\"1229\",\"type\":\"PanTool\"},{\"attributes\":{\"axis_label\":\"n_estimators\",\"formatter\":{\"id\":\"1250\"},\"ticker\":{\"id\":\"1222\"}},\"id\":\"1221\",\"type\":\"LinearAxis\"},{\"attributes\":{\"source\":{\"id\":\"1272\"}},\"id\":\"1277\",\"type\":\"CDSView\"},{\"attributes\":{\"source\":{\"id\":\"1289\"}},\"id\":\"1294\",\"type\":\"CDSView\"},{\"attributes\":{\"fill_alpha\":0.5,\"fill_color\":\"lightgrey\",\"level\":\"overlay\",\"line_alpha\":1.0,\"line_color\":\"black\",\"line_dash\":[4,4],\"line_width\":2,\"xs_units\":\"screen\",\"ys_units\":\"screen\"},\"id\":\"1334\",\"type\":\"PolyAnnotation\"},{\"attributes\":{},\"id\":\"1213\",\"type\":\"DataRange1d\"},{\"attributes\":{},\"id\":\"1252\",\"type\":\"BasicTickFormatter\"},{\"attributes\":{},\"id\":\"1341\",\"type\":\"Selection\"},{\"attributes\":{\"click_policy\":\"mute\",\"items\":[{\"id\":\"1256\"},{\"id\":\"1271\"},{\"id\":\"1288\"},{\"id\":\"1307\"}]},\"id\":\"1255\",\"type\":\"Legend\"},{\"attributes\":{\"text\":\"Hyper parameter search - Confusion parameters plot\"},\"id\":\"1211\",\"type\":\"Title\"},{\"attributes\":{\"overlay\":{\"id\":\"1235\"}},\"id\":\"1231\",\"type\":\"BoxZoomTool\"},{\"attributes\":{\"data\":{\"x\":[1,2,3,4,5,6,7,8,9,10,11,12,13,14,15,16,17,18,19,20,21,22,23,24,25,26,27,28,29,30,31,32,33,34,35,36,37,38,39,40,41,42,43,44,45,46,47,48,49,50,51,52,53,54,55,56,57,58,59,60,61,62,63,64,65,66,67,68,69,70,71,72,73,74,75,76,77,78,79,80,81,82,83,84,85,86,87,88,89,90,91,92,93,94,95,96,97,98,99,100],\"y\":[0.7142857142857143,0.5,0.5,0.42857142857142855,0.42857142857142855,0.5714285714285714,0.42857142857142855,0.42857142857142855,0.42857142857142855,0.42857142857142855,0.42857142857142855,0.42857142857142855,0.42857142857142855,0.42857142857142855,0.42857142857142855,0.42857142857142855,0.42857142857142855,0.5,0.5,0.5,0.5,0.5,0.5,0.5,0.5714285714285714,0.5714285714285714,0.5714285714285714,0.5714285714285714,0.5714285714285714,0.5714285714285714,0.5,0.5,0.5,0.5,0.5,0.5,0.5,0.5,0.5,0.5,0.5,0.5,0.5,0.5,0.5714285714285714,0.5714285714285714,0.5714285714285714,0.5714285714285714,0.5,0.5,0.5,0.5714285714285714,0.5714285714285714,0.5714285714285714,0.5714285714285714,0.5714285714285714,0.5714285714285714,0.5714285714285714,0.5714285714285714,0.5714285714285714,0.5714285714285714,0.5714285714285714,0.5714285714285714,0.5714285714285714,0.5,0.5714285714285714,0.5714285714285714,0.5714285714285714,0.5,0.5,0.5,0.5,0.5,0.5714285714285714,0.5714285714285714,0.5714285714285714,0.5714285714285714,0.5714285714285714,0.5714285714285714,0.5714285714285714,0.5714285714285714,0.5714285714285714,0.5714285714285714,0.5714285714285714,0.5714285714285714,0.5714285714285714,0.5714285714285714,0.5714285714285714,0.5714285714285714,0.5714285714285714,0.5714285714285714,0.5714285714285714,0.5714285714285714,0.5714285714285714,0.5714285714285714,0.5714285714285714,0.5714285714285714,0.5714285714285714,0.5714285714285714,0.5714285714285714]},\"selected\":{\"id\":\"1269\"},\"selection_policy\":{\"id\":\"1270\"}},\"id\":\"1243\",\"type\":\"ColumnDataSource\"},{\"attributes\":{},\"id\":\"1232\",\"type\":\"SaveTool\"},{\"attributes\":{\"source\":{\"id\":\"1257\"}},\"id\":\"1262\",\"type\":\"CDSView\"},{\"attributes\":{\"line_alpha\":0.2,\"line_cap\":\"round\",\"line_color\":\"#430F75\",\"line_width\":3,\"x\":{\"field\":\"x\"},\"y\":{\"field\":\"y\"}},\"id\":\"1275\",\"type\":\"Line\"},{\"attributes\":{\"line_alpha\":0.1,\"line_cap\":\"round\",\"line_color\":\"#430F75\",\"line_width\":3,\"x\":{\"field\":\"x\"},\"y\":{\"field\":\"y\"}},\"id\":\"1274\",\"type\":\"Line\"},{\"attributes\":{},\"id\":\"1233\",\"type\":\"ResetTool\"},{\"attributes\":{\"data\":{\"x\":[1,2,3,4,5,6,7,8,9,10,11,12,13,14,15,16,17,18,19,20,21,22,23,24,25,26,27,28,29,30,31,32,33,34,35,36,37,38,39,40,41,42,43,44,45,46,47,48,49,50,51,52,53,54,55,56,57,58,59,60,61,62,63,64,65,66,67,68,69,70,71,72,73,74,75,76,77,78,79,80,81,82,83,84,85,86,87,88,89,90,91,92,93,94,95,96,97,98,99,100],\"y\":[0.16666666666666666,0.25,0.0,0.08333333333333333,0.08333333333333333,0.16666666666666666,0.16666666666666666,0.16666666666666666,0.16666666666666666,0.08333333333333333,0.16666666666666666,0.08333333333333333,0.08333333333333333,0.08333333333333333,0.08333333333333333,0.08333333333333333,0.08333333333333333,0.08333333333333333,0.08333333333333333,0.08333333333333333,0.08333333333333333,0.08333333333333333,0.08333333333333333,0.08333333333333333,0.08333333333333333,0.08333333333333333,0.08333333333333333,0.08333333333333333,0.08333333333333333,0.08333333333333333,0.25,0.25,0.25,0.25,0.25,0.25,0.25,0.25,0.25,0.25,0.25,0.25,0.25,0.25,0.25,0.25,0.25,0.25,0.16666666666666666,0.16666666666666666,0.16666666666666666,0.25,0.25,0.16666666666666666,0.16666666666666666,0.25,0.16666666666666666,0.16666666666666666,0.16666666666666666,0.16666666666666666,0.25,0.25,0.25,0.25,0.25,0.25,0.25,0.16666666666666666,0.25,0.16666666666666666,0.16666666666666666,0.25,0.16666666666666666,0.16666666666666666,0.25,0.25,0.25,0.25,0.16666666666666666,0.16666666666666666,0.16666666666666666,0.16666666666666666,0.16666666666666666,0.16666666666666666,0.25,0.16666666666666666,0.16666666666666666,0.16666666666666666,0.16666666666666666,0.16666666666666666,0.25,0.16666666666666666,0.16666666666666666,0.16666666666666666,0.25,0.25,0.25,0.25,0.16666666666666666,0.16666666666666666]},\"selected\":{\"id\":\"1341\"},\"selection_policy\":{\"id\":\"1342\"}},\"id\":\"1289\",\"type\":\"ColumnDataSource\"},{\"attributes\":{},\"id\":\"1270\",\"type\":\"UnionRenderers\"},{\"attributes\":{},\"id\":\"1234\",\"type\":\"HelpTool\"},{\"attributes\":{\"line_alpha\":0.1,\"line_cap\":\"round\",\"line_color\":\"#711F81\",\"line_width\":3,\"x\":{\"field\":\"x\"},\"y\":{\"field\":\"y\"}},\"id\":\"1291\",\"type\":\"Line\"},{\"attributes\":{},\"id\":\"1215\",\"type\":\"DataRange1d\"},{\"attributes\":{\"line_cap\":\"round\",\"line_color\":\"#FC9366\",\"line_width\":3,\"x\":{\"field\":\"x\"},\"y\":{\"field\":\"y\"}},\"id\":\"1258\",\"type\":\"Line\"},{\"attributes\":{\"line_cap\":\"round\",\"line_color\":\"#430F75\",\"line_width\":3,\"x\":{\"field\":\"x\"},\"y\":{\"field\":\"y\"}},\"id\":\"1273\",\"type\":\"Line\"},{\"attributes\":{\"label\":{\"value\":\"True - C.T.\"},\"renderers\":[{\"id\":\"1247\"}]},\"id\":\"1256\",\"type\":\"LegendItem\"},{\"attributes\":{\"data_source\":{\"id\":\"1289\"},\"glyph\":{\"id\":\"1290\"},\"hover_glyph\":null,\"muted_glyph\":{\"id\":\"1292\"},\"nonselection_glyph\":{\"id\":\"1291\"},\"selection_glyph\":null,\"view\":{\"id\":\"1294\"}},\"id\":\"1293\",\"type\":\"GlyphRenderer\"},{\"attributes\":{},\"id\":\"1217\",\"type\":\"LinearScale\"}],\"root_ids\":[\"1312\"]},\"title\":\"Bokeh Application\",\"version\":\"2.0.1\"}};\n",
       "  var render_items = [{\"docid\":\"0da08d88-6498-4298-82e6-769866eae92d\",\"root_ids\":[\"1312\"],\"roots\":{\"1312\":\"465af80f-e1ef-414d-acbc-83d9d9b61b6c\"}}];\n",
       "  root.Bokeh.embed.embed_items_notebook(docs_json, render_items);\n",
       "\n",
       "  }\n",
       "  if (root.Bokeh !== undefined) {\n",
       "    embed_document(root);\n",
       "  } else {\n",
       "    var attempts = 0;\n",
       "    var timer = setInterval(function(root) {\n",
       "      if (root.Bokeh !== undefined) {\n",
       "        clearInterval(timer);\n",
       "        embed_document(root);\n",
       "      } else {\n",
       "        attempts++;\n",
       "        if (attempts > 100) {\n",
       "          clearInterval(timer);\n",
       "          console.log(\"Bokeh: ERROR: Unable to run BokehJS code because BokehJS library is missing\");\n",
       "        }\n",
       "      }\n",
       "    }, 10, root)\n",
       "  }\n",
       "})(window);"
      ],
      "application/vnd.bokehjs_exec.v0+json": ""
     },
     "metadata": {
      "application/vnd.bokehjs_exec.v0+json": {
       "id": "1312"
      }
     },
     "output_type": "display_data"
    }
   ],
   "source": [
    "from utils import *\n",
    "\n",
    "# Line plot each confidence matrix parameter\n",
    "x_data = [n_estimators, n_estimators, n_estimators, n_estimators]\n",
    "y_data = [plot_vals['true']['confirmed targets'],\n",
    "          plot_vals['true']['eclipsing binaries'],\n",
    "          plot_vals['false']['confirmed targets'],\n",
    "          plot_vals['false']['eclipsing binaries']]\n",
    "legends= ['True - C.T.', 'True - E.B.', 'False - C.T.', 'False - E.B.']\n",
    "colors = [6, 7, 2, 3]\n",
    "\n",
    "p = visual.multline_plot(x_data, y_data,\n",
    "                         legend_label=legends, \n",
    "                         title='Hyper parameter search - Confusion parameters plot',\n",
    "                         color_index=colors,\n",
    "                         y_axis={'label': 'Proportion'},\n",
    "                         x_axis={'label': 'n_estimators'})\n",
    "visual.show_plot(p)"
   ]
  },
  {
   "cell_type": "markdown",
   "metadata": {},
   "source": [
    "### Train model\n",
    "\n",
    "After running the hyper parameter search we can create a model with the best defined hyper parameters, or setup parameters, and consolidate the model in to the best version for further performance analysis. The model is saved on a particular variable, such as `bayes_clf` to be further used in some vote chain model, if further necessary."
   ]
  },
  {
   "cell_type": "code",
   "execution_count": 16,
   "metadata": {},
   "outputs": [
    {
     "data": {
      "text/plain": [
       "XGBRFClassifier(base_score=0.5, booster=None, colsample_bylevel=1,\n",
       "                colsample_bynode=0.8, colsample_bytree=1, gamma=0, gpu_id=-1,\n",
       "                importance_type='gain', interaction_constraints=None,\n",
       "                learning_rate=1, max_delta_step=0, max_depth=6,\n",
       "                min_child_weight=1, missing=nan, monotone_constraints=None,\n",
       "                n_estimators=1, n_jobs=0, num_parallel_tree=1,\n",
       "                objective='binary:logistic', random_state=0, reg_alpha=0,\n",
       "                reg_lambda=1e-05, scale_pos_weight=1, subsample=0.8,\n",
       "                tree_method=None, validate_parameters=False, verbosity=0)"
      ]
     },
     "execution_count": 16,
     "metadata": {},
     "output_type": "execute_result"
    }
   ],
   "source": [
    "# XGBoost Classifier model parameters\n",
    "param_dist = {\n",
    "    'verbosity': 0,\n",
    "    'objective':'binary:logistic', \n",
    "    'n_estimators' : 1\n",
    "}\n",
    "\n",
    "# Create the model classifier\n",
    "bayes_clf = xgb.XGBRFClassifier(**param_dist)\n",
    "\n",
    "# Train the model\n",
    "bayes_clf.fit(X_train, y_train,\n",
    "              eval_set=[\n",
    "                (X_train, y_train), \n",
    "                (X_test, y_test)\n",
    "              ],\n",
    "              eval_metric='logloss',\n",
    "              verbose=False)"
   ]
  },
  {
   "cell_type": "markdown",
   "metadata": {},
   "source": [
    "### Results\n",
    "\n",
    "In this part it is presented the results from the classification algorithm. Both regarding the data visualization and the model classification quality. "
   ]
  },
  {
   "cell_type": "code",
   "execution_count": 17,
   "metadata": {},
   "outputs": [
    {
     "name": "stdout",
     "output_type": "stream",
     "text": [
      "{ 'validation_0': {'logloss': [0.33231]},\n",
      "  'validation_1': {'logloss': [0.530174]}}\n"
     ]
    }
   ],
   "source": [
    "import pprint\n",
    "pp = pprint.PrettyPrinter(indent=2)\n",
    "\n",
    "pp.pprint(bayes_clf.evals_result())"
   ]
  },
  {
   "cell_type": "code",
   "execution_count": 18,
   "metadata": {},
   "outputs": [
    {
     "data": {
      "image/png": "[encoded data removed]",
      "text/plain": [
       "<Figure size 432x288 with 2 Axes>"
      ]
     },
     "metadata": {
      "needs_background": "light"
     },
     "output_type": "display_data"
    }
   ],
   "source": [
    "import matplotlib.pyplot as plt\n",
    "from sklearn.metrics import plot_confusion_matrix\n",
    "\n",
    "disp = plot_confusion_matrix(bayes_clf, X_test, y_test,\n",
    "                             display_labels=le_bayes.classes_,\n",
    "                             cmap=plt.cm.Blues,\n",
    "                             normalize='true')\n",
    "disp.ax_.set_title('Bayes Classifier - Confusion matrix')\n",
    "plt.show()"
   ]
  },
  {
   "cell_type": "markdown",
   "metadata": {},
   "source": [
    "#### Comments\n",
    "\n",
    "From this results it is possible to see that the classifier using Naive Bayes estimated model parameters is able to highly characterize the eclipsing binaries, and has acceptable classification performance for the confirmed targets."
   ]
  },
  {
   "cell_type": "markdown",
   "metadata": {},
   "source": [
    "---\n",
    "\n",
    "## Hidden Markov Models\n",
    "\n",
    "Here we use the model estimated from the Hidden Markov Models library, wich is the estimated $A$ matrix, or the so called transition probability matrices as feature for the learning classifier. For that we must read the pickle file with the desired features:"
   ]
  },
  {
   "cell_type": "code",
   "execution_count": 19,
   "metadata": {},
   "outputs": [
    {
     "data": {
      "text/plain": [
       "dict_keys(['y', 't', 'labels', 'features'])"
      ]
     },
     "execution_count": 19,
     "metadata": {},
     "output_type": "execute_result"
    }
   ],
   "source": [
    "import pickle \n",
    "\n",
    "file_name = './features/hmm_data/nx_8/hmm_data.pkl'\n",
    "with open(file_name, 'rb') as file:\n",
    "    hmm_data = pickle.load(file)\n",
    "hmm_data.keys()"
   ]
  },
  {
   "cell_type": "markdown",
   "metadata": {},
   "source": [
    "### Manipulate features\n",
    "\n",
    "After reading the data, it is necessary to create the classical regression structure model in the format $Y = f\\left(\\Theta, X\\right)$, normalize the feature data and encode any possible label data into numerical classes. This is just the preparation for the machine leaning algorithm to guarantee that the provided info is properlly designed for any machine learning classical form."
   ]
  },
  {
   "cell_type": "code",
   "execution_count": 20,
   "metadata": {},
   "outputs": [],
   "source": [
    "import numpy as np\n",
    "from sklearn import preprocessing\n",
    "\n",
    "# Encode the label\n",
    "le_hmm = preprocessing.LabelEncoder()\n",
    "le_hmm.fit( hmm_data['labels'] )\n",
    "\n",
    "# Define the model order\n",
    "feat = hmm_data['features']\n",
    "nx = feat['prob_matrix'][0].shape[0]\n",
    "\n",
    "regressors = []\n",
    "for phi in feat['prob_matrix']:\n",
    "    # Reshape the regressor\n",
    "    reg = phi.reshape(nx*nx)\n",
    "    # Add to the regressors\n",
    "    regressors.append(reg)   \n",
    "# Normalize the regressors\n",
    "regressors = preprocessing.normalize(regressors)\n",
    "# Define outputs as encoded variables\n",
    "outputs = le_hmm.transform(hmm_data['labels'])"
   ]
  },
  {
   "cell_type": "markdown",
   "metadata": {},
   "source": [
    "### Train-test data split\n",
    "\n",
    "Next it is necessary to segregate the data into a set for validation and one for trainning the model."
   ]
  },
  {
   "cell_type": "code",
   "execution_count": 21,
   "metadata": {},
   "outputs": [],
   "source": [
    "from sklearn.model_selection import train_test_split\n",
    "\n",
    "X_train, X_test, y_train, y_test = train_test_split( \n",
    "    regressors, outputs, test_size=0.33, random_state=42)"
   ]
  },
  {
   "cell_type": "markdown",
   "metadata": {},
   "source": [
    "### Hyper tunning\n",
    "\n",
    "We could consider tunning the model hyper parameters to answer questions such as:\n",
    "\n",
    "- Wich value of `n_estimators` is the best for this model and data?\n",
    "- Wich cost function is the best to be selected as `objective` for this model?\n",
    "\n",
    "We could do a hyper search, to find the best hyper parameters for this model, automating the hyper parameter selection. There are several already builded algorithms to optimize this parameter search, and build find with high performance the best parameters, provided a set of possible values. But, to understand what those algorithms actually does, we could once build our own search algorithm...\n",
    "\n",
    "As an example, lets run a first handly defined hyper parameter tunning using the confusion matrix of the model:"
   ]
  },
  {
   "cell_type": "code",
   "execution_count": 22,
   "metadata": {},
   "outputs": [],
   "source": [
    "from sklearn.metrics import confusion_matrix\n",
    "\n",
    "n_estimators = [ k+1 for k in range(100)]\n",
    "\n",
    "conf_matrices = []\n",
    "for opt in n_estimators:\n",
    "    # Update the model parameters\n",
    "    param_dist['n_estimators'] = opt\n",
    "    # Create the xgBoost classifier\n",
    "    clfs = xgb.XGBRFClassifier(**param_dist)\n",
    "    # Fit the model to the data\n",
    "    clfs.fit(X_train, y_train,\n",
    "            eval_metric='logloss',\n",
    "            verbose=True)\n",
    "    # Estimate the test output\n",
    "    y_pred = clfs.predict(X_test)\n",
    "    # Compute the confusion matrix\n",
    "    conf_mat = confusion_matrix(\n",
    "        y_test, y_pred,\n",
    "        normalize='true')\n",
    "    # Save the confusion matrix\n",
    "    conf_matrices.append(conf_mat)"
   ]
  },
  {
   "cell_type": "code",
   "execution_count": 23,
   "metadata": {},
   "outputs": [
    {
     "data": {
      "text/html": [
       "\n",
       "\n",
       "\n",
       "\n",
       "\n",
       "\n",
       "  <div class=\"bk-root\" id=\"776ccc41-2b98-47a1-aa8f-1b24e6f98d5b\" data-root-id=\"1535\"></div>\n"
      ]
     },
     "metadata": {},
     "output_type": "display_data"
    },
    {
     "data": {
      "application/javascript": [
       "(function(root) {\n",
       "  function embed_document(root) {\n",
       "    \n",
       "  var docs_json = {\"948ccccc-8ce9-4d48-a518-4a502a260459\":{\"roots\":{\"references\":[{\"attributes\":{\"children\":[{\"id\":\"1433\"}]},\"id\":\"1535\",\"type\":\"Column\"},{\"attributes\":{\"fill_alpha\":0.5,\"fill_color\":\"lightgrey\",\"level\":\"overlay\",\"line_alpha\":1.0,\"line_color\":\"black\",\"line_dash\":[4,4],\"line_width\":2,\"xs_units\":\"screen\",\"ys_units\":\"screen\"},\"id\":\"1572\",\"type\":\"PolyAnnotation\"},{\"attributes\":{\"line_alpha\":0.1,\"line_cap\":\"round\",\"line_color\":\"#FC9366\",\"line_width\":3,\"x\":{\"field\":\"x\"},\"y\":{\"field\":\"y\"}},\"id\":\"1482\",\"type\":\"Line\"},{\"attributes\":{\"line_alpha\":0.2,\"line_cap\":\"round\",\"line_color\":\"#711F81\",\"line_width\":3,\"x\":{\"field\":\"x\"},\"y\":{\"field\":\"y\"}},\"id\":\"1515\",\"type\":\"Line\"},{\"attributes\":{\"data_source\":{\"id\":\"1466\"},\"glyph\":{\"id\":\"1467\"},\"hover_glyph\":null,\"muted_glyph\":{\"id\":\"1469\"},\"nonselection_glyph\":{\"id\":\"1468\"},\"selection_glyph\":null,\"view\":{\"id\":\"1471\"}},\"id\":\"1470\",\"type\":\"GlyphRenderer\"},{\"attributes\":{\"data_source\":{\"id\":\"1512\"},\"glyph\":{\"id\":\"1513\"},\"hover_glyph\":null,\"muted_glyph\":{\"id\":\"1515\"},\"nonselection_glyph\":{\"id\":\"1514\"},\"selection_glyph\":null,\"view\":{\"id\":\"1517\"}},\"id\":\"1516\",\"type\":\"GlyphRenderer\"},{\"attributes\":{\"callback\":null},\"id\":\"1533\",\"type\":\"HoverTool\"},{\"attributes\":{\"line_alpha\":0.2,\"line_cap\":\"round\",\"line_color\":\"#FC9366\",\"line_width\":3,\"x\":{\"field\":\"x\"},\"y\":{\"field\":\"y\"}},\"id\":\"1483\",\"type\":\"Line\"},{\"attributes\":{},\"id\":\"1528\",\"type\":\"Selection\"},{\"attributes\":{},\"id\":\"1580\",\"type\":\"UnionRenderers\"},{\"attributes\":{\"data_source\":{\"id\":\"1480\"},\"glyph\":{\"id\":\"1481\"},\"hover_glyph\":null,\"muted_glyph\":{\"id\":\"1483\"},\"nonselection_glyph\":{\"id\":\"1482\"},\"selection_glyph\":null,\"view\":{\"id\":\"1485\"}},\"id\":\"1484\",\"type\":\"GlyphRenderer\"},{\"attributes\":{\"axis\":{\"id\":\"1448\"},\"dimension\":1,\"grid_line_alpha\":0,\"ticker\":null},\"id\":\"1451\",\"type\":\"Grid\"},{\"attributes\":{},\"id\":\"1452\",\"type\":\"PanTool\"},{\"attributes\":{\"overlay\":{\"id\":\"1458\"}},\"id\":\"1454\",\"type\":\"BoxZoomTool\"},{\"attributes\":{},\"id\":\"1510\",\"type\":\"UnionRenderers\"},{\"attributes\":{},\"id\":\"1529\",\"type\":\"UnionRenderers\"},{\"attributes\":{\"source\":{\"id\":\"1480\"}},\"id\":\"1485\",\"type\":\"CDSView\"},{\"attributes\":{},\"id\":\"1492\",\"type\":\"Selection\"},{\"attributes\":{\"data\":{\"x\":[0,1,2,3,4,5,6,7,8,9,10,11,12,13,14,15,16,17,18,19,20,21,22,23,24,25,26,27,28,29,30,31,32,33,34,35,36,37,38,39,40,41,42,43,44,45,46,47,48,49,50,51,52,53,54,55,56,57,58,59,60,61,62,63,64,65,66,67,68,69,70,71,72,73,74,75,76,77,78,79,80,81,82,83,84,85,86,87,88,89,90,91,92,93,94,95,96,97,98,99],\"y\":[0.25,0.3333333333333333,0.25,0.4166666666666667,0.16666666666666666,0.25,0.25,0.16666666666666666,0.16666666666666666,0.16666666666666666,0.16666666666666666,0.16666666666666666,0.16666666666666666,0.16666666666666666,0.16666666666666666,0.16666666666666666,0.16666666666666666,0.16666666666666666,0.16666666666666666,0.16666666666666666,0.25,0.16666666666666666,0.16666666666666666,0.16666666666666666,0.25,0.16666666666666666,0.16666666666666666,0.16666666666666666,0.16666666666666666,0.16666666666666666,0.16666666666666666,0.16666666666666666,0.16666666666666666,0.16666666666666666,0.16666666666666666,0.16666666666666666,0.16666666666666666,0.16666666666666666,0.16666666666666666,0.16666666666666666,0.16666666666666666,0.16666666666666666,0.16666666666666666,0.16666666666666666,0.16666666666666666,0.25,0.16666666666666666,0.16666666666666666,0.25,0.16666666666666666,0.16666666666666666,0.25,0.25,0.25,0.25,0.25,0.25,0.25,0.25,0.16666666666666666,0.25,0.16666666666666666,0.25,0.16666666666666666,0.25,0.25,0.25,0.25,0.16666666666666666,0.16666666666666666,0.16666666666666666,0.16666666666666666,0.16666666666666666,0.16666666666666666,0.16666666666666666,0.16666666666666666,0.16666666666666666,0.16666666666666666,0.16666666666666666,0.16666666666666666,0.16666666666666666,0.16666666666666666,0.16666666666666666,0.16666666666666666,0.16666666666666666,0.16666666666666666,0.16666666666666666,0.16666666666666666,0.16666666666666666,0.16666666666666666,0.16666666666666666,0.16666666666666666,0.16666666666666666,0.16666666666666666,0.16666666666666666,0.16666666666666666,0.16666666666666666,0.16666666666666666,0.16666666666666666,0.16666666666666666]},\"selected\":{\"id\":\"1579\"},\"selection_policy\":{\"id\":\"1580\"}},\"id\":\"1512\",\"type\":\"ColumnDataSource\"},{\"attributes\":{\"line_alpha\":0.1,\"line_cap\":\"round\",\"line_color\":\"#711F81\",\"line_width\":3,\"x\":{\"field\":\"x\"},\"y\":{\"field\":\"y\"}},\"id\":\"1514\",\"type\":\"Line\"},{\"attributes\":{},\"id\":\"1493\",\"type\":\"UnionRenderers\"},{\"attributes\":{},\"id\":\"1509\",\"type\":\"Selection\"},{\"attributes\":{\"axis\":{\"id\":\"1444\"},\"band_fill_alpha\":0.05,\"band_fill_color\":\"#000003\",\"grid_line_alpha\":0,\"ticker\":null},\"id\":\"1447\",\"type\":\"Grid\"},{\"attributes\":{\"line_cap\":\"round\",\"line_color\":\"#711F81\",\"line_width\":3,\"x\":{\"field\":\"x\"},\"y\":{\"field\":\"y\"}},\"id\":\"1513\",\"type\":\"Line\"},{\"attributes\":{\"bottom_units\":\"screen\",\"fill_alpha\":0.5,\"fill_color\":\"lightgrey\",\"left_units\":\"screen\",\"level\":\"overlay\",\"line_alpha\":1.0,\"line_color\":\"black\",\"line_dash\":[4,4],\"line_width\":2,\"render_mode\":\"css\",\"right_units\":\"screen\",\"top_units\":\"screen\"},\"id\":\"1458\",\"type\":\"BoxAnnotation\"},{\"attributes\":{},\"id\":\"1473\",\"type\":\"BasicTickFormatter\"},{\"attributes\":{\"label\":{\"value\":\"True - E.B.\"},\"renderers\":[{\"id\":\"1484\"}]},\"id\":\"1494\",\"type\":\"LegendItem\"},{\"attributes\":{\"source\":{\"id\":\"1512\"}},\"id\":\"1517\",\"type\":\"CDSView\"},{\"attributes\":{\"text\":\"Hyper parameter search - Confusion plot\"},\"id\":\"1434\",\"type\":\"Title\"},{\"attributes\":{\"active_drag\":\"auto\",\"active_inspect\":\"auto\",\"active_multi\":null,\"active_scroll\":\"auto\",\"active_tap\":\"auto\",\"tools\":[{\"id\":\"1452\"},{\"id\":\"1453\"},{\"id\":\"1454\"},{\"id\":\"1455\"},{\"id\":\"1456\"},{\"id\":\"1457\"},{\"id\":\"1531\"},{\"id\":\"1533\"}]},\"id\":\"1459\",\"type\":\"Toolbar\"},{\"attributes\":{\"line_cap\":\"round\",\"line_color\":\"#F0605D\",\"line_width\":3,\"x\":{\"field\":\"x\"},\"y\":{\"field\":\"y\"}},\"id\":\"1467\",\"type\":\"Line\"},{\"attributes\":{\"line_cap\":\"round\",\"line_color\":\"#430F75\",\"line_width\":3,\"x\":{\"field\":\"x\"},\"y\":{\"field\":\"y\"}},\"id\":\"1496\",\"type\":\"Line\"},{\"attributes\":{\"axis_label\":\"n_estimators\",\"formatter\":{\"id\":\"1473\"},\"ticker\":{\"id\":\"1445\"}},\"id\":\"1444\",\"type\":\"LinearAxis\"},{\"attributes\":{},\"id\":\"1579\",\"type\":\"Selection\"},{\"attributes\":{\"data\":{\"x\":[0,1,2,3,4,5,6,7,8,9,10,11,12,13,14,15,16,17,18,19,20,21,22,23,24,25,26,27,28,29,30,31,32,33,34,35,36,37,38,39,40,41,42,43,44,45,46,47,48,49,50,51,52,53,54,55,56,57,58,59,60,61,62,63,64,65,66,67,68,69,70,71,72,73,74,75,76,77,78,79,80,81,82,83,84,85,86,87,88,89,90,91,92,93,94,95,96,97,98,99],\"y\":[0.35714285714285715,0.5,0.35714285714285715,0.35714285714285715,0.35714285714285715,0.42857142857142855,0.35714285714285715,0.35714285714285715,0.35714285714285715,0.35714285714285715,0.2857142857142857,0.2857142857142857,0.2857142857142857,0.2857142857142857,0.2857142857142857,0.2857142857142857,0.2857142857142857,0.2857142857142857,0.35714285714285715,0.35714285714285715,0.35714285714285715,0.35714285714285715,0.2857142857142857,0.2857142857142857,0.2857142857142857,0.2857142857142857,0.2857142857142857,0.2857142857142857,0.2857142857142857,0.2857142857142857,0.2857142857142857,0.2857142857142857,0.2857142857142857,0.2857142857142857,0.2857142857142857,0.2857142857142857,0.2857142857142857,0.2857142857142857,0.2857142857142857,0.2857142857142857,0.2857142857142857,0.2857142857142857,0.2857142857142857,0.2857142857142857,0.2857142857142857,0.2857142857142857,0.2857142857142857,0.2857142857142857,0.2857142857142857,0.2857142857142857,0.2857142857142857,0.2857142857142857,0.2857142857142857,0.2857142857142857,0.2857142857142857,0.2857142857142857,0.2857142857142857,0.2857142857142857,0.2857142857142857,0.2857142857142857,0.2857142857142857,0.2857142857142857,0.2857142857142857,0.2857142857142857,0.2857142857142857,0.2857142857142857,0.2857142857142857,0.2857142857142857,0.2857142857142857,0.2857142857142857,0.2857142857142857,0.2857142857142857,0.2857142857142857,0.2857142857142857,0.2857142857142857,0.2857142857142857,0.2857142857142857,0.2857142857142857,0.2857142857142857,0.2857142857142857,0.2857142857142857,0.2857142857142857,0.2857142857142857,0.2857142857142857,0.2857142857142857,0.2857142857142857,0.2857142857142857,0.2857142857142857,0.2857142857142857,0.2857142857142857,0.2857142857142857,0.2857142857142857,0.2857142857142857,0.2857142857142857,0.2857142857142857,0.2857142857142857,0.2857142857142857,0.2857142857142857,0.2857142857142857,0.2857142857142857]},\"selected\":{\"id\":\"1528\"},\"selection_policy\":{\"id\":\"1529\"}},\"id\":\"1495\",\"type\":\"ColumnDataSource\"},{\"attributes\":{},\"id\":\"1445\",\"type\":\"BasicTicker\"},{\"attributes\":{\"line_alpha\":0.2,\"line_cap\":\"round\",\"line_color\":\"#F0605D\",\"line_width\":3,\"x\":{\"field\":\"x\"},\"y\":{\"field\":\"y\"}},\"id\":\"1469\",\"type\":\"Line\"},{\"attributes\":{\"line_alpha\":0.1,\"line_cap\":\"round\",\"line_color\":\"#430F75\",\"line_width\":3,\"x\":{\"field\":\"x\"},\"y\":{\"field\":\"y\"}},\"id\":\"1497\",\"type\":\"Line\"},{\"attributes\":{\"data_source\":{\"id\":\"1495\"},\"glyph\":{\"id\":\"1496\"},\"hover_glyph\":null,\"muted_glyph\":{\"id\":\"1498\"},\"nonselection_glyph\":{\"id\":\"1497\"},\"selection_glyph\":null,\"view\":{\"id\":\"1500\"}},\"id\":\"1499\",\"type\":\"GlyphRenderer\"},{\"attributes\":{},\"id\":\"1440\",\"type\":\"LinearScale\"},{\"attributes\":{},\"id\":\"1456\",\"type\":\"ResetTool\"},{\"attributes\":{\"source\":{\"id\":\"1466\"}},\"id\":\"1471\",\"type\":\"CDSView\"},{\"attributes\":{},\"id\":\"1436\",\"type\":\"DataRange1d\"},{\"attributes\":{\"source\":{\"id\":\"1495\"}},\"id\":\"1500\",\"type\":\"CDSView\"},{\"attributes\":{},\"id\":\"1442\",\"type\":\"LinearScale\"},{\"attributes\":{},\"id\":\"1438\",\"type\":\"DataRange1d\"},{\"attributes\":{\"line_cap\":\"round\",\"line_color\":\"#FC9366\",\"line_width\":3,\"x\":{\"field\":\"x\"},\"y\":{\"field\":\"y\"}},\"id\":\"1481\",\"type\":\"Line\"},{\"attributes\":{\"click_policy\":\"mute\",\"items\":[{\"id\":\"1479\"},{\"id\":\"1494\"},{\"id\":\"1511\"},{\"id\":\"1530\"}]},\"id\":\"1478\",\"type\":\"Legend\"},{\"attributes\":{},\"id\":\"1453\",\"type\":\"WheelZoomTool\"},{\"attributes\":{\"line_alpha\":0.1,\"line_cap\":\"round\",\"line_color\":\"#F0605D\",\"line_width\":3,\"x\":{\"field\":\"x\"},\"y\":{\"field\":\"y\"}},\"id\":\"1468\",\"type\":\"Line\"},{\"attributes\":{\"label\":{\"value\":\"False - E.B.\"},\"renderers\":[{\"id\":\"1516\"}]},\"id\":\"1530\",\"type\":\"LegendItem\"},{\"attributes\":{},\"id\":\"1455\",\"type\":\"SaveTool\"},{\"attributes\":{},\"id\":\"1475\",\"type\":\"BasicTickFormatter\"},{\"attributes\":{\"line_alpha\":0.2,\"line_cap\":\"round\",\"line_color\":\"#430F75\",\"line_width\":3,\"x\":{\"field\":\"x\"},\"y\":{\"field\":\"y\"}},\"id\":\"1498\",\"type\":\"Line\"},{\"attributes\":{},\"id\":\"1457\",\"type\":\"HelpTool\"},{\"attributes\":{},\"id\":\"1449\",\"type\":\"BasicTicker\"},{\"attributes\":{\"data\":{\"x\":[0,1,2,3,4,5,6,7,8,9,10,11,12,13,14,15,16,17,18,19,20,21,22,23,24,25,26,27,28,29,30,31,32,33,34,35,36,37,38,39,40,41,42,43,44,45,46,47,48,49,50,51,52,53,54,55,56,57,58,59,60,61,62,63,64,65,66,67,68,69,70,71,72,73,74,75,76,77,78,79,80,81,82,83,84,85,86,87,88,89,90,91,92,93,94,95,96,97,98,99],\"y\":[0.6428571428571429,0.5,0.6428571428571429,0.6428571428571429,0.6428571428571429,0.5714285714285714,0.6428571428571429,0.6428571428571429,0.6428571428571429,0.6428571428571429,0.7142857142857143,0.7142857142857143,0.7142857142857143,0.7142857142857143,0.7142857142857143,0.7142857142857143,0.7142857142857143,0.7142857142857143,0.6428571428571429,0.6428571428571429,0.6428571428571429,0.6428571428571429,0.7142857142857143,0.7142857142857143,0.7142857142857143,0.7142857142857143,0.7142857142857143,0.7142857142857143,0.7142857142857143,0.7142857142857143,0.7142857142857143,0.7142857142857143,0.7142857142857143,0.7142857142857143,0.7142857142857143,0.7142857142857143,0.7142857142857143,0.7142857142857143,0.7142857142857143,0.7142857142857143,0.7142857142857143,0.7142857142857143,0.7142857142857143,0.7142857142857143,0.7142857142857143,0.7142857142857143,0.7142857142857143,0.7142857142857143,0.7142857142857143,0.7142857142857143,0.7142857142857143,0.7142857142857143,0.7142857142857143,0.7142857142857143,0.7142857142857143,0.7142857142857143,0.7142857142857143,0.7142857142857143,0.7142857142857143,0.7142857142857143,0.7142857142857143,0.7142857142857143,0.7142857142857143,0.7142857142857143,0.7142857142857143,0.7142857142857143,0.7142857142857143,0.7142857142857143,0.7142857142857143,0.7142857142857143,0.7142857142857143,0.7142857142857143,0.7142857142857143,0.7142857142857143,0.7142857142857143,0.7142857142857143,0.7142857142857143,0.7142857142857143,0.7142857142857143,0.7142857142857143,0.7142857142857143,0.7142857142857143,0.7142857142857143,0.7142857142857143,0.7142857142857143,0.7142857142857143,0.7142857142857143,0.7142857142857143,0.7142857142857143,0.7142857142857143,0.7142857142857143,0.7142857142857143,0.7142857142857143,0.7142857142857143,0.7142857142857143,0.7142857142857143,0.7142857142857143,0.7142857142857143,0.7142857142857143,0.7142857142857143]},\"selected\":{\"id\":\"1492\"},\"selection_policy\":{\"id\":\"1493\"}},\"id\":\"1466\",\"type\":\"ColumnDataSource\"},{\"attributes\":{\"label\":{\"value\":\"True - C.T.\"},\"renderers\":[{\"id\":\"1470\"}]},\"id\":\"1479\",\"type\":\"LegendItem\"},{\"attributes\":{\"below\":[{\"id\":\"1444\"}],\"center\":[{\"id\":\"1447\"},{\"id\":\"1451\"},{\"id\":\"1478\"}],\"left\":[{\"id\":\"1448\"}],\"plot_height\":400,\"renderers\":[{\"id\":\"1470\"},{\"id\":\"1484\"},{\"id\":\"1499\"},{\"id\":\"1516\"}],\"title\":{\"id\":\"1434\"},\"toolbar\":{\"id\":\"1459\"},\"x_range\":{\"id\":\"1436\"},\"x_scale\":{\"id\":\"1440\"},\"y_range\":{\"id\":\"1438\"},\"y_scale\":{\"id\":\"1442\"}},\"id\":\"1433\",\"subtype\":\"Figure\",\"type\":\"Plot\"},{\"attributes\":{\"data\":{\"x\":[0,1,2,3,4,5,6,7,8,9,10,11,12,13,14,15,16,17,18,19,20,21,22,23,24,25,26,27,28,29,30,31,32,33,34,35,36,37,38,39,40,41,42,43,44,45,46,47,48,49,50,51,52,53,54,55,56,57,58,59,60,61,62,63,64,65,66,67,68,69,70,71,72,73,74,75,76,77,78,79,80,81,82,83,84,85,86,87,88,89,90,91,92,93,94,95,96,97,98,99],\"y\":[0.75,0.6666666666666666,0.75,0.5833333333333334,0.8333333333333334,0.75,0.75,0.8333333333333334,0.8333333333333334,0.8333333333333334,0.8333333333333334,0.8333333333333334,0.8333333333333334,0.8333333333333334,0.8333333333333334,0.8333333333333334,0.8333333333333334,0.8333333333333334,0.8333333333333334,0.8333333333333334,0.75,0.8333333333333334,0.8333333333333334,0.8333333333333334,0.75,0.8333333333333334,0.8333333333333334,0.8333333333333334,0.8333333333333334,0.8333333333333334,0.8333333333333334,0.8333333333333334,0.8333333333333334,0.8333333333333334,0.8333333333333334,0.8333333333333334,0.8333333333333334,0.8333333333333334,0.8333333333333334,0.8333333333333334,0.8333333333333334,0.8333333333333334,0.8333333333333334,0.8333333333333334,0.8333333333333334,0.75,0.8333333333333334,0.8333333333333334,0.75,0.8333333333333334,0.8333333333333334,0.75,0.75,0.75,0.75,0.75,0.75,0.75,0.75,0.8333333333333334,0.75,0.8333333333333334,0.75,0.8333333333333334,0.75,0.75,0.75,0.75,0.8333333333333334,0.8333333333333334,0.8333333333333334,0.8333333333333334,0.8333333333333334,0.8333333333333334,0.8333333333333334,0.8333333333333334,0.8333333333333334,0.8333333333333334,0.8333333333333334,0.8333333333333334,0.8333333333333334,0.8333333333333334,0.8333333333333334,0.8333333333333334,0.8333333333333334,0.8333333333333334,0.8333333333333334,0.8333333333333334,0.8333333333333334,0.8333333333333334,0.8333333333333334,0.8333333333333334,0.8333333333333334,0.8333333333333334,0.8333333333333334,0.8333333333333334,0.8333333333333334,0.8333333333333334,0.8333333333333334,0.8333333333333334]},\"selected\":{\"id\":\"1509\"},\"selection_policy\":{\"id\":\"1510\"}},\"id\":\"1480\",\"type\":\"ColumnDataSource\"},{\"attributes\":{\"label\":{\"value\":\"False - C.T.\"},\"renderers\":[{\"id\":\"1499\"}]},\"id\":\"1511\",\"type\":\"LegendItem\"},{\"attributes\":{\"overlay\":{\"id\":\"1572\"}},\"id\":\"1531\",\"type\":\"LassoSelectTool\"},{\"attributes\":{\"axis_label\":\"Intensity\",\"formatter\":{\"id\":\"1475\"},\"ticker\":{\"id\":\"1449\"}},\"id\":\"1448\",\"type\":\"LinearAxis\"}],\"root_ids\":[\"1535\"]},\"title\":\"Bokeh Application\",\"version\":\"2.0.1\"}};\n",
       "  var render_items = [{\"docid\":\"948ccccc-8ce9-4d48-a518-4a502a260459\",\"root_ids\":[\"1535\"],\"roots\":{\"1535\":\"776ccc41-2b98-47a1-aa8f-1b24e6f98d5b\"}}];\n",
       "  root.Bokeh.embed.embed_items_notebook(docs_json, render_items);\n",
       "\n",
       "  }\n",
       "  if (root.Bokeh !== undefined) {\n",
       "    embed_document(root);\n",
       "  } else {\n",
       "    var attempts = 0;\n",
       "    var timer = setInterval(function(root) {\n",
       "      if (root.Bokeh !== undefined) {\n",
       "        clearInterval(timer);\n",
       "        embed_document(root);\n",
       "      } else {\n",
       "        attempts++;\n",
       "        if (attempts > 100) {\n",
       "          clearInterval(timer);\n",
       "          console.log(\"Bokeh: ERROR: Unable to run BokehJS code because BokehJS library is missing\");\n",
       "        }\n",
       "      }\n",
       "    }, 10, root)\n",
       "  }\n",
       "})(window);"
      ],
      "application/vnd.bokehjs_exec.v0+json": ""
     },
     "metadata": {
      "application/vnd.bokehjs_exec.v0+json": {
       "id": "1535"
      }
     },
     "output_type": "display_data"
    }
   ],
   "source": [
    "from utils import *\n",
    "\n",
    "# Create and organize the plot values\n",
    "plot_vals = {\n",
    "    'true': {\n",
    "        'confirmed targets': [],\n",
    "        'eclipsing binaries': [],\n",
    "    },\n",
    "    'false': {\n",
    "        'confirmed targets': [],\n",
    "        'eclipsing binaries': [],\n",
    "    }\n",
    "}\n",
    "for result in conf_matrices:\n",
    "    plot_vals['true']['confirmed targets'].append(result[0,0])\n",
    "    plot_vals['true']['eclipsing binaries'].append(result[1,1])\n",
    "    plot_vals['false']['confirmed targets'].append(result[0,1])\n",
    "    plot_vals['false']['eclipsing binaries'].append(result[1,0])\n",
    "\n",
    "x_values = range(len(conf_matrices))\n",
    "x_data = [x_values, x_values, x_values, x_values]\n",
    "y_data = [plot_vals['true']['confirmed targets'],\n",
    "          plot_vals['true']['eclipsing binaries'],\n",
    "          plot_vals['false']['confirmed targets'],\n",
    "          plot_vals['false']['eclipsing binaries']]\n",
    "legends= ['True - C.T.', 'True - E.B.', 'False - C.T.', 'False - E.B.']\n",
    "colors = [6, 7, 2, 3]\n",
    "\n",
    "p = visual.multline_plot(x_data, y_data,\n",
    "                         legend_label=legends, \n",
    "                         title='Hyper parameter search - Confusion plot',\n",
    "                         color_index=colors,\n",
    "                         y_axis={'label': 'Intensity'},\n",
    "                         x_axis={'label': 'n_estimators'})\n",
    "visual.show_plot(p)"
   ]
  },
  {
   "cell_type": "markdown",
   "metadata": {},
   "source": [
    "The user might see that the best values for the `n_estimators` parameter is something close to `[4,5,6]`. When we have a range of values, such as here, usually is advisable to use the simpler model, in this case `n_estimators=4`, wich is the value defined before.\n",
    "\n",
    "> *Notice that the value `n_estimators`$=n_x$ defined in the previous step algorithm. Since the hidden markov model is pretty simple such as the classifier. Therefore is possible that the hidden markov model is underfitted, this means that the markov model is to simple to represent the information from the ligt curve, since there is no redundancy on the model. This is infered by checking that `n_estimators`$=n_x$ is the best solution for this problem.*"
   ]
  },
  {
   "cell_type": "markdown",
   "metadata": {},
   "source": [
    "### Train model\n",
    "\n",
    "After running the hyper parameter search we can create a model with the best defined hyper parameters, or setup parameters, and consolidate the model in to the best version for further performance analysis. The model is saved on a particular variable, such as `hmm_clf` to be further used in some vote chain model, if further necessary."
   ]
  },
  {
   "cell_type": "code",
   "execution_count": 24,
   "metadata": {},
   "outputs": [
    {
     "data": {
      "text/plain": [
       "XGBRFClassifier(base_score=0.5, booster=None, colsample_bylevel=1,\n",
       "                colsample_bynode=0.8, colsample_bytree=1, gamma=0, gpu_id=-1,\n",
       "                importance_type='gain', interaction_constraints=None,\n",
       "                learning_rate=1, max_delta_step=0, max_depth=6,\n",
       "                min_child_weight=1, missing=nan, monotone_constraints=None,\n",
       "                n_estimators=5, n_jobs=0, num_parallel_tree=5,\n",
       "                objective='binary:logistic', random_state=0, reg_alpha=0,\n",
       "                reg_lambda=1e-05, scale_pos_weight=1, subsample=0.8,\n",
       "                tree_method=None, validate_parameters=False, verbosity=0)"
      ]
     },
     "execution_count": 24,
     "metadata": {},
     "output_type": "execute_result"
    }
   ],
   "source": [
    "import xgboost as xgb\n",
    "\n",
    "param_dist = {\n",
    "    'verbosity': 0,\n",
    "    'objective':'binary:logistic', \n",
    "    'n_estimators' : 5\n",
    "}\n",
    "\n",
    "hmm_clf = xgb.XGBRFClassifier(**param_dist)\n",
    "\n",
    "hmm_clf.fit(X_train, y_train,\n",
    "            eval_set=[\n",
    "                (X_train, y_train), \n",
    "                (X_test, y_test)\n",
    "            ],\n",
    "            eval_metric='logloss',\n",
    "            verbose=False)"
   ]
  },
  {
   "cell_type": "markdown",
   "metadata": {},
   "source": [
    "### Results\n",
    "\n",
    "Here we include some visualization results for the xgBoost algorithm classification. As the first result, we just print the model eval metrics, here the *log loss* of the model, for both the trainning and testing data."
   ]
  },
  {
   "cell_type": "code",
   "execution_count": 25,
   "metadata": {},
   "outputs": [
    {
     "name": "stdout",
     "output_type": "stream",
     "text": [
      "{ 'validation_0': {'logloss': [0.365735]},\n",
      "  'validation_1': {'logloss': [0.714561]}}\n"
     ]
    }
   ],
   "source": [
    "import pprint\n",
    "pp = pprint.PrettyPrinter(indent=2)\n",
    "\n",
    "evals_result = hmm_clf.evals_result()\n",
    "pp.pprint(evals_result)"
   ]
  },
  {
   "cell_type": "code",
   "execution_count": 26,
   "metadata": {},
   "outputs": [
    {
     "data": {
      "image/png": "[encoded data removed]",
      "text/plain": [
       "<Figure size 432x288 with 2 Axes>"
      ]
     },
     "metadata": {
      "needs_background": "light"
     },
     "output_type": "display_data"
    }
   ],
   "source": [
    "import matplotlib.pyplot as plt\n",
    "from sklearn.metrics import plot_confusion_matrix\n",
    "\n",
    "disp = plot_confusion_matrix(hmm_clf, X_test, y_test,\n",
    "                             display_labels=le_hmm.classes_,\n",
    "                             cmap=plt.cm.Blues,\n",
    "                             normalize='true')\n",
    "disp.ax_.set_title('Hidden Markov Models - Confusion matrix')\n",
    "plt.show()"
   ]
  }
 ],
 "metadata": {
  "kernelspec": {
   "display_name": "Python 3",
   "language": "python",
   "name": "python3"
  },
  "language_info": {
   "codemirror_mode": {
    "name": "ipython",
    "version": 3
   },
   "file_extension": ".py",
   "mimetype": "text/x-python",
   "name": "python",
   "nbconvert_exporter": "python",
   "pygments_lexer": "ipython3",
   "version": "3.7.4"
  }
 },
 "nbformat": 4,
 "nbformat_minor": 4
}
